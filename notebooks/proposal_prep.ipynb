{
 "cells": [
  {
   "cell_type": "markdown",
   "id": "41e0bc03",
   "metadata": {},
   "source": [
    "# Proposal\n",
    "\n",
    "This notebook is used to generate the figures shown in the proposal outline."
   ]
  },
  {
   "cell_type": "code",
   "execution_count": 1,
   "id": "90aab790",
   "metadata": {},
   "outputs": [],
   "source": [
    "%matplotlib widget\n",
    "import datetime as dt\n",
    "import json\n",
    "\n",
    "import matplotlib.pyplot as plt\n",
    "import matplotlib.dates as mdates\n",
    "import matplotlib.units as munits\n",
    "import numpy as np\n",
    "import pandas as pd\n",
    "from pyts.image import RecurrencePlot\n",
    "\n",
    "from sklearn.preprocessing import StandardScaler\n",
    "\n",
    "converter = mdates.ConciseDateConverter()\n",
    "munits.registry[np.datetime64] = converter\n",
    "munits.registry[dt.date] = converter\n",
    "munits.registry[dt.datetime] = converter"
   ]
  },
  {
   "cell_type": "code",
   "execution_count": 5,
   "id": "5e125b2d",
   "metadata": {},
   "outputs": [],
   "source": [
    "with open('ICME_WP4_V10.json', 'r') as fobj:\n",
    "    json_data = json.load(fobj)\n",
    "    \n",
    "df = pd.DataFrame(json_data['data'], columns=json_data['columns'])"
   ]
  },
  {
   "cell_type": "code",
   "execution_count": 6,
   "id": "643680a7",
   "metadata": {},
   "outputs": [
    {
     "data": {
      "text/html": [
       "<div>\n",
       "<style scoped>\n",
       "    .dataframe tbody tr th:only-of-type {\n",
       "        vertical-align: middle;\n",
       "    }\n",
       "\n",
       "    .dataframe tbody tr th {\n",
       "        vertical-align: top;\n",
       "    }\n",
       "\n",
       "    .dataframe thead th {\n",
       "        text-align: right;\n",
       "    }\n",
       "</style>\n",
       "<table border=\"1\" class=\"dataframe\">\n",
       "  <thead>\n",
       "    <tr style=\"text-align: right;\">\n",
       "      <th></th>\n",
       "      <th>ICMECAT_ID</th>\n",
       "      <th>SC_INSITU</th>\n",
       "      <th>ICME_START_TIME</th>\n",
       "      <th>MO_START_TIME</th>\n",
       "      <th>MO_END_TIME</th>\n",
       "      <th>ICME_END_TIME</th>\n",
       "      <th>MO_BMAX</th>\n",
       "      <th>MO_BMEAN</th>\n",
       "      <th>MO_BSTD</th>\n",
       "      <th>MO_BZMEAN</th>\n",
       "      <th>...</th>\n",
       "      <th>MO_SPEED</th>\n",
       "      <th>MO_SPEED_STD</th>\n",
       "      <th>SHEATH_DENSITY</th>\n",
       "      <th>SHEATH_DENSITY_STD</th>\n",
       "      <th>MO_DENSITY</th>\n",
       "      <th>MO_DENSITY_STD</th>\n",
       "      <th>SHEATH_TEMPERATURE</th>\n",
       "      <th>SHEATH_TEMPERATURE_STD</th>\n",
       "      <th>MO_TEMPERATURE</th>\n",
       "      <th>MO_TEMPERATURE_STD</th>\n",
       "    </tr>\n",
       "  </thead>\n",
       "  <tbody>\n",
       "    <tr>\n",
       "      <th>0</th>\n",
       "      <td>ICME_Wind_NASA_20070114_01</td>\n",
       "      <td>Wind</td>\n",
       "      <td>2007-01-14T11:31Z</td>\n",
       "      <td>2007-01-14T11:44Z</td>\n",
       "      <td>2007-01-15T07:45Z</td>\n",
       "      <td>2007-01-15T07:45Z</td>\n",
       "      <td>14.6</td>\n",
       "      <td>11.4</td>\n",
       "      <td>2.5</td>\n",
       "      <td>1.5</td>\n",
       "      <td>...</td>\n",
       "      <td>362.1</td>\n",
       "      <td>15.4</td>\n",
       "      <td>1.1</td>\n",
       "      <td>0.1</td>\n",
       "      <td>5.2</td>\n",
       "      <td>4.2</td>\n",
       "      <td>18881.1</td>\n",
       "      <td>3702.5</td>\n",
       "      <td>15654.3</td>\n",
       "      <td>9624.8</td>\n",
       "    </tr>\n",
       "    <tr>\n",
       "      <th>1</th>\n",
       "      <td>ICME_STEREO_A_JIAN_20070114_01</td>\n",
       "      <td>STEREO-A</td>\n",
       "      <td>2007-01-14T12:11Z</td>\n",
       "      <td>2007-01-14T14:39Z</td>\n",
       "      <td>2007-01-15T07:34Z</td>\n",
       "      <td>9999-99-99T99:99Z</td>\n",
       "      <td>14.9</td>\n",
       "      <td>12.4</td>\n",
       "      <td>1.8</td>\n",
       "      <td>1.0</td>\n",
       "      <td>...</td>\n",
       "      <td>-NaN</td>\n",
       "      <td>-NaN</td>\n",
       "      <td>-NaN</td>\n",
       "      <td>-NaN</td>\n",
       "      <td>-NaN</td>\n",
       "      <td>-NaN</td>\n",
       "      <td>-NaN</td>\n",
       "      <td>-NaN</td>\n",
       "      <td>-NaN</td>\n",
       "      <td>-NaN</td>\n",
       "    </tr>\n",
       "    <tr>\n",
       "      <th>2</th>\n",
       "      <td>ICME_STEREO_B_JIAN_20070114_01</td>\n",
       "      <td>STEREO-B</td>\n",
       "      <td>2007-01-14T12:24Z</td>\n",
       "      <td>2007-01-14T13:59Z</td>\n",
       "      <td>2007-01-15T07:37Z</td>\n",
       "      <td>9999-99-99T99:99Z</td>\n",
       "      <td>14.7</td>\n",
       "      <td>12.0</td>\n",
       "      <td>2.2</td>\n",
       "      <td>1.2</td>\n",
       "      <td>...</td>\n",
       "      <td>-NaN</td>\n",
       "      <td>-NaN</td>\n",
       "      <td>-NaN</td>\n",
       "      <td>-NaN</td>\n",
       "      <td>-NaN</td>\n",
       "      <td>-NaN</td>\n",
       "      <td>-NaN</td>\n",
       "      <td>-NaN</td>\n",
       "      <td>-NaN</td>\n",
       "      <td>-NaN</td>\n",
       "    </tr>\n",
       "    <tr>\n",
       "      <th>3</th>\n",
       "      <td>ICME_Wind_NASA_20070115_01</td>\n",
       "      <td>Wind</td>\n",
       "      <td>2007-01-15T20:49Z</td>\n",
       "      <td>2007-01-15T20:49Z</td>\n",
       "      <td>2007-01-16T04:45Z</td>\n",
       "      <td>2007-01-16T06:14Z</td>\n",
       "      <td>10.4</td>\n",
       "      <td>8.0</td>\n",
       "      <td>1.1</td>\n",
       "      <td>0.5</td>\n",
       "      <td>...</td>\n",
       "      <td>531.1</td>\n",
       "      <td>28.6</td>\n",
       "      <td>NaN</td>\n",
       "      <td>NaN</td>\n",
       "      <td>4.1</td>\n",
       "      <td>1.4</td>\n",
       "      <td>NaN</td>\n",
       "      <td>NaN</td>\n",
       "      <td>97330.3</td>\n",
       "      <td>37677.8</td>\n",
       "    </tr>\n",
       "    <tr>\n",
       "      <th>4</th>\n",
       "      <td>ICME_Wind_NASA_20070202_01</td>\n",
       "      <td>Wind</td>\n",
       "      <td>2007-02-02T04:04Z</td>\n",
       "      <td>2007-02-02T04:04Z</td>\n",
       "      <td>2007-02-02T14:35Z</td>\n",
       "      <td>2007-02-02T14:35Z</td>\n",
       "      <td>4.1</td>\n",
       "      <td>3.5</td>\n",
       "      <td>0.3</td>\n",
       "      <td>-0.7</td>\n",
       "      <td>...</td>\n",
       "      <td>502.0</td>\n",
       "      <td>15.2</td>\n",
       "      <td>NaN</td>\n",
       "      <td>NaN</td>\n",
       "      <td>2.6</td>\n",
       "      <td>0.3</td>\n",
       "      <td>NaN</td>\n",
       "      <td>NaN</td>\n",
       "      <td>56223.5</td>\n",
       "      <td>19545.4</td>\n",
       "    </tr>\n",
       "  </tbody>\n",
       "</table>\n",
       "<p>5 rows × 30 columns</p>\n",
       "</div>"
      ],
      "text/plain": [
       "                       ICMECAT_ID SC_INSITU    ICME_START_TIME  \\\n",
       "0      ICME_Wind_NASA_20070114_01      Wind  2007-01-14T11:31Z   \n",
       "1  ICME_STEREO_A_JIAN_20070114_01  STEREO-A  2007-01-14T12:11Z   \n",
       "2  ICME_STEREO_B_JIAN_20070114_01  STEREO-B  2007-01-14T12:24Z   \n",
       "3      ICME_Wind_NASA_20070115_01      Wind  2007-01-15T20:49Z   \n",
       "4      ICME_Wind_NASA_20070202_01      Wind  2007-02-02T04:04Z   \n",
       "\n",
       "       MO_START_TIME        MO_END_TIME      ICME_END_TIME MO_BMAX MO_BMEAN  \\\n",
       "0  2007-01-14T11:44Z  2007-01-15T07:45Z  2007-01-15T07:45Z    14.6     11.4   \n",
       "1  2007-01-14T14:39Z  2007-01-15T07:34Z  9999-99-99T99:99Z    14.9     12.4   \n",
       "2  2007-01-14T13:59Z  2007-01-15T07:37Z  9999-99-99T99:99Z    14.7     12.0   \n",
       "3  2007-01-15T20:49Z  2007-01-16T04:45Z  2007-01-16T06:14Z    10.4      8.0   \n",
       "4  2007-02-02T04:04Z  2007-02-02T14:35Z  2007-02-02T14:35Z     4.1      3.5   \n",
       "\n",
       "  MO_BSTD MO_BZMEAN  ... MO_SPEED MO_SPEED_STD SHEATH_DENSITY  \\\n",
       "0     2.5       1.5  ...    362.1         15.4            1.1   \n",
       "1     1.8       1.0  ...     -NaN         -NaN           -NaN   \n",
       "2     2.2       1.2  ...     -NaN         -NaN           -NaN   \n",
       "3     1.1       0.5  ...    531.1         28.6            NaN   \n",
       "4     0.3      -0.7  ...    502.0         15.2            NaN   \n",
       "\n",
       "  SHEATH_DENSITY_STD MO_DENSITY MO_DENSITY_STD SHEATH_TEMPERATURE  \\\n",
       "0                0.1        5.2            4.2            18881.1   \n",
       "1               -NaN       -NaN           -NaN               -NaN   \n",
       "2               -NaN       -NaN           -NaN               -NaN   \n",
       "3                NaN        4.1            1.4                NaN   \n",
       "4                NaN        2.6            0.3                NaN   \n",
       "\n",
       "  SHEATH_TEMPERATURE_STD MO_TEMPERATURE MO_TEMPERATURE_STD  \n",
       "0                 3702.5        15654.3             9624.8  \n",
       "1                   -NaN           -NaN               -NaN  \n",
       "2                   -NaN           -NaN               -NaN  \n",
       "3                    NaN        97330.3            37677.8  \n",
       "4                    NaN        56223.5            19545.4  \n",
       "\n",
       "[5 rows x 30 columns]"
      ]
     },
     "execution_count": 6,
     "metadata": {},
     "output_type": "execute_result"
    }
   ],
   "source": [
    "df.head()"
   ]
  },
  {
   "cell_type": "code",
   "execution_count": 7,
   "id": "44170ad9",
   "metadata": {},
   "outputs": [],
   "source": [
    "stereo_a_df = df[df['SC_INSITU'].str.contains('STEREO-A')]\n",
    "stereo_b_df = df[df['SC_INSITU'].str.contains('STEREO-B')]"
   ]
  },
  {
   "cell_type": "code",
   "execution_count": 8,
   "id": "6ca2907e",
   "metadata": {},
   "outputs": [],
   "source": [
    "stereo_a_icme_times = stereo_a_df.loc[:,['ICME_START_TIME','ICME_END_TIME']]\n",
    "stereo_b_icme_times = stereo_b_df.loc[:,['ICME_START_TIME','ICME_END_TIME']]"
   ]
  },
  {
   "cell_type": "code",
   "execution_count": 40,
   "id": "d3ab2d8d",
   "metadata": {},
   "outputs": [
    {
     "data": {
      "text/plain": [
       "('2007-01-14T12:11Z', '2014-08-11T09:03Z')"
      ]
     },
     "execution_count": 40,
     "metadata": {},
     "output_type": "execute_result"
    }
   ],
   "source": [
    "stereo_a_icme_times['ICME_START_TIME'].min(), stereo_a_icme_times['ICME_START_TIME'].max()"
   ]
  },
  {
   "cell_type": "code",
   "execution_count": 9,
   "id": "516b36c4",
   "metadata": {},
   "outputs": [
    {
     "data": {
      "text/html": [
       "<div>\n",
       "<style scoped>\n",
       "    .dataframe tbody tr th:only-of-type {\n",
       "        vertical-align: middle;\n",
       "    }\n",
       "\n",
       "    .dataframe tbody tr th {\n",
       "        vertical-align: top;\n",
       "    }\n",
       "\n",
       "    .dataframe thead th {\n",
       "        text-align: right;\n",
       "    }\n",
       "</style>\n",
       "<table border=\"1\" class=\"dataframe\">\n",
       "  <thead>\n",
       "    <tr style=\"text-align: right;\">\n",
       "      <th></th>\n",
       "      <th>ICME_START_TIME</th>\n",
       "      <th>ICME_END_TIME</th>\n",
       "    </tr>\n",
       "  </thead>\n",
       "  <tbody>\n",
       "    <tr>\n",
       "      <th>1</th>\n",
       "      <td>2007-01-14T12:11Z</td>\n",
       "      <td>9999-99-99T99:99Z</td>\n",
       "    </tr>\n",
       "    <tr>\n",
       "      <th>13</th>\n",
       "      <td>2007-05-22T14:00Z</td>\n",
       "      <td>9999-99-99T99:99Z</td>\n",
       "    </tr>\n",
       "    <tr>\n",
       "      <th>24</th>\n",
       "      <td>2007-08-25T20:30Z</td>\n",
       "      <td>9999-99-99T99:99Z</td>\n",
       "    </tr>\n",
       "    <tr>\n",
       "      <th>31</th>\n",
       "      <td>2007-11-19T22:00Z</td>\n",
       "      <td>9999-99-99T99:99Z</td>\n",
       "    </tr>\n",
       "    <tr>\n",
       "      <th>39</th>\n",
       "      <td>2008-03-21T06:40Z</td>\n",
       "      <td>9999-99-99T99:99Z</td>\n",
       "    </tr>\n",
       "    <tr>\n",
       "      <th>42</th>\n",
       "      <td>2008-05-11T06:31Z</td>\n",
       "      <td>9999-99-99T99:99Z</td>\n",
       "    </tr>\n",
       "    <tr>\n",
       "      <th>46</th>\n",
       "      <td>2008-07-05T00:48Z</td>\n",
       "      <td>9999-99-99T99:99Z</td>\n",
       "    </tr>\n",
       "    <tr>\n",
       "      <th>50</th>\n",
       "      <td>2008-09-04T05:25Z</td>\n",
       "      <td>9999-99-99T99:99Z</td>\n",
       "    </tr>\n",
       "    <tr>\n",
       "      <th>54</th>\n",
       "      <td>2008-10-31T12:10Z</td>\n",
       "      <td>9999-99-99T99:99Z</td>\n",
       "    </tr>\n",
       "    <tr>\n",
       "      <th>55</th>\n",
       "      <td>2008-11-28T21:49Z</td>\n",
       "      <td>9999-99-99T99:99Z</td>\n",
       "    </tr>\n",
       "  </tbody>\n",
       "</table>\n",
       "</div>"
      ],
      "text/plain": [
       "      ICME_START_TIME      ICME_END_TIME\n",
       "1   2007-01-14T12:11Z  9999-99-99T99:99Z\n",
       "13  2007-05-22T14:00Z  9999-99-99T99:99Z\n",
       "24  2007-08-25T20:30Z  9999-99-99T99:99Z\n",
       "31  2007-11-19T22:00Z  9999-99-99T99:99Z\n",
       "39  2008-03-21T06:40Z  9999-99-99T99:99Z\n",
       "42  2008-05-11T06:31Z  9999-99-99T99:99Z\n",
       "46  2008-07-05T00:48Z  9999-99-99T99:99Z\n",
       "50  2008-09-04T05:25Z  9999-99-99T99:99Z\n",
       "54  2008-10-31T12:10Z  9999-99-99T99:99Z\n",
       "55  2008-11-28T21:49Z  9999-99-99T99:99Z"
      ]
     },
     "execution_count": 9,
     "metadata": {},
     "output_type": "execute_result"
    }
   ],
   "source": [
    "stereo_a_icme_times.head(10)"
   ]
  },
  {
   "cell_type": "code",
   "execution_count": 10,
   "id": "4875f1ab",
   "metadata": {},
   "outputs": [
    {
     "data": {
      "text/html": [
       "<div>\n",
       "<style scoped>\n",
       "    .dataframe tbody tr th:only-of-type {\n",
       "        vertical-align: middle;\n",
       "    }\n",
       "\n",
       "    .dataframe tbody tr th {\n",
       "        vertical-align: top;\n",
       "    }\n",
       "\n",
       "    .dataframe thead th {\n",
       "        text-align: right;\n",
       "    }\n",
       "</style>\n",
       "<table border=\"1\" class=\"dataframe\">\n",
       "  <thead>\n",
       "    <tr style=\"text-align: right;\">\n",
       "      <th></th>\n",
       "      <th>ICME_START_TIME</th>\n",
       "      <th>ICME_END_TIME</th>\n",
       "    </tr>\n",
       "  </thead>\n",
       "  <tbody>\n",
       "    <tr>\n",
       "      <th>2</th>\n",
       "      <td>2007-01-14T12:24Z</td>\n",
       "      <td>9999-99-99T99:99Z</td>\n",
       "    </tr>\n",
       "    <tr>\n",
       "      <th>12</th>\n",
       "      <td>2007-05-22T04:20Z</td>\n",
       "      <td>9999-99-99T99:99Z</td>\n",
       "    </tr>\n",
       "    <tr>\n",
       "      <th>28</th>\n",
       "      <td>2007-10-23T10:35Z</td>\n",
       "      <td>9999-99-99T99:99Z</td>\n",
       "    </tr>\n",
       "    <tr>\n",
       "      <th>32</th>\n",
       "      <td>2007-11-19T22:50Z</td>\n",
       "      <td>9999-99-99T99:99Z</td>\n",
       "    </tr>\n",
       "    <tr>\n",
       "      <th>35</th>\n",
       "      <td>2007-12-30T02:00Z</td>\n",
       "      <td>9999-99-99T99:99Z</td>\n",
       "    </tr>\n",
       "    <tr>\n",
       "      <th>...</th>\n",
       "      <td>...</td>\n",
       "      <td>...</td>\n",
       "    </tr>\n",
       "    <tr>\n",
       "      <th>628</th>\n",
       "      <td>2014-07-01T12:51Z</td>\n",
       "      <td>9999-99-99T99:99Z</td>\n",
       "    </tr>\n",
       "    <tr>\n",
       "      <th>634</th>\n",
       "      <td>2014-08-11T06:20Z</td>\n",
       "      <td>9999-99-99T99:99Z</td>\n",
       "    </tr>\n",
       "    <tr>\n",
       "      <th>638</th>\n",
       "      <td>2014-08-31T17:45Z</td>\n",
       "      <td>9999-99-99T99:99Z</td>\n",
       "    </tr>\n",
       "    <tr>\n",
       "      <th>641</th>\n",
       "      <td>2014-09-03T07:45Z</td>\n",
       "      <td>9999-99-99T99:99Z</td>\n",
       "    </tr>\n",
       "    <tr>\n",
       "      <th>646</th>\n",
       "      <td>2014-09-25T14:09Z</td>\n",
       "      <td>9999-99-99T99:99Z</td>\n",
       "    </tr>\n",
       "  </tbody>\n",
       "</table>\n",
       "<p>150 rows × 2 columns</p>\n",
       "</div>"
      ],
      "text/plain": [
       "       ICME_START_TIME      ICME_END_TIME\n",
       "2    2007-01-14T12:24Z  9999-99-99T99:99Z\n",
       "12   2007-05-22T04:20Z  9999-99-99T99:99Z\n",
       "28   2007-10-23T10:35Z  9999-99-99T99:99Z\n",
       "32   2007-11-19T22:50Z  9999-99-99T99:99Z\n",
       "35   2007-12-30T02:00Z  9999-99-99T99:99Z\n",
       "..                 ...                ...\n",
       "628  2014-07-01T12:51Z  9999-99-99T99:99Z\n",
       "634  2014-08-11T06:20Z  9999-99-99T99:99Z\n",
       "638  2014-08-31T17:45Z  9999-99-99T99:99Z\n",
       "641  2014-09-03T07:45Z  9999-99-99T99:99Z\n",
       "646  2014-09-25T14:09Z  9999-99-99T99:99Z\n",
       "\n",
       "[150 rows x 2 columns]"
      ]
     },
     "execution_count": 10,
     "metadata": {},
     "output_type": "execute_result"
    }
   ],
   "source": [
    "stereo_b_icme_times"
   ]
  },
  {
   "cell_type": "code",
   "execution_count": 11,
   "id": "5789711c",
   "metadata": {},
   "outputs": [
    {
     "name": "stderr",
     "output_type": "stream",
     "text": [
      "/Users/ndmiles/miniconda3/envs/research/lib/python3.7/site-packages/IPython/core/interactiveshell.py:3441: DtypeWarning: Columns (25,26,27,28,29,30,31,32,33,34,35,39) have mixed types.Specify dtype option on import or set low_memory=False.\n",
      "  exec(code_obj, self.user_global_ns, self.user_ns)\n"
     ]
    }
   ],
   "source": [
    "df = pd.read_csv('/Users/ndmiles/Downloads/sta_mag_rtn_20070501T000000_20070531T000000_1m/sta_mag_rtn_20070501T000000_20070531T000000_1m.csv')"
   ]
  },
  {
   "cell_type": "code",
   "execution_count": 10,
   "id": "51fe4384",
   "metadata": {},
   "outputs": [
    {
     "data": {
      "text/html": [
       "<div>\n",
       "<style scoped>\n",
       "    .dataframe tbody tr th:only-of-type {\n",
       "        vertical-align: middle;\n",
       "    }\n",
       "\n",
       "    .dataframe tbody tr th {\n",
       "        vertical-align: top;\n",
       "    }\n",
       "\n",
       "    .dataframe thead th {\n",
       "        text-align: right;\n",
       "    }\n",
       "</style>\n",
       "<table border=\"1\" class=\"dataframe\">\n",
       "  <thead>\n",
       "    <tr style=\"text-align: right;\">\n",
       "      <th></th>\n",
       "      <th>BXSC A</th>\n",
       "      <th>BYSC A</th>\n",
       "      <th>BZSC A</th>\n",
       "      <th>BTSC A</th>\n",
       "      <th>BR A</th>\n",
       "      <th>BT A</th>\n",
       "      <th>BN A</th>\n",
       "      <th>BT A.1</th>\n",
       "      <th>X HAE A</th>\n",
       "      <th>Y HAE A</th>\n",
       "      <th>...</th>\n",
       "      <th>X CARR A</th>\n",
       "      <th>Y CARR A</th>\n",
       "      <th>Z CARR A</th>\n",
       "      <th>X RTN A</th>\n",
       "      <th>Y RTN A</th>\n",
       "      <th>Z RTN A</th>\n",
       "      <th>R A</th>\n",
       "      <th>Cone Ang</th>\n",
       "      <th>Clock Ang</th>\n",
       "      <th>Mag Pr</th>\n",
       "    </tr>\n",
       "  </thead>\n",
       "  <tbody>\n",
       "    <tr>\n",
       "      <th>count</th>\n",
       "      <td>43178.000000</td>\n",
       "      <td>43178.000000</td>\n",
       "      <td>43178.000000</td>\n",
       "      <td>43178.000000</td>\n",
       "      <td>4.317800e+04</td>\n",
       "      <td>4.317800e+04</td>\n",
       "      <td>4.317800e+04</td>\n",
       "      <td>4.317800e+04</td>\n",
       "      <td>4.317800e+04</td>\n",
       "      <td>4.317800e+04</td>\n",
       "      <td>...</td>\n",
       "      <td>4.317800e+04</td>\n",
       "      <td>4.317800e+04</td>\n",
       "      <td>4.317800e+04</td>\n",
       "      <td>4.317800e+04</td>\n",
       "      <td>4.317800e+04</td>\n",
       "      <td>4.317800e+04</td>\n",
       "      <td>4.317800e+04</td>\n",
       "      <td>4.317800e+04</td>\n",
       "      <td>4.317800e+04</td>\n",
       "      <td>43178.000000</td>\n",
       "    </tr>\n",
       "    <tr>\n",
       "      <th>mean</th>\n",
       "      <td>0.048433</td>\n",
       "      <td>-0.296970</td>\n",
       "      <td>0.477378</td>\n",
       "      <td>4.702498</td>\n",
       "      <td>6.484784e+30</td>\n",
       "      <td>6.484784e+30</td>\n",
       "      <td>6.484784e+30</td>\n",
       "      <td>6.484784e+30</td>\n",
       "      <td>6.484784e+30</td>\n",
       "      <td>6.484784e+30</td>\n",
       "      <td>...</td>\n",
       "      <td>6.484784e+30</td>\n",
       "      <td>6.484784e+30</td>\n",
       "      <td>6.484784e+30</td>\n",
       "      <td>6.484784e+30</td>\n",
       "      <td>6.484784e+30</td>\n",
       "      <td>6.484784e+30</td>\n",
       "      <td>6.484784e+30</td>\n",
       "      <td>6.484784e+30</td>\n",
       "      <td>6.484784e+30</td>\n",
       "      <td>12.085564</td>\n",
       "    </tr>\n",
       "    <tr>\n",
       "      <th>std</th>\n",
       "      <td>3.351739</td>\n",
       "      <td>2.696572</td>\n",
       "      <td>3.311672</td>\n",
       "      <td>2.874207</td>\n",
       "      <td>2.545727e+32</td>\n",
       "      <td>2.545727e+32</td>\n",
       "      <td>2.545727e+32</td>\n",
       "      <td>2.545727e+32</td>\n",
       "      <td>2.545727e+32</td>\n",
       "      <td>2.545727e+32</td>\n",
       "      <td>...</td>\n",
       "      <td>2.545727e+32</td>\n",
       "      <td>2.545727e+32</td>\n",
       "      <td>2.545727e+32</td>\n",
       "      <td>2.545727e+32</td>\n",
       "      <td>2.545727e+32</td>\n",
       "      <td>2.545727e+32</td>\n",
       "      <td>2.545727e+32</td>\n",
       "      <td>2.545727e+32</td>\n",
       "      <td>2.545727e+32</td>\n",
       "      <td>17.826518</td>\n",
       "    </tr>\n",
       "    <tr>\n",
       "      <th>min</th>\n",
       "      <td>-15.862429</td>\n",
       "      <td>-17.486380</td>\n",
       "      <td>-16.661850</td>\n",
       "      <td>0.552341</td>\n",
       "      <td>-1.310139e+01</td>\n",
       "      <td>-1.750967e+01</td>\n",
       "      <td>-1.807780e+01</td>\n",
       "      <td>5.543972e-01</td>\n",
       "      <td>-6.860832e-01</td>\n",
       "      <td>-9.300005e-01</td>\n",
       "      <td>...</td>\n",
       "      <td>-9.595569e-01</td>\n",
       "      <td>-9.595431e-01</td>\n",
       "      <td>-6.285840e-02</td>\n",
       "      <td>9.586833e-01</td>\n",
       "      <td>0.000000e+00</td>\n",
       "      <td>0.000000e+00</td>\n",
       "      <td>9.586833e-01</td>\n",
       "      <td>1.443200e+00</td>\n",
       "      <td>-1.998586e+02</td>\n",
       "      <td>0.121388</td>\n",
       "    </tr>\n",
       "    <tr>\n",
       "      <th>25%</th>\n",
       "      <td>-1.950538</td>\n",
       "      <td>-1.544620</td>\n",
       "      <td>-1.318519</td>\n",
       "      <td>2.866670</td>\n",
       "      <td>-2.194853e+00</td>\n",
       "      <td>-1.294554e+00</td>\n",
       "      <td>-1.418367e+00</td>\n",
       "      <td>2.873092e+00</td>\n",
       "      <td>-5.871405e-01</td>\n",
       "      <td>-8.898689e-01</td>\n",
       "      <td>...</td>\n",
       "      <td>-6.244050e-01</td>\n",
       "      <td>-7.505797e-01</td>\n",
       "      <td>-4.779595e-02</td>\n",
       "      <td>9.593207e-01</td>\n",
       "      <td>0.000000e+00</td>\n",
       "      <td>0.000000e+00</td>\n",
       "      <td>9.593207e-01</td>\n",
       "      <td>5.743338e+01</td>\n",
       "      <td>-6.999277e+01</td>\n",
       "      <td>3.269754</td>\n",
       "    </tr>\n",
       "    <tr>\n",
       "      <th>50%</th>\n",
       "      <td>0.393088</td>\n",
       "      <td>-0.258655</td>\n",
       "      <td>0.894601</td>\n",
       "      <td>3.721320</td>\n",
       "      <td>-3.909465e-01</td>\n",
       "      <td>9.659299e-01</td>\n",
       "      <td>-1.832184e-01</td>\n",
       "      <td>3.732408e+00</td>\n",
       "      <td>-4.769516e-01</td>\n",
       "      <td>-8.329786e-01</td>\n",
       "      <td>...</td>\n",
       "      <td>1.449608e-01</td>\n",
       "      <td>-1.427851e-01</td>\n",
       "      <td>-3.180355e-02</td>\n",
       "      <td>9.600161e-01</td>\n",
       "      <td>-0.000000e+00</td>\n",
       "      <td>0.000000e+00</td>\n",
       "      <td>9.600161e-01</td>\n",
       "      <td>9.658732e+01</td>\n",
       "      <td>5.926415e+01</td>\n",
       "      <td>5.510027</td>\n",
       "    </tr>\n",
       "    <tr>\n",
       "      <th>75%</th>\n",
       "      <td>2.195597</td>\n",
       "      <td>1.022887</td>\n",
       "      <td>2.561585</td>\n",
       "      <td>5.428199</td>\n",
       "      <td>1.953129e+00</td>\n",
       "      <td>2.617390e+00</td>\n",
       "      <td>1.062887e+00</td>\n",
       "      <td>5.449364e+00</td>\n",
       "      <td>-3.580508e-01</td>\n",
       "      <td>-7.602670e-01</td>\n",
       "      <td>...</td>\n",
       "      <td>6.700316e-01</td>\n",
       "      <td>6.273228e-01</td>\n",
       "      <td>-1.525048e-02</td>\n",
       "      <td>9.607598e-01</td>\n",
       "      <td>0.000000e+00</td>\n",
       "      <td>0.000000e+00</td>\n",
       "      <td>9.607598e-01</td>\n",
       "      <td>1.254607e+02</td>\n",
       "      <td>1.087137e+02</td>\n",
       "      <td>11.723877</td>\n",
       "    </tr>\n",
       "    <tr>\n",
       "      <th>max</th>\n",
       "      <td>13.103516</td>\n",
       "      <td>17.408211</td>\n",
       "      <td>13.952129</td>\n",
       "      <td>20.147492</td>\n",
       "      <td>1.000000e+34</td>\n",
       "      <td>1.000000e+34</td>\n",
       "      <td>1.000000e+34</td>\n",
       "      <td>1.000000e+34</td>\n",
       "      <td>1.000000e+34</td>\n",
       "      <td>1.000000e+34</td>\n",
       "      <td>...</td>\n",
       "      <td>1.000000e+34</td>\n",
       "      <td>1.000000e+34</td>\n",
       "      <td>1.000000e+34</td>\n",
       "      <td>1.000000e+34</td>\n",
       "      <td>1.000000e+34</td>\n",
       "      <td>1.000000e+34</td>\n",
       "      <td>1.000000e+34</td>\n",
       "      <td>1.000000e+34</td>\n",
       "      <td>1.000000e+34</td>\n",
       "      <td>161.510849</td>\n",
       "    </tr>\n",
       "  </tbody>\n",
       "</table>\n",
       "<p>8 rows × 27 columns</p>\n",
       "</div>"
      ],
      "text/plain": [
       "             BXSC A        BYSC A        BZSC A        BTSC A          BR A  \\\n",
       "count  43178.000000  43178.000000  43178.000000  43178.000000  4.317800e+04   \n",
       "mean       0.048433     -0.296970      0.477378      4.702498  6.484784e+30   \n",
       "std        3.351739      2.696572      3.311672      2.874207  2.545727e+32   \n",
       "min      -15.862429    -17.486380    -16.661850      0.552341 -1.310139e+01   \n",
       "25%       -1.950538     -1.544620     -1.318519      2.866670 -2.194853e+00   \n",
       "50%        0.393088     -0.258655      0.894601      3.721320 -3.909465e-01   \n",
       "75%        2.195597      1.022887      2.561585      5.428199  1.953129e+00   \n",
       "max       13.103516     17.408211     13.952129     20.147492  1.000000e+34   \n",
       "\n",
       "               BT A          BN A        BT A.1       X HAE A       Y HAE A  \\\n",
       "count  4.317800e+04  4.317800e+04  4.317800e+04  4.317800e+04  4.317800e+04   \n",
       "mean   6.484784e+30  6.484784e+30  6.484784e+30  6.484784e+30  6.484784e+30   \n",
       "std    2.545727e+32  2.545727e+32  2.545727e+32  2.545727e+32  2.545727e+32   \n",
       "min   -1.750967e+01 -1.807780e+01  5.543972e-01 -6.860832e-01 -9.300005e-01   \n",
       "25%   -1.294554e+00 -1.418367e+00  2.873092e+00 -5.871405e-01 -8.898689e-01   \n",
       "50%    9.659299e-01 -1.832184e-01  3.732408e+00 -4.769516e-01 -8.329786e-01   \n",
       "75%    2.617390e+00  1.062887e+00  5.449364e+00 -3.580508e-01 -7.602670e-01   \n",
       "max    1.000000e+34  1.000000e+34  1.000000e+34  1.000000e+34  1.000000e+34   \n",
       "\n",
       "       ...      X CARR A      Y CARR A      Z CARR A       X RTN A  \\\n",
       "count  ...  4.317800e+04  4.317800e+04  4.317800e+04  4.317800e+04   \n",
       "mean   ...  6.484784e+30  6.484784e+30  6.484784e+30  6.484784e+30   \n",
       "std    ...  2.545727e+32  2.545727e+32  2.545727e+32  2.545727e+32   \n",
       "min    ... -9.595569e-01 -9.595431e-01 -6.285840e-02  9.586833e-01   \n",
       "25%    ... -6.244050e-01 -7.505797e-01 -4.779595e-02  9.593207e-01   \n",
       "50%    ...  1.449608e-01 -1.427851e-01 -3.180355e-02  9.600161e-01   \n",
       "75%    ...  6.700316e-01  6.273228e-01 -1.525048e-02  9.607598e-01   \n",
       "max    ...  1.000000e+34  1.000000e+34  1.000000e+34  1.000000e+34   \n",
       "\n",
       "            Y RTN A       Z RTN A           R A      Cone Ang     Clock Ang  \\\n",
       "count  4.317800e+04  4.317800e+04  4.317800e+04  4.317800e+04  4.317800e+04   \n",
       "mean   6.484784e+30  6.484784e+30  6.484784e+30  6.484784e+30  6.484784e+30   \n",
       "std    2.545727e+32  2.545727e+32  2.545727e+32  2.545727e+32  2.545727e+32   \n",
       "min    0.000000e+00  0.000000e+00  9.586833e-01  1.443200e+00 -1.998586e+02   \n",
       "25%    0.000000e+00  0.000000e+00  9.593207e-01  5.743338e+01 -6.999277e+01   \n",
       "50%   -0.000000e+00  0.000000e+00  9.600161e-01  9.658732e+01  5.926415e+01   \n",
       "75%    0.000000e+00  0.000000e+00  9.607598e-01  1.254607e+02  1.087137e+02   \n",
       "max    1.000000e+34  1.000000e+34  1.000000e+34  1.000000e+34  1.000000e+34   \n",
       "\n",
       "             Mag Pr  \n",
       "count  43178.000000  \n",
       "mean      12.085564  \n",
       "std       17.826518  \n",
       "min        0.121388  \n",
       "25%        3.269754  \n",
       "50%        5.510027  \n",
       "75%       11.723877  \n",
       "max      161.510849  \n",
       "\n",
       "[8 rows x 27 columns]"
      ]
     },
     "execution_count": 10,
     "metadata": {},
     "output_type": "execute_result"
    }
   ],
   "source": [
    "df.describe()"
   ]
  },
  {
   "cell_type": "code",
   "execution_count": 12,
   "id": "353aad94",
   "metadata": {},
   "outputs": [],
   "source": [
    "filtered_df = df[(df['BR A'].lt(1e31)) & (df['Np'].astype(float).lt(1e31))]"
   ]
  },
  {
   "cell_type": "code",
   "execution_count": 13,
   "id": "217a155c",
   "metadata": {},
   "outputs": [],
   "source": [
    "filtered_df.index = pd.DatetimeIndex(filtered_df['Time'])"
   ]
  },
  {
   "cell_type": "code",
   "execution_count": 14,
   "id": "53cd430e",
   "metadata": {},
   "outputs": [],
   "source": [
    "import numpy as np"
   ]
  },
  {
   "cell_type": "code",
   "execution_count": 15,
   "id": "2f78c2f2",
   "metadata": {},
   "outputs": [
    {
     "name": "stderr",
     "output_type": "stream",
     "text": [
      "/Users/ndmiles/miniconda3/envs/research/lib/python3.7/site-packages/ipykernel_launcher.py:2: SettingWithCopyWarning: \n",
      "A value is trying to be set on a copy of a slice from a DataFrame.\n",
      "Try using .loc[row_indexer,col_indexer] = value instead\n",
      "\n",
      "See the caveats in the documentation: https://pandas.pydata.org/pandas-docs/stable/user_guide/indexing.html#returning-a-view-versus-a-copy\n",
      "  \n"
     ]
    }
   ],
   "source": [
    "filtered_df['B_mag'] = np.sqrt(\n",
    "    filtered_df['BR A']**2 + filtered_df['BT A']**2 + filtered_df['BN A']**2\n",
    ")"
   ]
  },
  {
   "cell_type": "code",
   "execution_count": 16,
   "id": "4031f6d0",
   "metadata": {},
   "outputs": [
    {
     "data": {
      "application/vnd.jupyter.widget-view+json": {
       "model_id": "ed6b21927d654481b2a3169c2c8ceccb",
       "version_major": 2,
       "version_minor": 0
      },
      "text/plain": [
       "Canvas(toolbar=Toolbar(toolitems=[('Home', 'Reset original view', 'home', 'home'), ('Back', 'Back to previous …"
      ]
     },
     "metadata": {},
     "output_type": "display_data"
    },
    {
     "data": {
      "text/plain": [
       "<AxesSubplot:xlabel='Time'>"
      ]
     },
     "execution_count": 16,
     "metadata": {},
     "output_type": "execute_result"
    }
   ],
   "source": [
    "filtered_df.plot(y=['BR A', 'BT A', 'BN A', 'B_mag'])"
   ]
  },
  {
   "cell_type": "code",
   "execution_count": 30,
   "id": "1f9620e1",
   "metadata": {},
   "outputs": [],
   "source": [
    "scaled_Br = StandardScaler().fit_transform(filtered_df['BT A'].values.reshape(-1,1)).flatten()"
   ]
  },
  {
   "cell_type": "code",
   "execution_count": 31,
   "id": "1abd0e04",
   "metadata": {},
   "outputs": [
    {
     "data": {
      "application/vnd.jupyter.widget-view+json": {
       "model_id": "8bd1e49c6b8d4ab293f3c6f8f3e0ee8a",
       "version_major": 2,
       "version_minor": 0
      },
      "text/plain": [
       "Canvas(toolbar=Toolbar(toolitems=[('Home', 'Reset original view', 'home', 'home'), ('Back', 'Back to previous …"
      ]
     },
     "metadata": {},
     "output_type": "display_data"
    },
    {
     "data": {
      "text/plain": [
       "[<matplotlib.lines.Line2D at 0x7fb1bac4d5d0>]"
      ]
     },
     "execution_count": 31,
     "metadata": {},
     "output_type": "execute_result"
    }
   ],
   "source": [
    "fig, ax = plt.subplots(nrows=1, ncols=1)\n",
    "ax.plot(filtered_df.index, scaled_Br)"
   ]
  },
  {
   "cell_type": "code",
   "execution_count": 26,
   "id": "3b3377ed",
   "metadata": {},
   "outputs": [
    {
     "data": {
      "text/plain": [
       "array([[-0.66916913],\n",
       "       [-0.64522373],\n",
       "       [-0.6625548 ],\n",
       "       ...,\n",
       "       [ 0.07389261],\n",
       "       [ 0.05465961],\n",
       "       [ 0.11437966]])"
      ]
     },
     "execution_count": 26,
     "metadata": {},
     "output_type": "execute_result"
    }
   ],
   "source": [
    "scaled_Br"
   ]
  },
  {
   "cell_type": "code",
   "execution_count": 17,
   "id": "7963c67c",
   "metadata": {},
   "outputs": [],
   "source": [
    "delta = dt.timedelta(days=5)\n",
    "icme_cut = slice(\n",
    "    dt.datetime(2007,5,25) - delta, \n",
    "    dt.datetime(2007,5,25) + delta\n",
    ")\n",
    "sir_cut = slice(\n",
    "    dt.datetime(2007, 5, 8) - delta,\n",
    "    dt.datetime(2007, 5, 8) + delta\n",
    ")\n",
    "columns_to_plot = ['BR A', 'BT A', 'BN A', 'B_mag', 'Np', 'Vp', 'Tp']"
   ]
  },
  {
   "cell_type": "code",
   "execution_count": 18,
   "id": "5287a745",
   "metadata": {},
   "outputs": [
    {
     "name": "stderr",
     "output_type": "stream",
     "text": [
      "/Users/ndmiles/miniconda3/envs/research/lib/python3.7/site-packages/ipykernel_launcher.py:2: SettingWithCopyWarning: \n",
      "A value is trying to be set on a copy of a slice from a DataFrame.\n",
      "Try using .loc[row_indexer,col_indexer] = value instead\n",
      "\n",
      "See the caveats in the documentation: https://pandas.pydata.org/pandas-docs/stable/user_guide/indexing.html#returning-a-view-versus-a-copy\n",
      "  \n"
     ]
    }
   ],
   "source": [
    "for col in columns_to_plot:\n",
    "    filtered_df[col] = filtered_df[col].astype(float)"
   ]
  },
  {
   "cell_type": "code",
   "execution_count": 34,
   "id": "bb266cb5",
   "metadata": {},
   "outputs": [],
   "source": [
    "def make_recurrence_plots(filtered_df, cut, cols):\n",
    "    fig, ax = plt.subplots(nrows=len(cols), ncols=2, sharex='col', figsize=(6,10))\n",
    "    rp = RecurrencePlot(threshold='point', percentage=20)\n",
    "    resampled_df = filtered_df.resample('5min').mean()\n",
    "    resampled_df = resampled_df.dropna()\n",
    "    for i,col in enumerate(cols):\n",
    "        data = resampled_df[cut]\n",
    "        data_scaled = StandardScaler().fit_transform(data[col].values.reshape(-1,1)).flatten()\n",
    "\n",
    "        ax[i, 0].plot(data[col].index, data_scaled, lw=0.7)\n",
    "        ax[i, 0].set_ylabel(col)\n",
    "        ax[i, 0].yaxis.set_major_locator(plt.MaxNLocator(5))\n",
    "        data_rp = rp.fit_transform(data_scaled.reshape(1,-1))\n",
    "        ax[i, 1].imshow(data_rp[0], cmap='binary', origin='lower', aspect='equal')\n",
    "        ax[i, 1].tick_params(axis='both', which='both', bottom=False, left=False,labelbottom=False, labelleft=False)\n",
    "#         if col == 'Tp':\n",
    "#             ax[i, 0].set_yscale('log')\n",
    "\n",
    "    \n",
    "    ax[0,0].set_title('Time Series')\n",
    "    ax[0,1].set_title('Image Representation')\n",
    "        \n",
    "    return fig, ax"
   ]
  },
  {
   "cell_type": "code",
   "execution_count": 35,
   "id": "dc8d21ef",
   "metadata": {},
   "outputs": [
    {
     "data": {
      "application/vnd.jupyter.widget-view+json": {
       "model_id": "2d87453a02a64778800a174c2e72dbd9",
       "version_major": 2,
       "version_minor": 0
      },
      "text/plain": [
       "Canvas(toolbar=Toolbar(toolitems=[('Home', 'Reset original view', 'home', 'home'), ('Back', 'Back to previous …"
      ]
     },
     "metadata": {},
     "output_type": "display_data"
    },
    {
     "data": {
      "text/plain": [
       "Text(0.5, 0.95, 'STEREO-A ICME')"
      ]
     },
     "execution_count": 35,
     "metadata": {},
     "output_type": "execute_result"
    }
   ],
   "source": [
    "icme_fig, icme_ax = make_recurrence_plots(filtered_df, icme_cut, columns_to_plot)\n",
    "icme_fig.suptitle(t='STEREO-A ICME', x=0.5, y=0.95)\n",
    "# icme_fig.savefig('icme_example.jpg',format='jpg', dpi=250, bbox_inches='tight')"
   ]
  },
  {
   "cell_type": "code",
   "execution_count": 77,
   "id": "4758e58f",
   "metadata": {},
   "outputs": [
    {
     "data": {
      "application/vnd.jupyter.widget-view+json": {
       "model_id": "18a120adbe48496691e64ae8c26ff542",
       "version_major": 2,
       "version_minor": 0
      },
      "text/plain": [
       "Canvas(toolbar=Toolbar(toolitems=[('Home', 'Reset original view', 'home', 'home'), ('Back', 'Back to previous …"
      ]
     },
     "metadata": {},
     "output_type": "display_data"
    }
   ],
   "source": [
    "sir_fig, sir_ax = make_recurrence_plots(filtered_df, sir_cut, columns_to_plot)\n",
    "sir_fig.suptitle(t='STEREO-A SIR', x=0.5, y=0.95)\n",
    "sir_fig.savefig('example_sir.jpg', format='jpg', dpi=250, bbox_inches='tight')"
   ]
  },
  {
   "cell_type": "code",
   "execution_count": null,
   "id": "41909e4c",
   "metadata": {},
   "outputs": [],
   "source": []
  }
 ],
 "metadata": {
  "kernelspec": {
   "display_name": "Python 3 (ipykernel)",
   "language": "python",
   "name": "python3"
  },
  "language_info": {
   "codemirror_mode": {
    "name": "ipython",
    "version": 3
   },
   "file_extension": ".py",
   "mimetype": "text/x-python",
   "name": "python",
   "nbconvert_exporter": "python",
   "pygments_lexer": "ipython3",
   "version": "3.7.9"
  }
 },
 "nbformat": 4,
 "nbformat_minor": 5
}
