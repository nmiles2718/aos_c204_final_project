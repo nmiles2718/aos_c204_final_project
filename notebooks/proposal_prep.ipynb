{
 "cells": [
  {
   "cell_type": "markdown",
   "id": "cadc792c",
   "metadata": {},
   "source": [
    "# Proposal Prep\n",
    "\n",
    "This notebook is used to generate the figures shown in the proposal outline."
   ]
  },
  {
   "cell_type": "code",
   "execution_count": null,
   "id": "28d46e83",
   "metadata": {},
   "outputs": [],
   "source": [
    "%matplotlib widget\n",
    "import datetime as dt\n",
    "import json\n",
    "\n",
    "import matplotlib.pyplot as plt\n",
    "import matplotlib.dates as mdates\n",
    "import matplotlib.units as munits\n",
    "import numpy as np\n",
    "import pandas as pd\n",
    "from pyts.image import RecurrencePlot\n",
    "\n",
    "from sklearn.preprocessing import StandardScaler\n",
    "\n",
    "converter = mdates.ConciseDateConverter()\n",
    "munits.registry[np.datetime64] = converter\n",
    "munits.registry[dt.date] = converter\n",
    "munits.registry[dt.datetime] = converter"
   ]
  },
  {
   "cell_type": "code",
   "execution_count": null,
   "id": "06af06e6",
   "metadata": {},
   "outputs": [],
   "source": [
    "with open('../ICME_WP4_V10.json', 'r') as fobj:\n",
    "    json_data = json.load(fobj)\n",
    "    \n",
    "df = pd.DataFrame(json_data['data'], columns=json_data['columns'])"
   ]
  },
  {
   "cell_type": "code",
   "execution_count": null,
   "id": "d448ca93",
   "metadata": {},
   "outputs": [],
   "source": [
    "df.head()"
   ]
  },
  {
   "cell_type": "code",
   "execution_count": null,
   "id": "a2d22454",
   "metadata": {},
   "outputs": [],
   "source": [
    "stereo_a_df = df[df['SC_INSITU'].str.contains('STEREO-A')]\n",
    "stereo_b_df = df[df['SC_INSITU'].str.contains('STEREO-B')]"
   ]
  },
  {
   "cell_type": "code",
   "execution_count": null,
   "id": "c98dec79",
   "metadata": {},
   "outputs": [],
   "source": [
    "stereo_a_icme_times = stereo_a_df.loc[:,['ICME_START_TIME','ICME_END_TIME']]\n",
    "stereo_b_icme_times = stereo_b_df.loc[:,['ICME_START_TIME','ICME_END_TIME']]"
   ]
  },
  {
   "cell_type": "code",
   "execution_count": null,
   "id": "94d4e13f",
   "metadata": {},
   "outputs": [],
   "source": [
    "stereo_a_icme_times['ICME_START_TIME'].min(), stereo_a_icme_times['ICME_START_TIME'].max()"
   ]
  },
  {
   "cell_type": "code",
   "execution_count": null,
   "id": "d58446d9",
   "metadata": {},
   "outputs": [],
   "source": [
    "stereo_a_icme_times.head(10)"
   ]
  },
  {
   "cell_type": "code",
   "execution_count": null,
   "id": "bfea692d",
   "metadata": {},
   "outputs": [],
   "source": [
    "stereo_b_icme_times"
   ]
  },
  {
   "cell_type": "code",
   "execution_count": null,
   "id": "763892a3",
   "metadata": {},
   "outputs": [],
   "source": [
    "def read_stereo_datasets(fname):\n",
    "    \"\"\"Function for reading in stereo datasets\"\"\"\n",
    "    with open(fname, 'r') as fobj:\n",
    "        lines = fobj.readlines()\n",
    "\n",
    "    colnames = lines[0].split()\n",
    "    tmp = lines[1].split()\n",
    "    units = []\n",
    "    units.append(' '.join(tmp[:2]))\n",
    "    units += tmp[2:]\n",
    "\n",
    "    for col, unit in zip(colnames, units):\n",
    "        print(col, unit)\n",
    "        \n",
    "    data = []\n",
    "    index = []\n",
    "    for line in tqdm(lines[2:]):\n",
    "        lsplit = line.split()\n",
    "        index.append(dt.datetime.strptime(' '.join(lsplit[:2]), '%d-%m-%Y %H:%M:%S.%f'))\n",
    "        data.append(list(map(float, lsplit[2:])))\n",
    "    \n",
    "    df = pd.DataFrame(data, columns=colnames[1:], index=pd.DatetimeIndex(index))\n",
    "    return df"
   ]
  },
  {
   "cell_type": "code",
   "execution_count": null,
   "id": "67dd3ce5",
   "metadata": {},
   "outputs": [],
   "source": [
    "df = pd.read_csv('/Users/ndmiles/Downloads/sta_mag_rtn_20070501T000000_20070531T000000_1m/sta_mag_rtn_20070501T000000_20070531T000000_1m.csv')"
   ]
  },
  {
   "cell_type": "code",
   "execution_count": null,
   "id": "b1ce3d96",
   "metadata": {},
   "outputs": [],
   "source": [
    "df.describe()"
   ]
  },
  {
   "cell_type": "code",
   "execution_count": null,
   "id": "97911231",
   "metadata": {},
   "outputs": [],
   "source": [
    "filtered_df = df[(df['BR A'].lt(1e31)) & (df['Np'].astype(float).lt(1e31))]"
   ]
  },
  {
   "cell_type": "code",
   "execution_count": null,
   "id": "d3d397b4",
   "metadata": {},
   "outputs": [],
   "source": [
    "filtered_df.index = pd.DatetimeIndex(filtered_df['Time'])"
   ]
  },
  {
   "cell_type": "code",
   "execution_count": null,
   "id": "52e4b0f1",
   "metadata": {},
   "outputs": [],
   "source": [
    "import numpy as np"
   ]
  },
  {
   "cell_type": "code",
   "execution_count": null,
   "id": "9b6963b5",
   "metadata": {},
   "outputs": [],
   "source": [
    "filtered_df['B_mag'] = np.sqrt(\n",
    "    filtered_df['BR A']**2 + filtered_df['BT A']**2 + filtered_df['BN A']**2\n",
    ")"
   ]
  },
  {
   "cell_type": "code",
   "execution_count": null,
   "id": "9ed29968",
   "metadata": {},
   "outputs": [],
   "source": [
    "filtered_df.plot(y=['BR A', 'BT A', 'BN A', 'B_mag'])"
   ]
  },
  {
   "cell_type": "code",
   "execution_count": null,
   "id": "ae083a89",
   "metadata": {},
   "outputs": [],
   "source": [
    "scaled_Br = StandardScaler().fit_transform(filtered_df['BT A'].values.reshape(-1,1)).flatten()"
   ]
  },
  {
   "cell_type": "code",
   "execution_count": null,
   "id": "dfc9c1a0",
   "metadata": {},
   "outputs": [],
   "source": [
    "fig, ax = plt.subplots(nrows=1, ncols=1)\n",
    "ax.plot(filtered_df.index, scaled_Br)"
   ]
  },
  {
   "cell_type": "code",
   "execution_count": null,
   "id": "6476cf5a",
   "metadata": {},
   "outputs": [],
   "source": [
    "scaled_Br"
   ]
  },
  {
   "cell_type": "code",
   "execution_count": null,
   "id": "c3c63052",
   "metadata": {},
   "outputs": [],
   "source": [
    "delta = dt.timedelta(days=5)\n",
    "icme_cut = slice(\n",
    "    dt.datetime(2007,5,25) - delta, \n",
    "    dt.datetime(2007,5,25) + delta\n",
    ")\n",
    "sir_cut = slice(\n",
    "    dt.datetime(2007, 5, 8) - delta,\n",
    "    dt.datetime(2007, 5, 8) + delta\n",
    ")\n",
    "columns_to_plot = ['BR A', 'BT A', 'BN A', 'B_mag', 'Np', 'Vp', 'Tp']"
   ]
  },
  {
   "cell_type": "code",
   "execution_count": null,
   "id": "518a8d6c",
   "metadata": {},
   "outputs": [],
   "source": [
    "for col in columns_to_plot:\n",
    "    filtered_df[col] = filtered_df[col].astype(float)"
   ]
  },
  {
   "cell_type": "code",
   "execution_count": null,
   "id": "a30ac109",
   "metadata": {},
   "outputs": [],
   "source": [
    "def make_recurrence_plots(filtered_df, cut, cols):\n",
    "    fig, ax = plt.subplots(nrows=len(cols), ncols=2, sharex='col', figsize=(6,10))\n",
    "    rp = RecurrencePlot(threshold='point', percentage=20)\n",
    "    resampled_df = filtered_df.resample('5min').mean()\n",
    "    resampled_df = resampled_df.dropna()\n",
    "    for i,col in enumerate(cols):\n",
    "        data = resampled_df[cut]\n",
    "        data_scaled = StandardScaler().fit_transform(data[col].values.reshape(-1,1)).flatten()\n",
    "\n",
    "        ax[i, 0].plot(data[col].index, data_scaled, lw=0.7)\n",
    "        ax[i, 0].set_ylabel(col)\n",
    "        ax[i, 0].yaxis.set_major_locator(plt.MaxNLocator(5))\n",
    "        data_rp = rp.fit_transform(data_scaled.reshape(1,-1))\n",
    "        ax[i, 1].imshow(data_rp[0], cmap='binary', origin='lower', aspect='equal')\n",
    "        ax[i, 1].tick_params(axis='both', which='both', bottom=False, left=False,labelbottom=False, labelleft=False)\n",
    "#         if col == 'Tp':\n",
    "#             ax[i, 0].set_yscale('log')\n",
    "\n",
    "    \n",
    "    ax[0,0].set_title('Time Series')\n",
    "    ax[0,1].set_title('Image Representation')\n",
    "        \n",
    "    return fig, ax"
   ]
  },
  {
   "cell_type": "code",
   "execution_count": null,
   "id": "45734f28",
   "metadata": {},
   "outputs": [],
   "source": [
    "icme_fig, icme_ax = make_recurrence_plots(filtered_df, icme_cut, columns_to_plot)\n",
    "icme_fig.suptitle(t='STEREO-A ICME', x=0.5, y=0.95)\n",
    "# icme_fig.savefig('icme_example.jpg',format='jpg', dpi=250, bbox_inches='tight')"
   ]
  },
  {
   "cell_type": "code",
   "execution_count": null,
   "id": "19351b78",
   "metadata": {},
   "outputs": [],
   "source": [
    "sir_fig, sir_ax = make_recurrence_plots(filtered_df, sir_cut, columns_to_plot)\n",
    "sir_fig.suptitle(t='STEREO-A SIR', x=0.5, y=0.95)\n",
    "sir_fig.savefig('example_sir.jpg', format='jpg', dpi=250, bbox_inches='tight')"
   ]
  },
  {
   "cell_type": "code",
   "execution_count": null,
   "id": "686e3684",
   "metadata": {},
   "outputs": [],
   "source": []
  }
 ],
 "metadata": {
  "kernelspec": {
   "display_name": "Python 3 (ipykernel)",
   "language": "python",
   "name": "python3"
  },
  "language_info": {
   "codemirror_mode": {
    "name": "ipython",
    "version": 3
   },
   "file_extension": ".py",
   "mimetype": "text/x-python",
   "name": "python",
   "nbconvert_exporter": "python",
   "pygments_lexer": "ipython3",
   "version": "3.7.9"
  }
 },
 "nbformat": 4,
 "nbformat_minor": 5
}
