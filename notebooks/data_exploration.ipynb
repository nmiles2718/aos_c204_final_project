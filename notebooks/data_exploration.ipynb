{
 "cells": [
  {
   "cell_type": "markdown",
   "id": "420844ed",
   "metadata": {},
   "source": [
    "# Data Exploration & Preparation\n",
    "\n",
    "This notebook is used to explore the in-situ data for the entire list of STEREO A and B ICMEs"
   ]
  },
  {
   "cell_type": "code",
   "execution_count": 1,
   "id": "38a0382f",
   "metadata": {},
   "outputs": [],
   "source": [
    "%matplotlib widget\n",
    "\n",
    "from collections import defaultdict\n",
    "import datetime as dt\n",
    "import json\n",
    "\n",
    "import matplotlib.pyplot as plt\n",
    "import matplotlib.dates as mdates\n",
    "import matplotlib.units as munits\n",
    "import numpy as np\n",
    "import pandas as pd\n",
    "\n",
    "from sklearn.preprocessing import StandardScaler\n",
    "\n",
    "converter = mdates.ConciseDateConverter()\n",
    "munits.registry[np.datetime64] = converter\n",
    "munits.registry[dt.date] = converter\n",
    "munits.registry[dt.datetime] = converter"
   ]
  },
  {
   "cell_type": "markdown",
   "id": "adf6f7f0",
   "metadata": {},
   "source": [
    "### Parse the full helcats ICME list and extract all of the stereo A and B ICMEs"
   ]
  },
  {
   "cell_type": "code",
   "execution_count": 2,
   "id": "f17a51b8",
   "metadata": {},
   "outputs": [],
   "source": [
    "with open('ICME_WP4_V10.json', 'r') as fobj:\n",
    "    json_data = json.load(fobj)\n",
    "    \n",
    "df = pd.DataFrame(json_data['data'], columns=json_data['columns'])\n",
    "\n",
    "sta_icme_df = df[df['SC_INSITU'].str.contains('STEREO-A')]\n",
    "stb_icme_df = df[df['SC_INSITU'].str.contains('STEREO-B')]\n",
    "\n",
    "sta_icme_df.index = pd.DatetimeIndex(sta_icme_df.loc[:,'ICME_START_TIME'])\n",
    "stb_icme_df.index = pd.DatetimeIndex(stb_icme_df.loc[:,'ICME_START_TIME'])"
   ]
  },
  {
   "cell_type": "code",
   "execution_count": 3,
   "id": "5aa02b83",
   "metadata": {},
   "outputs": [],
   "source": [
    "with open('./data/sta_l2_magplasma.txt', 'r') as fobj:\n",
    "    lines = fobj.readlines()"
   ]
  },
  {
   "cell_type": "code",
   "execution_count": 4,
   "id": "6576f2f5",
   "metadata": {},
   "outputs": [],
   "source": [
    "colnames = lines[0].split()"
   ]
  },
  {
   "cell_type": "code",
   "execution_count": 5,
   "id": "45bcc88f",
   "metadata": {},
   "outputs": [
    {
     "data": {
      "text/plain": [
       "['EPOCH',\n",
       " 'BTOTAL',\n",
       " 'R_RTN',\n",
       " 'NP',\n",
       " 'SPEED',\n",
       " 'TEMPERATURE',\n",
       " 'THERMAL_SPEED',\n",
       " 'VP_RTN',\n",
       " 'BETA',\n",
       " 'TOTAL_PRESSURE',\n",
       " 'MAGNETIC_PRESSURE',\n",
       " 'DYNANMIC_PRESSURE',\n",
       " 'BX(RTN)',\n",
       " 'BY(RTN)',\n",
       " 'BZ(RTN)']"
      ]
     },
     "execution_count": 5,
     "metadata": {},
     "output_type": "execute_result"
    }
   ],
   "source": [
    "colnames"
   ]
  },
  {
   "cell_type": "code",
   "execution_count": 6,
   "id": "f86bf7c0",
   "metadata": {},
   "outputs": [],
   "source": [
    "tmp = lines[1].split()\n",
    "units = []\n",
    "units.append(' '.join(tmp[:2]))\n",
    "units += tmp[2:]"
   ]
  },
  {
   "cell_type": "code",
   "execution_count": 7,
   "id": "f04d4ab2",
   "metadata": {},
   "outputs": [
    {
     "name": "stdout",
     "output_type": "stream",
     "text": [
      "EPOCH dd-mm-yyyy hh:mm:ss.ms\n",
      "BTOTAL nT\n",
      "R_RTN AU\n",
      "NP 1/cm3\n",
      "SPEED km/s\n",
      "TEMPERATURE deg_K\n",
      "THERMAL_SPEED km/s\n",
      "VP_RTN km/sec\n",
      "BETA Na\n",
      "TOTAL_PRESSURE pPa\n",
      "MAGNETIC_PRESSURE pPa\n",
      "DYNANMIC_PRESSURE nPa\n",
      "BX(RTN) nT\n",
      "BY(RTN) nT\n",
      "BZ(RTN) nT\n"
     ]
    }
   ],
   "source": [
    "for col, unit in zip(colnames, units):\n",
    "    print(col, unit)"
   ]
  },
  {
   "cell_type": "code",
   "execution_count": 10,
   "id": "3e3b590f",
   "metadata": {},
   "outputs": [],
   "source": [
    "data = []\n",
    "for line in lines[2:]:\n",
    "    lsplit = line.split()\n",
    "    tmp = [' '.join(lsplit[:2])]\n",
    "    tmp[1:] = list(map(float, lsplit[2:]))\n",
    "    data.append(tmp)"
   ]
  },
  {
   "cell_type": "code",
   "execution_count": 11,
   "id": "0dd981b3",
   "metadata": {},
   "outputs": [],
   "source": [
    "sta_data_df = pd.DataFrame(data, columns=colnames)"
   ]
  },
  {
   "cell_type": "code",
   "execution_count": 12,
   "id": "c94ca1a8",
   "metadata": {},
   "outputs": [
    {
     "data": {
      "text/html": [
       "<div>\n",
       "<style scoped>\n",
       "    .dataframe tbody tr th:only-of-type {\n",
       "        vertical-align: middle;\n",
       "    }\n",
       "\n",
       "    .dataframe tbody tr th {\n",
       "        vertical-align: top;\n",
       "    }\n",
       "\n",
       "    .dataframe thead th {\n",
       "        text-align: right;\n",
       "    }\n",
       "</style>\n",
       "<table border=\"1\" class=\"dataframe\">\n",
       "  <thead>\n",
       "    <tr style=\"text-align: right;\">\n",
       "      <th></th>\n",
       "      <th>EPOCH</th>\n",
       "      <th>BTOTAL</th>\n",
       "      <th>R_RTN</th>\n",
       "      <th>NP</th>\n",
       "      <th>SPEED</th>\n",
       "      <th>TEMPERATURE</th>\n",
       "      <th>THERMAL_SPEED</th>\n",
       "      <th>VP_RTN</th>\n",
       "      <th>BETA</th>\n",
       "      <th>TOTAL_PRESSURE</th>\n",
       "      <th>MAGNETIC_PRESSURE</th>\n",
       "      <th>DYNANMIC_PRESSURE</th>\n",
       "      <th>BX(RTN)</th>\n",
       "      <th>BY(RTN)</th>\n",
       "      <th>BZ(RTN)</th>\n",
       "    </tr>\n",
       "  </thead>\n",
       "  <tbody>\n",
       "    <tr>\n",
       "      <th>0</th>\n",
       "      <td>01-01-2007 00:00:00.000</td>\n",
       "      <td>3.180240e+00</td>\n",
       "      <td>9.756370e-01</td>\n",
       "      <td>-1.000000e+30</td>\n",
       "      <td>-1.000000e+30</td>\n",
       "      <td>-1.000000e+30</td>\n",
       "      <td>-1.000000e+30</td>\n",
       "      <td>-1.000000e+30</td>\n",
       "      <td>-1.000000e+30</td>\n",
       "      <td>-1.000000e+30</td>\n",
       "      <td>3.98894</td>\n",
       "      <td>-1.000000e+30</td>\n",
       "      <td>1.263500e+00</td>\n",
       "      <td>-2.765730e+00</td>\n",
       "      <td>8.455190e-01</td>\n",
       "    </tr>\n",
       "    <tr>\n",
       "      <th>1</th>\n",
       "      <td>01-01-2007 00:01:00.000</td>\n",
       "      <td>-1.000000e+30</td>\n",
       "      <td>-1.000000e+30</td>\n",
       "      <td>-1.000000e+30</td>\n",
       "      <td>-1.000000e+30</td>\n",
       "      <td>-1.000000e+30</td>\n",
       "      <td>-1.000000e+30</td>\n",
       "      <td>-1.000000e+30</td>\n",
       "      <td>-1.000000e+30</td>\n",
       "      <td>-1.000000e+30</td>\n",
       "      <td>3.50714</td>\n",
       "      <td>-1.000000e+30</td>\n",
       "      <td>-1.000000e+30</td>\n",
       "      <td>-1.000000e+30</td>\n",
       "      <td>-1.000000e+30</td>\n",
       "    </tr>\n",
       "    <tr>\n",
       "      <th>2</th>\n",
       "      <td>01-01-2007 00:00:00.000</td>\n",
       "      <td>2.899120e+00</td>\n",
       "      <td>9.756370e-01</td>\n",
       "      <td>-1.000000e+30</td>\n",
       "      <td>-1.000000e+30</td>\n",
       "      <td>-1.000000e+30</td>\n",
       "      <td>-1.000000e+30</td>\n",
       "      <td>-1.000000e+30</td>\n",
       "      <td>-1.000000e+30</td>\n",
       "      <td>-1.000000e+30</td>\n",
       "      <td>3.31640</td>\n",
       "      <td>-1.000000e+30</td>\n",
       "      <td>9.394580e-01</td>\n",
       "      <td>-2.610980e+00</td>\n",
       "      <td>7.630340e-01</td>\n",
       "    </tr>\n",
       "    <tr>\n",
       "      <th>3</th>\n",
       "      <td>01-01-2007 00:01:00.000</td>\n",
       "      <td>3.066530e+00</td>\n",
       "      <td>9.756370e-01</td>\n",
       "      <td>-1.000000e+30</td>\n",
       "      <td>-1.000000e+30</td>\n",
       "      <td>-1.000000e+30</td>\n",
       "      <td>-1.000000e+30</td>\n",
       "      <td>-1.000000e+30</td>\n",
       "      <td>-1.000000e+30</td>\n",
       "      <td>-1.000000e+30</td>\n",
       "      <td>3.71351</td>\n",
       "      <td>-1.000000e+30</td>\n",
       "      <td>6.230790e-01</td>\n",
       "      <td>-2.858610e+00</td>\n",
       "      <td>7.601570e-01</td>\n",
       "    </tr>\n",
       "    <tr>\n",
       "      <th>4</th>\n",
       "      <td>01-01-2007 00:02:00.000</td>\n",
       "      <td>3.220200e+00</td>\n",
       "      <td>9.756370e-01</td>\n",
       "      <td>-1.000000e+30</td>\n",
       "      <td>-1.000000e+30</td>\n",
       "      <td>-1.000000e+30</td>\n",
       "      <td>-1.000000e+30</td>\n",
       "      <td>-1.000000e+30</td>\n",
       "      <td>-1.000000e+30</td>\n",
       "      <td>-1.000000e+30</td>\n",
       "      <td>4.10237</td>\n",
       "      <td>-1.000000e+30</td>\n",
       "      <td>8.397650e-02</td>\n",
       "      <td>-3.060510e+00</td>\n",
       "      <td>8.997060e-01</td>\n",
       "    </tr>\n",
       "  </tbody>\n",
       "</table>\n",
       "</div>"
      ],
      "text/plain": [
       "                     EPOCH        BTOTAL         R_RTN            NP  \\\n",
       "0  01-01-2007 00:00:00.000  3.180240e+00  9.756370e-01 -1.000000e+30   \n",
       "1  01-01-2007 00:01:00.000 -1.000000e+30 -1.000000e+30 -1.000000e+30   \n",
       "2  01-01-2007 00:00:00.000  2.899120e+00  9.756370e-01 -1.000000e+30   \n",
       "3  01-01-2007 00:01:00.000  3.066530e+00  9.756370e-01 -1.000000e+30   \n",
       "4  01-01-2007 00:02:00.000  3.220200e+00  9.756370e-01 -1.000000e+30   \n",
       "\n",
       "          SPEED   TEMPERATURE  THERMAL_SPEED        VP_RTN          BETA  \\\n",
       "0 -1.000000e+30 -1.000000e+30  -1.000000e+30 -1.000000e+30 -1.000000e+30   \n",
       "1 -1.000000e+30 -1.000000e+30  -1.000000e+30 -1.000000e+30 -1.000000e+30   \n",
       "2 -1.000000e+30 -1.000000e+30  -1.000000e+30 -1.000000e+30 -1.000000e+30   \n",
       "3 -1.000000e+30 -1.000000e+30  -1.000000e+30 -1.000000e+30 -1.000000e+30   \n",
       "4 -1.000000e+30 -1.000000e+30  -1.000000e+30 -1.000000e+30 -1.000000e+30   \n",
       "\n",
       "   TOTAL_PRESSURE  MAGNETIC_PRESSURE  DYNANMIC_PRESSURE       BX(RTN)  \\\n",
       "0   -1.000000e+30            3.98894      -1.000000e+30  1.263500e+00   \n",
       "1   -1.000000e+30            3.50714      -1.000000e+30 -1.000000e+30   \n",
       "2   -1.000000e+30            3.31640      -1.000000e+30  9.394580e-01   \n",
       "3   -1.000000e+30            3.71351      -1.000000e+30  6.230790e-01   \n",
       "4   -1.000000e+30            4.10237      -1.000000e+30  8.397650e-02   \n",
       "\n",
       "        BY(RTN)       BZ(RTN)  \n",
       "0 -2.765730e+00  8.455190e-01  \n",
       "1 -1.000000e+30 -1.000000e+30  \n",
       "2 -2.610980e+00  7.630340e-01  \n",
       "3 -2.858610e+00  7.601570e-01  \n",
       "4 -3.060510e+00  8.997060e-01  "
      ]
     },
     "execution_count": 12,
     "metadata": {},
     "output_type": "execute_result"
    }
   ],
   "source": [
    "sta_data_df.head()"
   ]
  },
  {
   "cell_type": "code",
   "execution_count": 13,
   "id": "ba34fb14",
   "metadata": {},
   "outputs": [],
   "source": [
    "sta_data_df.index = pd.DatetimeIndex(sta_data_df['EPOCH'])"
   ]
  },
  {
   "cell_type": "code",
   "execution_count": 17,
   "id": "1930bb64",
   "metadata": {},
   "outputs": [
    {
     "data": {
      "application/vnd.jupyter.widget-view+json": {
       "model_id": "83d697b8140042e99d9d100c7995184e",
       "version_major": 2,
       "version_minor": 0
      },
      "text/plain": [
       "Canvas(toolbar=Toolbar(toolitems=[('Home', 'Reset original view', 'home', 'home'), ('Back', 'Back to previous …"
      ]
     },
     "metadata": {},
     "output_type": "display_data"
    },
    {
     "data": {
      "text/plain": [
       "<AxesSubplot:xlabel='EPOCH'>"
      ]
     },
     "execution_count": 17,
     "metadata": {},
     "output_type": "execute_result"
    }
   ],
   "source": [
    "sta_data_df[sta_data_df['BTOTAL'].gt(-1e30)].sort_index().rolling('20D', center=True).mean().plot(y='BTOTAL')"
   ]
  },
  {
   "cell_type": "code",
   "execution_count": null,
   "id": "f510f98c",
   "metadata": {},
   "outputs": [],
   "source": []
  }
 ],
 "metadata": {
  "kernelspec": {
   "display_name": "Python 3 (ipykernel)",
   "language": "python",
   "name": "python3"
  },
  "language_info": {
   "codemirror_mode": {
    "name": "ipython",
    "version": 3
   },
   "file_extension": ".py",
   "mimetype": "text/x-python",
   "name": "python",
   "nbconvert_exporter": "python",
   "pygments_lexer": "ipython3",
   "version": "3.7.9"
  }
 },
 "nbformat": 4,
 "nbformat_minor": 5
}
