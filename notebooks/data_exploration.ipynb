{
 "cells": [
  {
   "cell_type": "markdown",
   "id": "4a13fb99",
   "metadata": {},
   "source": [
    "# Data Exploration & Preparation\n",
    "\n",
    "This notebook is used to explore the in-situ data for the entire list of STEREO A and B ICMEs.\n",
    "\n",
    "Parameters of interest:\n",
    "- Magnetic field components\n",
    "- Magnetic field strength\n",
    "- Proton number density\n",
    "- Proton speed\n",
    "- Proton temperature"
   ]
  },
  {
   "cell_type": "code",
   "execution_count": 1,
   "id": "84568668",
   "metadata": {},
   "outputs": [],
   "source": [
    "from collections import defaultdict\n",
    "import datetime as dt\n",
    "import json\n",
    "\n",
    "import matplotlib.pyplot as plt\n",
    "import matplotlib.dates as mdates\n",
    "import matplotlib.units as munits\n",
    "from matplotlib.backends.backend_pdf import PdfPages\n",
    "import numpy as np\n",
    "import pandas as pd\n",
    "from pyts.image import RecurrencePlot\n",
    "\n",
    "from sklearn.preprocessing import StandardScaler\n",
    "from tqdm.notebook import tqdm\n",
    "\n",
    "converter = mdates.ConciseDateConverter()\n",
    "munits.registry[np.datetime64] = converter\n",
    "munits.registry[dt.date] = converter\n",
    "munits.registry[dt.datetime] = converter"
   ]
  },
  {
   "cell_type": "markdown",
   "id": "e0002779",
   "metadata": {},
   "source": [
    "### Parse the full helcats ICME list and extract all of the stereo A and B ICMEs"
   ]
  },
  {
   "cell_type": "code",
   "execution_count": 2,
   "id": "67dae1bc",
   "metadata": {},
   "outputs": [],
   "source": [
    "with open('../ICME_WP4_V10.json', 'r') as fobj:\n",
    "    json_data = json.load(fobj)\n",
    "    \n",
    "df = pd.DataFrame(json_data['data'], columns=json_data['columns'])\n",
    "\n",
    "sta_icme_df = df[df['SC_INSITU'].str.contains('STEREO-A')]\n",
    "stb_icme_df = df[df['SC_INSITU'].str.contains('STEREO-B')]\n",
    "\n",
    "sta_icme_df.index = pd.DatetimeIndex(sta_icme_df.loc[:,'ICME_START_TIME']).tz_localize(None)\n",
    "stb_icme_df.index = pd.DatetimeIndex(stb_icme_df.loc[:,'ICME_START_TIME']).tz_localize(None)"
   ]
  },
  {
   "cell_type": "code",
   "execution_count": 76,
   "id": "ccfa62e3",
   "metadata": {},
   "outputs": [],
   "source": [
    "sta_icme_df.to_csv('../data/sta_icme_list.txt', header=True, index=True)\n",
    "stb_icme_df.to_csv('../data/stb_icme_list.txt', header=True, index=True)"
   ]
  },
  {
   "cell_type": "code",
   "execution_count": 48,
   "id": "ef69fe9d",
   "metadata": {},
   "outputs": [],
   "source": [
    "def read_stereo_datasets(fname):\n",
    "    \"\"\"Function for reading in stereo datasets\"\"\"\n",
    "    with open(fname, 'r') as fobj:\n",
    "        lines = fobj.readlines()\n",
    "\n",
    "    colnames = lines[0].split()\n",
    "    tmp = lines[1].split()\n",
    "    units = []\n",
    "    units.append(' '.join(tmp[:2]))\n",
    "    units += tmp[2:]\n",
    "\n",
    "    for col, unit in zip(colnames, units):\n",
    "        print(col, unit)\n",
    "        \n",
    "    data = []\n",
    "    index = []\n",
    "    for line in tqdm(lines[2:]):\n",
    "        lsplit = line.split()\n",
    "        index.append(dt.datetime.strptime(' '.join(lsplit[:2]), '%d-%m-%Y %H:%M:%S.%f'))\n",
    "        data.append(list(map(float, lsplit[2:])))\n",
    "    \n",
    "    df = pd.DataFrame(data, columns=colnames[1:], index=pd.DatetimeIndex(index))\n",
    "    return df"
   ]
  },
  {
   "cell_type": "markdown",
   "id": "e6668f96",
   "metadata": {},
   "source": [
    "### STEREO A dataset"
   ]
  },
  {
   "cell_type": "code",
   "execution_count": 49,
   "id": "5a8320f0",
   "metadata": {},
   "outputs": [
    {
     "name": "stdout",
     "output_type": "stream",
     "text": [
      "<class 'pandas.core.frame.DataFrame'>\n",
      "DatetimeIndex: 168 entries, 2007-01-14 12:11:00 to 2014-08-11 09:03:00\n",
      "Data columns (total 30 columns):\n",
      " #   Column                  Non-Null Count  Dtype \n",
      "---  ------                  --------------  ----- \n",
      " 0   ICMECAT_ID              168 non-null    object\n",
      " 1   SC_INSITU               168 non-null    object\n",
      " 2   ICME_START_TIME         168 non-null    object\n",
      " 3   MO_START_TIME           168 non-null    object\n",
      " 4   MO_END_TIME             168 non-null    object\n",
      " 5   ICME_END_TIME           168 non-null    object\n",
      " 6   MO_BMAX                 168 non-null    object\n",
      " 7   MO_BMEAN                168 non-null    object\n",
      " 8   MO_BSTD                 168 non-null    object\n",
      " 9   MO_BZMEAN               168 non-null    object\n",
      " 10  MO_BZMIN                168 non-null    object\n",
      " 11  MO_DURATION             168 non-null    object\n",
      " 12  SC_HELIODISTANCE        168 non-null    object\n",
      " 13  SC_LONG_HEEQ            168 non-null    object\n",
      " 14  SC_LAT_HEEQ             168 non-null    object\n",
      " 15  MO_MVA_AXIS_LONG        168 non-null    object\n",
      " 16  MO_MVA_AXIS_LAT         168 non-null    object\n",
      " 17  MO_MVA_RATIO            168 non-null    object\n",
      " 18  SHEATH_SPEED            168 non-null    object\n",
      " 19  SHEATH_SPEED_STD        168 non-null    object\n",
      " 20  MO_SPEED                168 non-null    object\n",
      " 21  MO_SPEED_STD            168 non-null    object\n",
      " 22  SHEATH_DENSITY          168 non-null    object\n",
      " 23  SHEATH_DENSITY_STD      168 non-null    object\n",
      " 24  MO_DENSITY              168 non-null    object\n",
      " 25  MO_DENSITY_STD          168 non-null    object\n",
      " 26  SHEATH_TEMPERATURE      168 non-null    object\n",
      " 27  SHEATH_TEMPERATURE_STD  168 non-null    object\n",
      " 28  MO_TEMPERATURE          168 non-null    object\n",
      " 29  MO_TEMPERATURE_STD      168 non-null    object\n",
      "dtypes: object(30)\n",
      "memory usage: 40.7+ KB\n"
     ]
    }
   ],
   "source": [
    "sta_icme_df.info()"
   ]
  },
  {
   "cell_type": "code",
   "execution_count": 50,
   "id": "9d0dda0e",
   "metadata": {},
   "outputs": [
    {
     "name": "stdout",
     "output_type": "stream",
     "text": [
      "EPOCH dd-mm-yyyy hh:mm:ss.ms\n",
      "BTOTAL nT\n",
      "R_RTN AU\n",
      "NP 1/cm3\n",
      "SPEED km/s\n",
      "TEMPERATURE deg_K\n",
      "THERMAL_SPEED km/s\n",
      "VP_RTN km/sec\n",
      "BETA Na\n",
      "TOTAL_PRESSURE pPa\n",
      "MAGNETIC_PRESSURE pPa\n",
      "DYNANMIC_PRESSURE nPa\n",
      "BX(RTN) nT\n",
      "BY(RTN) nT\n",
      "BZ(RTN) nT\n"
     ]
    },
    {
     "data": {
      "application/vnd.jupyter.widget-view+json": {
       "model_id": "26c4b21e622246fdadebd0202b83700c",
       "version_major": 2,
       "version_minor": 0
      },
      "text/plain": [
       "HBox(children=(HTML(value=''), FloatProgress(value=0.0, max=3974854.0), HTML(value='')))"
      ]
     },
     "metadata": {},
     "output_type": "display_data"
    },
    {
     "name": "stdout",
     "output_type": "stream",
     "text": [
      "\n"
     ]
    }
   ],
   "source": [
    "sta_data_df = read_stereo_datasets('../data/sta_l2_magplasma.txt')"
   ]
  },
  {
   "cell_type": "code",
   "execution_count": 51,
   "id": "235c92b1",
   "metadata": {},
   "outputs": [
    {
     "data": {
      "text/plain": [
       "Timestamp('2007-01-01 00:00:00')"
      ]
     },
     "execution_count": 51,
     "metadata": {},
     "output_type": "execute_result"
    }
   ],
   "source": [
    "sta_data_df.index[0]"
   ]
  },
  {
   "cell_type": "code",
   "execution_count": 52,
   "id": "6e9ed27c",
   "metadata": {},
   "outputs": [
    {
     "data": {
      "text/plain": [
       "<AxesSubplot:>"
      ]
     },
     "execution_count": 52,
     "metadata": {},
     "output_type": "execute_result"
    },
    {
     "data": {
      "image/png": "[encoded data removed]",
      "text/plain": [
       "<Figure size 432x288 with 1 Axes>"
      ]
     },
     "metadata": {
      "needs_background": "light"
     },
     "output_type": "display_data"
    }
   ],
   "source": [
    "sta_data_df[sta_data_df['BTOTAL'].gt(-1e30)].sort_index().rolling('20D', center=True).mean().plot(y='BTOTAL')"
   ]
  },
  {
   "cell_type": "code",
   "execution_count": 53,
   "id": "87c591e4",
   "metadata": {},
   "outputs": [
    {
     "name": "stdout",
     "output_type": "stream",
     "text": [
      "BTOTAL\n",
      "R_RTN\n",
      "NP\n",
      "SPEED\n",
      "TEMPERATURE\n",
      "THERMAL_SPEED\n",
      "VP_RTN\n",
      "BETA\n",
      "TOTAL_PRESSURE\n",
      "MAGNETIC_PRESSURE\n",
      "DYNANMIC_PRESSURE\n",
      "BX(RTN)\n",
      "BY(RTN)\n",
      "BZ(RTN)\n"
     ]
    }
   ],
   "source": [
    "for col in sta_data_df.columns:\n",
    "    print(col)"
   ]
  },
  {
   "cell_type": "code",
   "execution_count": 59,
   "id": "19ec41c4",
   "metadata": {},
   "outputs": [],
   "source": [
    "cols_of_interest = [\n",
    "    'BTOTAL', \n",
    "    'BX(RTN)',\n",
    "    'BY(RTN)',\n",
    "    'BZ(RTN)', \n",
    "    'VP_RTN',\n",
    "    'NP',\n",
    "    'TEMPERATURE',\n",
    "    'BETA'\n",
    "]"
   ]
  },
  {
   "cell_type": "code",
   "execution_count": 60,
   "id": "db6304b7",
   "metadata": {},
   "outputs": [],
   "source": [
    "sta_data_cut_df = sta_data_df[cols_of_interest]"
   ]
  },
  {
   "cell_type": "code",
   "execution_count": 61,
   "id": "a74fcf62",
   "metadata": {},
   "outputs": [],
   "source": [
    "sta_data_cut_df = sta_data_cut_df[sta_data_cut_df.gt(-1e30)].dropna().sort_index()"
   ]
  },
  {
   "cell_type": "markdown",
   "id": "5ed41567",
   "metadata": {},
   "source": [
    "Remove all rows where the number density, temperature, or beta values are negative since they are unphysical"
   ]
  },
  {
   "cell_type": "code",
   "execution_count": 62,
   "id": "1b05b15c",
   "metadata": {},
   "outputs": [],
   "source": [
    "sta_data_cut_df = sta_data_cut_df[~sta_data_cut_df['NP'].lt(0)]\n",
    "sta_data_cut_df = sta_data_cut_df[~sta_data_cut_df['TEMPERATURE'].lt(0)]\n",
    "sta_data_cut_df = sta_data_cut_df[~sta_data_cut_df['BETA'].lt(0)]"
   ]
  },
  {
   "cell_type": "code",
   "execution_count": 63,
   "id": "0926468d",
   "metadata": {},
   "outputs": [
    {
     "data": {
      "text/html": [
       "<div>\n",
       "<style scoped>\n",
       "    .dataframe tbody tr th:only-of-type {\n",
       "        vertical-align: middle;\n",
       "    }\n",
       "\n",
       "    .dataframe tbody tr th {\n",
       "        vertical-align: top;\n",
       "    }\n",
       "\n",
       "    .dataframe thead th {\n",
       "        text-align: right;\n",
       "    }\n",
       "</style>\n",
       "<table border=\"1\" class=\"dataframe\">\n",
       "  <thead>\n",
       "    <tr style=\"text-align: right;\">\n",
       "      <th></th>\n",
       "      <th>BTOTAL</th>\n",
       "      <th>BX(RTN)</th>\n",
       "      <th>BY(RTN)</th>\n",
       "      <th>BZ(RTN)</th>\n",
       "      <th>VP_RTN</th>\n",
       "      <th>NP</th>\n",
       "      <th>TEMPERATURE</th>\n",
       "      <th>BETA</th>\n",
       "    </tr>\n",
       "  </thead>\n",
       "  <tbody>\n",
       "    <tr>\n",
       "      <th>count</th>\n",
       "      <td>3.543276e+06</td>\n",
       "      <td>3.543276e+06</td>\n",
       "      <td>3.543276e+06</td>\n",
       "      <td>3.543276e+06</td>\n",
       "      <td>3.543276e+06</td>\n",
       "      <td>3.543276e+06</td>\n",
       "      <td>3.543276e+06</td>\n",
       "      <td>3.543276e+06</td>\n",
       "    </tr>\n",
       "    <tr>\n",
       "      <th>mean</th>\n",
       "      <td>5.069539e+00</td>\n",
       "      <td>-1.408620e-01</td>\n",
       "      <td>1.139330e-01</td>\n",
       "      <td>-7.498644e-03</td>\n",
       "      <td>4.049416e+02</td>\n",
       "      <td>5.267301e+00</td>\n",
       "      <td>7.347075e+04</td>\n",
       "      <td>2.617007e+00</td>\n",
       "    </tr>\n",
       "    <tr>\n",
       "      <th>std</th>\n",
       "      <td>2.661191e+00</td>\n",
       "      <td>3.119996e+00</td>\n",
       "      <td>3.646524e+00</td>\n",
       "      <td>2.996122e+00</td>\n",
       "      <td>9.609274e+01</td>\n",
       "      <td>4.843194e+00</td>\n",
       "      <td>7.054722e+04</td>\n",
       "      <td>8.597773e+00</td>\n",
       "    </tr>\n",
       "    <tr>\n",
       "      <th>min</th>\n",
       "      <td>1.348080e-01</td>\n",
       "      <td>-2.881470e+01</td>\n",
       "      <td>-4.106490e+01</td>\n",
       "      <td>-3.958670e+01</td>\n",
       "      <td>2.334080e+02</td>\n",
       "      <td>1.416540e-02</td>\n",
       "      <td>5.541540e+02</td>\n",
       "      <td>4.649130e-03</td>\n",
       "    </tr>\n",
       "    <tr>\n",
       "      <th>25%</th>\n",
       "      <td>3.433730e+00</td>\n",
       "      <td>-2.407550e+00</td>\n",
       "      <td>-2.313270e+00</td>\n",
       "      <td>-1.536280e+00</td>\n",
       "      <td>3.327240e+02</td>\n",
       "      <td>2.465747e+00</td>\n",
       "      <td>3.255028e+04</td>\n",
       "      <td>8.266545e-01</td>\n",
       "    </tr>\n",
       "    <tr>\n",
       "      <th>50%</th>\n",
       "      <td>4.442240e+00</td>\n",
       "      <td>-1.544590e-01</td>\n",
       "      <td>1.489060e-01</td>\n",
       "      <td>-1.573185e-02</td>\n",
       "      <td>3.831290e+02</td>\n",
       "      <td>3.868510e+00</td>\n",
       "      <td>5.303050e+04</td>\n",
       "      <td>1.397120e+00</td>\n",
       "    </tr>\n",
       "    <tr>\n",
       "      <th>75%</th>\n",
       "      <td>5.950880e+00</td>\n",
       "      <td>2.204580e+00</td>\n",
       "      <td>2.523592e+00</td>\n",
       "      <td>1.541770e+00</td>\n",
       "      <td>4.584470e+02</td>\n",
       "      <td>6.349015e+00</td>\n",
       "      <td>9.103032e+04</td>\n",
       "      <td>2.460643e+00</td>\n",
       "    </tr>\n",
       "    <tr>\n",
       "      <th>max</th>\n",
       "      <td>4.920680e+01</td>\n",
       "      <td>2.935560e+01</td>\n",
       "      <td>3.978210e+01</td>\n",
       "      <td>4.463500e+01</td>\n",
       "      <td>8.409310e+02</td>\n",
       "      <td>1.122680e+02</td>\n",
       "      <td>5.249400e+06</td>\n",
       "      <td>2.648700e+03</td>\n",
       "    </tr>\n",
       "  </tbody>\n",
       "</table>\n",
       "</div>"
      ],
      "text/plain": [
       "             BTOTAL       BX(RTN)       BY(RTN)       BZ(RTN)        VP_RTN  \\\n",
       "count  3.543276e+06  3.543276e+06  3.543276e+06  3.543276e+06  3.543276e+06   \n",
       "mean   5.069539e+00 -1.408620e-01  1.139330e-01 -7.498644e-03  4.049416e+02   \n",
       "std    2.661191e+00  3.119996e+00  3.646524e+00  2.996122e+00  9.609274e+01   \n",
       "min    1.348080e-01 -2.881470e+01 -4.106490e+01 -3.958670e+01  2.334080e+02   \n",
       "25%    3.433730e+00 -2.407550e+00 -2.313270e+00 -1.536280e+00  3.327240e+02   \n",
       "50%    4.442240e+00 -1.544590e-01  1.489060e-01 -1.573185e-02  3.831290e+02   \n",
       "75%    5.950880e+00  2.204580e+00  2.523592e+00  1.541770e+00  4.584470e+02   \n",
       "max    4.920680e+01  2.935560e+01  3.978210e+01  4.463500e+01  8.409310e+02   \n",
       "\n",
       "                 NP   TEMPERATURE          BETA  \n",
       "count  3.543276e+06  3.543276e+06  3.543276e+06  \n",
       "mean   5.267301e+00  7.347075e+04  2.617007e+00  \n",
       "std    4.843194e+00  7.054722e+04  8.597773e+00  \n",
       "min    1.416540e-02  5.541540e+02  4.649130e-03  \n",
       "25%    2.465747e+00  3.255028e+04  8.266545e-01  \n",
       "50%    3.868510e+00  5.303050e+04  1.397120e+00  \n",
       "75%    6.349015e+00  9.103032e+04  2.460643e+00  \n",
       "max    1.122680e+02  5.249400e+06  2.648700e+03  "
      ]
     },
     "execution_count": 63,
     "metadata": {},
     "output_type": "execute_result"
    }
   ],
   "source": [
    "sta_data_cut_df.describe()"
   ]
  },
  {
   "cell_type": "code",
   "execution_count": 64,
   "id": "3efc7237",
   "metadata": {},
   "outputs": [
    {
     "data": {
      "text/plain": [
       "3543276"
      ]
     },
     "execution_count": 64,
     "metadata": {},
     "output_type": "execute_result"
    }
   ],
   "source": [
    "(~sta_data_cut_df['NP'].lt(0)).sum()"
   ]
  },
  {
   "cell_type": "code",
   "execution_count": 65,
   "id": "390617d4",
   "metadata": {},
   "outputs": [],
   "source": [
    "sta_data_cut_df.to_csv(\"sta_dataset_cleaned.txt\", header=True, index=True)"
   ]
  },
  {
   "cell_type": "code",
   "execution_count": 66,
   "id": "db8470f5",
   "metadata": {},
   "outputs": [
    {
     "name": "stdout",
     "output_type": "stream",
     "text": [
      "<class 'pandas.core.frame.DataFrame'>\n",
      "DatetimeIndex: 3543276 entries, 2007-02-14 00:02:00 to 2014-08-18 23:58:00\n",
      "Data columns (total 8 columns):\n",
      " #   Column       Dtype  \n",
      "---  ------       -----  \n",
      " 0   BTOTAL       float64\n",
      " 1   BX(RTN)      float64\n",
      " 2   BY(RTN)      float64\n",
      " 3   BZ(RTN)      float64\n",
      " 4   VP_RTN       float64\n",
      " 5   NP           float64\n",
      " 6   TEMPERATURE  float64\n",
      " 7   BETA         float64\n",
      "dtypes: float64(8)\n",
      "memory usage: 243.3 MB\n"
     ]
    }
   ],
   "source": [
    "sta_data_cut_df.info()"
   ]
  },
  {
   "cell_type": "code",
   "execution_count": 67,
   "id": "a39afcad",
   "metadata": {},
   "outputs": [
    {
     "data": {
      "text/plain": [
       "['BTOTAL',\n",
       " 'BX(RTN)',\n",
       " 'BY(RTN)',\n",
       " 'BZ(RTN)',\n",
       " 'VP_RTN',\n",
       " 'NP',\n",
       " 'TEMPERATURE',\n",
       " 'BETA']"
      ]
     },
     "execution_count": 67,
     "metadata": {},
     "output_type": "execute_result"
    }
   ],
   "source": [
    "cols_of_interest"
   ]
  },
  {
   "cell_type": "code",
   "execution_count": 68,
   "id": "e4c74e6e",
   "metadata": {},
   "outputs": [],
   "source": [
    "def quality_check_plot(stereo_df, icme_date, window_size=dt.timedelta(days=5), cols=[], normalize=True):\n",
    "    fig, axes = plt.subplots(nrows=len(cols), ncols=1, figsize=(5,10), gridspec_kw={'hspace':0.1}, sharex=True)\n",
    "    icme_window = slice(icme_date - window_size, icme_date + window_size)\n",
    "    icme_data = stereo_df[icme_window][cols]\n",
    "    for col, ax in zip(cols, axes):\n",
    "        x = icme_data.index\n",
    "        if normalize:\n",
    "            y = StandardScaler().fit_transform(icme_data[col].values.reshape(-1,1)).flatten()\n",
    "        else:\n",
    "            y = icme_data[col]\n",
    "        ax.plot(x, y, lw=0.8)\n",
    "        ax.set_ylabel(col)\n",
    "#         mean, std = icme_data[col].mean(), icme_data[col].std()\n",
    "#         if 'temp' in col.lower() and not normalize:\n",
    "#             ax.set_yscale('log')\n",
    "        ax.grid(True, lw=0.8, ls='--', alpha=0.5, c='k')\n",
    "        ax.axvline(icme_date, ls='-', c='r', lw=1.25)\n",
    "    axes[0].set_title(f'Normalized ICME Measurements\\n ICME Start time: {icme_date}')\n",
    "    return fig"
   ]
  },
  {
   "cell_type": "code",
   "execution_count": 69,
   "id": "a43055ea",
   "metadata": {},
   "outputs": [
    {
     "data": {
      "text/html": [
       "<div>\n",
       "<style scoped>\n",
       "    .dataframe tbody tr th:only-of-type {\n",
       "        vertical-align: middle;\n",
       "    }\n",
       "\n",
       "    .dataframe tbody tr th {\n",
       "        vertical-align: top;\n",
       "    }\n",
       "\n",
       "    .dataframe thead th {\n",
       "        text-align: right;\n",
       "    }\n",
       "</style>\n",
       "<table border=\"1\" class=\"dataframe\">\n",
       "  <thead>\n",
       "    <tr style=\"text-align: right;\">\n",
       "      <th></th>\n",
       "      <th>ICMECAT_ID</th>\n",
       "      <th>SC_INSITU</th>\n",
       "      <th>ICME_START_TIME</th>\n",
       "      <th>MO_START_TIME</th>\n",
       "      <th>MO_END_TIME</th>\n",
       "      <th>ICME_END_TIME</th>\n",
       "      <th>MO_BMAX</th>\n",
       "      <th>MO_BMEAN</th>\n",
       "      <th>MO_BSTD</th>\n",
       "      <th>MO_BZMEAN</th>\n",
       "      <th>...</th>\n",
       "      <th>MO_SPEED</th>\n",
       "      <th>MO_SPEED_STD</th>\n",
       "      <th>SHEATH_DENSITY</th>\n",
       "      <th>SHEATH_DENSITY_STD</th>\n",
       "      <th>MO_DENSITY</th>\n",
       "      <th>MO_DENSITY_STD</th>\n",
       "      <th>SHEATH_TEMPERATURE</th>\n",
       "      <th>SHEATH_TEMPERATURE_STD</th>\n",
       "      <th>MO_TEMPERATURE</th>\n",
       "      <th>MO_TEMPERATURE_STD</th>\n",
       "    </tr>\n",
       "    <tr>\n",
       "      <th>ICME_START_TIME</th>\n",
       "      <th></th>\n",
       "      <th></th>\n",
       "      <th></th>\n",
       "      <th></th>\n",
       "      <th></th>\n",
       "      <th></th>\n",
       "      <th></th>\n",
       "      <th></th>\n",
       "      <th></th>\n",
       "      <th></th>\n",
       "      <th></th>\n",
       "      <th></th>\n",
       "      <th></th>\n",
       "      <th></th>\n",
       "      <th></th>\n",
       "      <th></th>\n",
       "      <th></th>\n",
       "      <th></th>\n",
       "      <th></th>\n",
       "      <th></th>\n",
       "      <th></th>\n",
       "    </tr>\n",
       "  </thead>\n",
       "  <tbody>\n",
       "    <tr>\n",
       "      <th>2007-01-14 12:11:00</th>\n",
       "      <td>ICME_STEREO_A_JIAN_20070114_01</td>\n",
       "      <td>STEREO-A</td>\n",
       "      <td>2007-01-14T12:11Z</td>\n",
       "      <td>2007-01-14T14:39Z</td>\n",
       "      <td>2007-01-15T07:34Z</td>\n",
       "      <td>9999-99-99T99:99Z</td>\n",
       "      <td>14.9</td>\n",
       "      <td>12.4</td>\n",
       "      <td>1.8</td>\n",
       "      <td>1.0</td>\n",
       "      <td>...</td>\n",
       "      <td>-NaN</td>\n",
       "      <td>-NaN</td>\n",
       "      <td>-NaN</td>\n",
       "      <td>-NaN</td>\n",
       "      <td>-NaN</td>\n",
       "      <td>-NaN</td>\n",
       "      <td>-NaN</td>\n",
       "      <td>-NaN</td>\n",
       "      <td>-NaN</td>\n",
       "      <td>-NaN</td>\n",
       "    </tr>\n",
       "    <tr>\n",
       "      <th>2007-05-22 14:00:00</th>\n",
       "      <td>ICME_STEREO_A_JIAN_20070522_01</td>\n",
       "      <td>STEREO-A</td>\n",
       "      <td>2007-05-22T14:00Z</td>\n",
       "      <td>2007-05-22T14:00Z</td>\n",
       "      <td>2007-05-23T13:30Z</td>\n",
       "      <td>9999-99-99T99:99Z</td>\n",
       "      <td>11.8</td>\n",
       "      <td>9.6</td>\n",
       "      <td>1.6</td>\n",
       "      <td>-4.4</td>\n",
       "      <td>...</td>\n",
       "      <td>498.5</td>\n",
       "      <td>18.4</td>\n",
       "      <td>NaN</td>\n",
       "      <td>NaN</td>\n",
       "      <td>4.4</td>\n",
       "      <td>2.9</td>\n",
       "      <td>NaN</td>\n",
       "      <td>NaN</td>\n",
       "      <td>42323.5</td>\n",
       "      <td>23120.6</td>\n",
       "    </tr>\n",
       "    <tr>\n",
       "      <th>2007-08-25 20:30:00</th>\n",
       "      <td>ICME_STEREO_A_JIAN_20070825_01</td>\n",
       "      <td>STEREO-A</td>\n",
       "      <td>2007-08-25T20:30Z</td>\n",
       "      <td>2007-08-25T23:27Z</td>\n",
       "      <td>2007-08-26T16:00Z</td>\n",
       "      <td>9999-99-99T99:99Z</td>\n",
       "      <td>14.7</td>\n",
       "      <td>13.0</td>\n",
       "      <td>0.9</td>\n",
       "      <td>-3.7</td>\n",
       "      <td>...</td>\n",
       "      <td>350.2</td>\n",
       "      <td>10.2</td>\n",
       "      <td>39.6</td>\n",
       "      <td>6.0</td>\n",
       "      <td>12.7</td>\n",
       "      <td>4.4</td>\n",
       "      <td>46029.4</td>\n",
       "      <td>12501.6</td>\n",
       "      <td>55856.6</td>\n",
       "      <td>30342.4</td>\n",
       "    </tr>\n",
       "    <tr>\n",
       "      <th>2007-11-19 22:00:00</th>\n",
       "      <td>ICME_STEREO_A_JIAN_20071119_01</td>\n",
       "      <td>STEREO-A</td>\n",
       "      <td>2007-11-19T22:00Z</td>\n",
       "      <td>2007-11-19T22:00Z</td>\n",
       "      <td>2007-11-21T03:17Z</td>\n",
       "      <td>9999-99-99T99:99Z</td>\n",
       "      <td>19.3</td>\n",
       "      <td>9.9</td>\n",
       "      <td>3.0</td>\n",
       "      <td>0.2</td>\n",
       "      <td>...</td>\n",
       "      <td>419.4</td>\n",
       "      <td>9.9</td>\n",
       "      <td>NaN</td>\n",
       "      <td>NaN</td>\n",
       "      <td>10.2</td>\n",
       "      <td>8.7</td>\n",
       "      <td>NaN</td>\n",
       "      <td>NaN</td>\n",
       "      <td>36033.6</td>\n",
       "      <td>16108.6</td>\n",
       "    </tr>\n",
       "    <tr>\n",
       "      <th>2008-03-21 06:40:00</th>\n",
       "      <td>ICME_STEREO_A_JIAN_20080321_01</td>\n",
       "      <td>STEREO-A</td>\n",
       "      <td>2008-03-21T06:40Z</td>\n",
       "      <td>2008-03-21T08:33Z</td>\n",
       "      <td>2008-03-21T18:39Z</td>\n",
       "      <td>9999-99-99T99:99Z</td>\n",
       "      <td>8.8</td>\n",
       "      <td>8.1</td>\n",
       "      <td>0.4</td>\n",
       "      <td>-3.2</td>\n",
       "      <td>...</td>\n",
       "      <td>446.9</td>\n",
       "      <td>9.1</td>\n",
       "      <td>8.9</td>\n",
       "      <td>2.5</td>\n",
       "      <td>1.2</td>\n",
       "      <td>1.4</td>\n",
       "      <td>35758.7</td>\n",
       "      <td>8607.1</td>\n",
       "      <td>47544.2</td>\n",
       "      <td>21392.9</td>\n",
       "    </tr>\n",
       "  </tbody>\n",
       "</table>\n",
       "<p>5 rows × 30 columns</p>\n",
       "</div>"
      ],
      "text/plain": [
       "                                         ICMECAT_ID SC_INSITU  \\\n",
       "ICME_START_TIME                                                 \n",
       "2007-01-14 12:11:00  ICME_STEREO_A_JIAN_20070114_01  STEREO-A   \n",
       "2007-05-22 14:00:00  ICME_STEREO_A_JIAN_20070522_01  STEREO-A   \n",
       "2007-08-25 20:30:00  ICME_STEREO_A_JIAN_20070825_01  STEREO-A   \n",
       "2007-11-19 22:00:00  ICME_STEREO_A_JIAN_20071119_01  STEREO-A   \n",
       "2008-03-21 06:40:00  ICME_STEREO_A_JIAN_20080321_01  STEREO-A   \n",
       "\n",
       "                       ICME_START_TIME      MO_START_TIME        MO_END_TIME  \\\n",
       "ICME_START_TIME                                                                \n",
       "2007-01-14 12:11:00  2007-01-14T12:11Z  2007-01-14T14:39Z  2007-01-15T07:34Z   \n",
       "2007-05-22 14:00:00  2007-05-22T14:00Z  2007-05-22T14:00Z  2007-05-23T13:30Z   \n",
       "2007-08-25 20:30:00  2007-08-25T20:30Z  2007-08-25T23:27Z  2007-08-26T16:00Z   \n",
       "2007-11-19 22:00:00  2007-11-19T22:00Z  2007-11-19T22:00Z  2007-11-21T03:17Z   \n",
       "2008-03-21 06:40:00  2008-03-21T06:40Z  2008-03-21T08:33Z  2008-03-21T18:39Z   \n",
       "\n",
       "                         ICME_END_TIME MO_BMAX MO_BMEAN MO_BSTD MO_BZMEAN  \\\n",
       "ICME_START_TIME                                                             \n",
       "2007-01-14 12:11:00  9999-99-99T99:99Z    14.9     12.4     1.8       1.0   \n",
       "2007-05-22 14:00:00  9999-99-99T99:99Z    11.8      9.6     1.6      -4.4   \n",
       "2007-08-25 20:30:00  9999-99-99T99:99Z    14.7     13.0     0.9      -3.7   \n",
       "2007-11-19 22:00:00  9999-99-99T99:99Z    19.3      9.9     3.0       0.2   \n",
       "2008-03-21 06:40:00  9999-99-99T99:99Z     8.8      8.1     0.4      -3.2   \n",
       "\n",
       "                     ... MO_SPEED MO_SPEED_STD SHEATH_DENSITY  \\\n",
       "ICME_START_TIME      ...                                        \n",
       "2007-01-14 12:11:00  ...     -NaN         -NaN           -NaN   \n",
       "2007-05-22 14:00:00  ...    498.5         18.4            NaN   \n",
       "2007-08-25 20:30:00  ...    350.2         10.2           39.6   \n",
       "2007-11-19 22:00:00  ...    419.4          9.9            NaN   \n",
       "2008-03-21 06:40:00  ...    446.9          9.1            8.9   \n",
       "\n",
       "                    SHEATH_DENSITY_STD MO_DENSITY MO_DENSITY_STD  \\\n",
       "ICME_START_TIME                                                    \n",
       "2007-01-14 12:11:00               -NaN       -NaN           -NaN   \n",
       "2007-05-22 14:00:00                NaN        4.4            2.9   \n",
       "2007-08-25 20:30:00                6.0       12.7            4.4   \n",
       "2007-11-19 22:00:00                NaN       10.2            8.7   \n",
       "2008-03-21 06:40:00                2.5        1.2            1.4   \n",
       "\n",
       "                    SHEATH_TEMPERATURE SHEATH_TEMPERATURE_STD MO_TEMPERATURE  \\\n",
       "ICME_START_TIME                                                                \n",
       "2007-01-14 12:11:00               -NaN                   -NaN           -NaN   \n",
       "2007-05-22 14:00:00                NaN                    NaN        42323.5   \n",
       "2007-08-25 20:30:00            46029.4                12501.6        55856.6   \n",
       "2007-11-19 22:00:00                NaN                    NaN        36033.6   \n",
       "2008-03-21 06:40:00            35758.7                 8607.1        47544.2   \n",
       "\n",
       "                    MO_TEMPERATURE_STD  \n",
       "ICME_START_TIME                         \n",
       "2007-01-14 12:11:00               -NaN  \n",
       "2007-05-22 14:00:00            23120.6  \n",
       "2007-08-25 20:30:00            30342.4  \n",
       "2007-11-19 22:00:00            16108.6  \n",
       "2008-03-21 06:40:00            21392.9  \n",
       "\n",
       "[5 rows x 30 columns]"
      ]
     },
     "execution_count": 69,
     "metadata": {},
     "output_type": "execute_result"
    }
   ],
   "source": [
    "sta_icme_df.head()"
   ]
  },
  {
   "cell_type": "code",
   "execution_count": 73,
   "id": "932a22fe",
   "metadata": {},
   "outputs": [
    {
     "data": {
      "text/html": [
       "<div>\n",
       "<style scoped>\n",
       "    .dataframe tbody tr th:only-of-type {\n",
       "        vertical-align: middle;\n",
       "    }\n",
       "\n",
       "    .dataframe tbody tr th {\n",
       "        vertical-align: top;\n",
       "    }\n",
       "\n",
       "    .dataframe thead th {\n",
       "        text-align: right;\n",
       "    }\n",
       "</style>\n",
       "<table border=\"1\" class=\"dataframe\">\n",
       "  <thead>\n",
       "    <tr style=\"text-align: right;\">\n",
       "      <th></th>\n",
       "      <th>ICMECAT_ID</th>\n",
       "      <th>SC_INSITU</th>\n",
       "      <th>ICME_START_TIME</th>\n",
       "      <th>MO_START_TIME</th>\n",
       "      <th>MO_END_TIME</th>\n",
       "      <th>ICME_END_TIME</th>\n",
       "      <th>MO_BMAX</th>\n",
       "      <th>MO_BMEAN</th>\n",
       "      <th>MO_BSTD</th>\n",
       "      <th>MO_BZMEAN</th>\n",
       "      <th>...</th>\n",
       "      <th>MO_SPEED</th>\n",
       "      <th>MO_SPEED_STD</th>\n",
       "      <th>SHEATH_DENSITY</th>\n",
       "      <th>SHEATH_DENSITY_STD</th>\n",
       "      <th>MO_DENSITY</th>\n",
       "      <th>MO_DENSITY_STD</th>\n",
       "      <th>SHEATH_TEMPERATURE</th>\n",
       "      <th>SHEATH_TEMPERATURE_STD</th>\n",
       "      <th>MO_TEMPERATURE</th>\n",
       "      <th>MO_TEMPERATURE_STD</th>\n",
       "    </tr>\n",
       "    <tr>\n",
       "      <th>ICME_START_TIME</th>\n",
       "      <th></th>\n",
       "      <th></th>\n",
       "      <th></th>\n",
       "      <th></th>\n",
       "      <th></th>\n",
       "      <th></th>\n",
       "      <th></th>\n",
       "      <th></th>\n",
       "      <th></th>\n",
       "      <th></th>\n",
       "      <th></th>\n",
       "      <th></th>\n",
       "      <th></th>\n",
       "      <th></th>\n",
       "      <th></th>\n",
       "      <th></th>\n",
       "      <th></th>\n",
       "      <th></th>\n",
       "      <th></th>\n",
       "      <th></th>\n",
       "      <th></th>\n",
       "    </tr>\n",
       "  </thead>\n",
       "  <tbody>\n",
       "    <tr>\n",
       "      <th>2007-01-14 12:11:00</th>\n",
       "      <td>ICME_STEREO_A_JIAN_20070114_01</td>\n",
       "      <td>STEREO-A</td>\n",
       "      <td>2007-01-14T12:11Z</td>\n",
       "      <td>2007-01-14T14:39Z</td>\n",
       "      <td>2007-01-15T07:34Z</td>\n",
       "      <td>9999-99-99T99:99Z</td>\n",
       "      <td>14.9</td>\n",
       "      <td>12.4</td>\n",
       "      <td>1.8</td>\n",
       "      <td>1.0</td>\n",
       "      <td>...</td>\n",
       "      <td>-NaN</td>\n",
       "      <td>-NaN</td>\n",
       "      <td>-NaN</td>\n",
       "      <td>-NaN</td>\n",
       "      <td>-NaN</td>\n",
       "      <td>-NaN</td>\n",
       "      <td>-NaN</td>\n",
       "      <td>-NaN</td>\n",
       "      <td>-NaN</td>\n",
       "      <td>-NaN</td>\n",
       "    </tr>\n",
       "    <tr>\n",
       "      <th>2007-05-22 14:00:00</th>\n",
       "      <td>ICME_STEREO_A_JIAN_20070522_01</td>\n",
       "      <td>STEREO-A</td>\n",
       "      <td>2007-05-22T14:00Z</td>\n",
       "      <td>2007-05-22T14:00Z</td>\n",
       "      <td>2007-05-23T13:30Z</td>\n",
       "      <td>9999-99-99T99:99Z</td>\n",
       "      <td>11.8</td>\n",
       "      <td>9.6</td>\n",
       "      <td>1.6</td>\n",
       "      <td>-4.4</td>\n",
       "      <td>...</td>\n",
       "      <td>498.5</td>\n",
       "      <td>18.4</td>\n",
       "      <td>NaN</td>\n",
       "      <td>NaN</td>\n",
       "      <td>4.4</td>\n",
       "      <td>2.9</td>\n",
       "      <td>NaN</td>\n",
       "      <td>NaN</td>\n",
       "      <td>42323.5</td>\n",
       "      <td>23120.6</td>\n",
       "    </tr>\n",
       "    <tr>\n",
       "      <th>2007-08-25 20:30:00</th>\n",
       "      <td>ICME_STEREO_A_JIAN_20070825_01</td>\n",
       "      <td>STEREO-A</td>\n",
       "      <td>2007-08-25T20:30Z</td>\n",
       "      <td>2007-08-25T23:27Z</td>\n",
       "      <td>2007-08-26T16:00Z</td>\n",
       "      <td>9999-99-99T99:99Z</td>\n",
       "      <td>14.7</td>\n",
       "      <td>13.0</td>\n",
       "      <td>0.9</td>\n",
       "      <td>-3.7</td>\n",
       "      <td>...</td>\n",
       "      <td>350.2</td>\n",
       "      <td>10.2</td>\n",
       "      <td>39.6</td>\n",
       "      <td>6.0</td>\n",
       "      <td>12.7</td>\n",
       "      <td>4.4</td>\n",
       "      <td>46029.4</td>\n",
       "      <td>12501.6</td>\n",
       "      <td>55856.6</td>\n",
       "      <td>30342.4</td>\n",
       "    </tr>\n",
       "    <tr>\n",
       "      <th>2007-11-19 22:00:00</th>\n",
       "      <td>ICME_STEREO_A_JIAN_20071119_01</td>\n",
       "      <td>STEREO-A</td>\n",
       "      <td>2007-11-19T22:00Z</td>\n",
       "      <td>2007-11-19T22:00Z</td>\n",
       "      <td>2007-11-21T03:17Z</td>\n",
       "      <td>9999-99-99T99:99Z</td>\n",
       "      <td>19.3</td>\n",
       "      <td>9.9</td>\n",
       "      <td>3.0</td>\n",
       "      <td>0.2</td>\n",
       "      <td>...</td>\n",
       "      <td>419.4</td>\n",
       "      <td>9.9</td>\n",
       "      <td>NaN</td>\n",
       "      <td>NaN</td>\n",
       "      <td>10.2</td>\n",
       "      <td>8.7</td>\n",
       "      <td>NaN</td>\n",
       "      <td>NaN</td>\n",
       "      <td>36033.6</td>\n",
       "      <td>16108.6</td>\n",
       "    </tr>\n",
       "    <tr>\n",
       "      <th>2008-03-21 06:40:00</th>\n",
       "      <td>ICME_STEREO_A_JIAN_20080321_01</td>\n",
       "      <td>STEREO-A</td>\n",
       "      <td>2008-03-21T06:40Z</td>\n",
       "      <td>2008-03-21T08:33Z</td>\n",
       "      <td>2008-03-21T18:39Z</td>\n",
       "      <td>9999-99-99T99:99Z</td>\n",
       "      <td>8.8</td>\n",
       "      <td>8.1</td>\n",
       "      <td>0.4</td>\n",
       "      <td>-3.2</td>\n",
       "      <td>...</td>\n",
       "      <td>446.9</td>\n",
       "      <td>9.1</td>\n",
       "      <td>8.9</td>\n",
       "      <td>2.5</td>\n",
       "      <td>1.2</td>\n",
       "      <td>1.4</td>\n",
       "      <td>35758.7</td>\n",
       "      <td>8607.1</td>\n",
       "      <td>47544.2</td>\n",
       "      <td>21392.9</td>\n",
       "    </tr>\n",
       "  </tbody>\n",
       "</table>\n",
       "<p>5 rows × 30 columns</p>\n",
       "</div>"
      ],
      "text/plain": [
       "                                         ICMECAT_ID SC_INSITU  \\\n",
       "ICME_START_TIME                                                 \n",
       "2007-01-14 12:11:00  ICME_STEREO_A_JIAN_20070114_01  STEREO-A   \n",
       "2007-05-22 14:00:00  ICME_STEREO_A_JIAN_20070522_01  STEREO-A   \n",
       "2007-08-25 20:30:00  ICME_STEREO_A_JIAN_20070825_01  STEREO-A   \n",
       "2007-11-19 22:00:00  ICME_STEREO_A_JIAN_20071119_01  STEREO-A   \n",
       "2008-03-21 06:40:00  ICME_STEREO_A_JIAN_20080321_01  STEREO-A   \n",
       "\n",
       "                       ICME_START_TIME      MO_START_TIME        MO_END_TIME  \\\n",
       "ICME_START_TIME                                                                \n",
       "2007-01-14 12:11:00  2007-01-14T12:11Z  2007-01-14T14:39Z  2007-01-15T07:34Z   \n",
       "2007-05-22 14:00:00  2007-05-22T14:00Z  2007-05-22T14:00Z  2007-05-23T13:30Z   \n",
       "2007-08-25 20:30:00  2007-08-25T20:30Z  2007-08-25T23:27Z  2007-08-26T16:00Z   \n",
       "2007-11-19 22:00:00  2007-11-19T22:00Z  2007-11-19T22:00Z  2007-11-21T03:17Z   \n",
       "2008-03-21 06:40:00  2008-03-21T06:40Z  2008-03-21T08:33Z  2008-03-21T18:39Z   \n",
       "\n",
       "                         ICME_END_TIME MO_BMAX MO_BMEAN MO_BSTD MO_BZMEAN  \\\n",
       "ICME_START_TIME                                                             \n",
       "2007-01-14 12:11:00  9999-99-99T99:99Z    14.9     12.4     1.8       1.0   \n",
       "2007-05-22 14:00:00  9999-99-99T99:99Z    11.8      9.6     1.6      -4.4   \n",
       "2007-08-25 20:30:00  9999-99-99T99:99Z    14.7     13.0     0.9      -3.7   \n",
       "2007-11-19 22:00:00  9999-99-99T99:99Z    19.3      9.9     3.0       0.2   \n",
       "2008-03-21 06:40:00  9999-99-99T99:99Z     8.8      8.1     0.4      -3.2   \n",
       "\n",
       "                     ... MO_SPEED MO_SPEED_STD SHEATH_DENSITY  \\\n",
       "ICME_START_TIME      ...                                        \n",
       "2007-01-14 12:11:00  ...     -NaN         -NaN           -NaN   \n",
       "2007-05-22 14:00:00  ...    498.5         18.4            NaN   \n",
       "2007-08-25 20:30:00  ...    350.2         10.2           39.6   \n",
       "2007-11-19 22:00:00  ...    419.4          9.9            NaN   \n",
       "2008-03-21 06:40:00  ...    446.9          9.1            8.9   \n",
       "\n",
       "                    SHEATH_DENSITY_STD MO_DENSITY MO_DENSITY_STD  \\\n",
       "ICME_START_TIME                                                    \n",
       "2007-01-14 12:11:00               -NaN       -NaN           -NaN   \n",
       "2007-05-22 14:00:00                NaN        4.4            2.9   \n",
       "2007-08-25 20:30:00                6.0       12.7            4.4   \n",
       "2007-11-19 22:00:00                NaN       10.2            8.7   \n",
       "2008-03-21 06:40:00                2.5        1.2            1.4   \n",
       "\n",
       "                    SHEATH_TEMPERATURE SHEATH_TEMPERATURE_STD MO_TEMPERATURE  \\\n",
       "ICME_START_TIME                                                                \n",
       "2007-01-14 12:11:00               -NaN                   -NaN           -NaN   \n",
       "2007-05-22 14:00:00                NaN                    NaN        42323.5   \n",
       "2007-08-25 20:30:00            46029.4                12501.6        55856.6   \n",
       "2007-11-19 22:00:00                NaN                    NaN        36033.6   \n",
       "2008-03-21 06:40:00            35758.7                 8607.1        47544.2   \n",
       "\n",
       "                    MO_TEMPERATURE_STD  \n",
       "ICME_START_TIME                         \n",
       "2007-01-14 12:11:00               -NaN  \n",
       "2007-05-22 14:00:00            23120.6  \n",
       "2007-08-25 20:30:00            30342.4  \n",
       "2007-11-19 22:00:00            16108.6  \n",
       "2008-03-21 06:40:00            21392.9  \n",
       "\n",
       "[5 rows x 30 columns]"
      ]
     },
     "execution_count": 73,
     "metadata": {},
     "output_type": "execute_result"
    }
   ],
   "source": [
    "sta_icme_df.head()"
   ]
  },
  {
   "cell_type": "code",
   "execution_count": 70,
   "id": "900417fd",
   "metadata": {},
   "outputs": [
    {
     "data": {
      "text/plain": [
       "Timestamp('2007-01-14 12:11:00')"
      ]
     },
     "execution_count": 70,
     "metadata": {},
     "output_type": "execute_result"
    }
   ],
   "source": [
    "sta_icme_df.index[0]"
   ]
  },
  {
   "cell_type": "code",
   "execution_count": 72,
   "id": "1759528a",
   "metadata": {},
   "outputs": [
    {
     "data": {
      "image/png": "[encoded data removed]",
      "text/plain": [
       "<Figure size 360x720 with 8 Axes>"
      ]
     },
     "metadata": {
      "needs_background": "light"
     },
     "output_type": "display_data"
    }
   ],
   "source": [
    "fig = quality_check_plot(sta_data_cut_df, sta_icme_df.index[1], window_size=dt.timedelta(days=1), cols=cols_of_interest, normalize=True)"
   ]
  },
  {
   "cell_type": "code",
   "execution_count": null,
   "id": "a0293c4b",
   "metadata": {},
   "outputs": [],
   "source": [
    "sta_data_cut_df['2014'].plot(y='BTOTAL')"
   ]
  },
  {
   "cell_type": "code",
   "execution_count": 39,
   "id": "c18b2d75",
   "metadata": {},
   "outputs": [],
   "source": [
    "sta_data_cut_detrend_df = sta_data_cut_df - sta_data_cut_df.rolling('1D', center=True).mean()"
   ]
  },
  {
   "cell_type": "code",
   "execution_count": null,
   "id": "0786b40d",
   "metadata": {},
   "outputs": [],
   "source": [
    "errors = []\n",
    "with PdfPages('icmes_stereoA_4day_window_detrended.pdf', 'w') as pdf:\n",
    "    for date in tqdm(sta_icme_df.index):\n",
    "        try:\n",
    "            fig = quality_check_plot(\n",
    "                sta_data_cut_detrend_df, \n",
    "                date, \n",
    "                window_size=dt.timedelta(days=2), \n",
    "                cols=cols_of_interest,\n",
    "                normalize=False\n",
    "            )\n",
    "        except Exception as e:\n",
    "            print(e)\n",
    "            errors.append(date)\n",
    "        else:\n",
    "            pdf.savefig(fig)\n",
    "            plt.close(fig)"
   ]
  },
  {
   "cell_type": "code",
   "execution_count": null,
   "id": "c2d471e7",
   "metadata": {},
   "outputs": [],
   "source": [
    "sta_data_cut_detrend_df.index[0].strftime('%Y-%m-%d_%H:%M:%S')"
   ]
  },
  {
   "cell_type": "code",
   "execution_count": null,
   "id": "df600774",
   "metadata": {},
   "outputs": [],
   "source": [
    "sta_data_cut_detrend_df.index[0].strftime"
   ]
  },
  {
   "cell_type": "code",
   "execution_count": null,
   "id": "e3c22ebb",
   "metadata": {},
   "outputs": [],
   "source": [
    "def check_sampling_freq(mag_df, min_sep=None, verbose=False):\n",
    "    \"\"\"Determine the sampling frequency from the data\n",
    "\n",
    "    Compute a weighted-average of the sampling frequency\n",
    "    present in the time-series data. This is done by taking\n",
    "    the rolling difference between consecutive datetime indices\n",
    "    and then binning them up using a method of pd.Series objects.\n",
    "    Also computes some statistics describing the distribution of\n",
    "    sampling frequencies.\n",
    "\n",
    "    Parameters\n",
    "    ----------\n",
    "    mag_df : pd.DataFrame\n",
    "        Pandas dataframe containing the magnetometer data\n",
    "\n",
    "    min_sep : float\n",
    "        Minimum separation between two consecutive observations \n",
    "        to be consider usable for discontinuity identification\n",
    "\n",
    "    verbose : boolean\n",
    "        Specifies information on diverging sampling frequencies\n",
    "    \n",
    "    Returns\n",
    "    -------\n",
    "    avg_sampling_freq : float\n",
    "        Weighted average of the sampling frequencies in the dataset\n",
    "\n",
    "    stats : dict\n",
    "        Some descriptive statistics for the interval\n",
    "    \n",
    "    \"\"\"\n",
    "    # Boolean flag for quality of data in interval\n",
    "    # Assume its not bad and set to True if it is\n",
    "    bad = False\n",
    "\n",
    "    # Compute the time difference between consecutive measurements\n",
    "    # a_i - a_{i-1} and save the data as dt.timedelta objects\n",
    "    # rounded to the nearest milisecond\n",
    "    diff_dt = mag_df.index.to_series().diff(1).round('ms')\n",
    "    sampling_freqs = diff_dt.value_counts()\n",
    "    sampling_freqs /= sampling_freqs.sum()\n",
    "\n",
    "    avg_sampling_freq = 0\n",
    "    for t, percentage in sampling_freqs.items():\n",
    "        avg_sampling_freq += t.total_seconds() * percentage\n",
    "\n",
    "    # Compute the difference in units of seconds so we can compute the RMS\n",
    "    diff_s = np.array(\n",
    "                list(\n",
    "                    map(lambda val: val.total_seconds(), diff_dt)\n",
    "                )\n",
    "            )\n",
    "\n",
    "    # Compute the RMS of the observation times to look for gaps in \n",
    "    # in the observation period\n",
    "    t_rms = np.sqrt(\n",
    "                np.nanmean(\n",
    "                    np.square(diff_s)\n",
    "                )\n",
    "            )\n",
    "    # flag that the gaps larger the min_sep. \n",
    "    if min_sep is None:\n",
    "        min_sep = 5 * t_rms\n",
    "\n",
    "    gap_indices = np.where(diff_s > min_sep)[0]\n",
    "    n_gaps = len(gap_indices)\n",
    "    \n",
    "    try:\n",
    "        previous_indices = gap_indices - 1\n",
    "    except TypeError as e:\n",
    "#         LOG.warning(e)\n",
    "        print(e)\n",
    "        total_missing = 0\n",
    "    else:\n",
    "        interval_durations = mag_df.index[gap_indices] \\\n",
    "                                - mag_df.index[previous_indices]\n",
    "        total_missing = sum(interval_durations.total_seconds())\n",
    "\n",
    "    # Compute the duration of the entire interval and determine the coverage\n",
    "    total_duration = (mag_df.index[-1] - mag_df.index[0]).total_seconds()\n",
    "    coverage = 1 - total_missing / total_duration\n",
    "\n",
    "    if verbose and coverage < 0.5:\n",
    "        msg = (\n",
    "            f\"\\n Observational coverage: {coverage:0.2%}\\n\"\n",
    "            f\"Number of data gaps: {n_gaps:0.0f}\\n\"\n",
    "            f\"Average sampling rate: {avg_sampling_freq:0.5f}\"\n",
    "            )\n",
    "#         LOG.warning(msg)\n",
    "        print(msg)\n",
    "        bad = True\n",
    "\n",
    "    stats_data = {}\n",
    "    stats_data['average_freq'] = avg_sampling_freq\n",
    "    stats_data['max_freq'] = sampling_freqs.index.max().total_seconds()\n",
    "    stats_data['min_freq'] = sampling_freqs.index.min().total_seconds()\n",
    "    stats_data['n_gaps'] = len(gap_indices)\n",
    "    stats_data['starttime_gaps'] = [mag_df.index[previous_indices]]\n",
    "    stats_data['total_missing'] = total_missing\n",
    "    stats_data['coverage'] = coverage\n",
    "\n",
    "    return avg_sampling_freq, stats_data, bad"
   ]
  },
  {
   "cell_type": "code",
   "execution_count": null,
   "id": "8c2d2a56",
   "metadata": {},
   "outputs": [],
   "source": [
    "sta_data_cut_df.head()"
   ]
  },
  {
   "cell_type": "code",
   "execution_count": null,
   "id": "7a089726",
   "metadata": {},
   "outputs": [],
   "source": [
    "check_sampling_freq(sta_data_cut_df, min_sep=120)"
   ]
  },
  {
   "cell_type": "markdown",
   "id": "d330e446",
   "metadata": {},
   "source": [
    "### STEREO B dataset"
   ]
  },
  {
   "cell_type": "code",
   "execution_count": null,
   "id": "a34232ab",
   "metadata": {},
   "outputs": [],
   "source": [
    "cols_of_interest = [\n",
    "    'BTOTAL', \n",
    "    'BX(RTN)',\n",
    "    'BY(RTN)',\n",
    "    'BZ(RTN)', \n",
    "    'VP_RTN',\n",
    "    'TEMPERATURE',\n",
    "    'BETA',\n",
    "    'Np'\n",
    "]"
   ]
  },
  {
   "cell_type": "code",
   "execution_count": null,
   "id": "ea33b4a9",
   "metadata": {},
   "outputs": [],
   "source": [
    "def read_stereo_datasets(fname):\n",
    "    with open(fname, 'r') as fobj:\n",
    "        lines = fobj.readlines()\n",
    "\n",
    "    colnames = lines[0].split()\n",
    "    tmp = lines[1].split()\n",
    "    units = []\n",
    "    units.append(' '.join(tmp[:2]))\n",
    "    units += tmp[2:]\n",
    "\n",
    "    for col, unit in zip(colnames, units):\n",
    "        print(col, unit)\n",
    "        \n",
    "    data = []\n",
    "    index = []\n",
    "    for line in tqdm(lines[2:]):\n",
    "        lsplit = line.split()\n",
    "        index.append(dt.datetime.strptime(' '.join(lsplit[:2]), '%d-%m-%Y %H:%M:%S.%f'))\n",
    "        data.append(list(map(float, lsplit[2:])))\n",
    "    \n",
    "    df = pd.DataFrame(data, columns=colnames[1:], index=pd.DatetimeIndex(index))\n",
    "    return df"
   ]
  },
  {
   "cell_type": "code",
   "execution_count": null,
   "id": "f64e4116",
   "metadata": {},
   "outputs": [],
   "source": [
    "stb_data_df = read_stereo_datasets('../data/stb_l2_magplasma.txt')"
   ]
  },
  {
   "cell_type": "code",
   "execution_count": null,
   "id": "c18db652",
   "metadata": {},
   "outputs": [],
   "source": [
    "stb_data_df.head()"
   ]
  },
  {
   "cell_type": "code",
   "execution_count": null,
   "id": "685bad3d",
   "metadata": {},
   "outputs": [],
   "source": [
    "stb_data_cut_df = stb_data_df[stb_data_df.gt(-1e30)]"
   ]
  },
  {
   "cell_type": "code",
   "execution_count": null,
   "id": "4c3e77f2",
   "metadata": {},
   "outputs": [],
   "source": [
    "stb_data_cut_df.info()"
   ]
  },
  {
   "cell_type": "code",
   "execution_count": null,
   "id": "5f82f8a3",
   "metadata": {},
   "outputs": [],
   "source": [
    "stb_data_cut_df = stb_data_cut_df.dropna()"
   ]
  },
  {
   "cell_type": "code",
   "execution_count": null,
   "id": "bfcc7842",
   "metadata": {},
   "outputs": [],
   "source": [
    "stb_data_cut_df.info()"
   ]
  },
  {
   "cell_type": "code",
   "execution_count": null,
   "id": "8724bc09",
   "metadata": {},
   "outputs": [],
   "source": [
    "stb_data_cut_detrend_df = stb_data_cut_df - stb_data_cut_df.rolling('1D', center=True).mean()"
   ]
  },
  {
   "cell_type": "code",
   "execution_count": null,
   "id": "17f066b5",
   "metadata": {},
   "outputs": [],
   "source": [
    "errors = []\n",
    "with PdfPages('icmes_stereoB_4day_window_detrended.pdf', 'w') as pdf:\n",
    "    for date in tqdm(stb_icme_df.index):\n",
    "        try:\n",
    "            fig = quality_check_plot(\n",
    "                stb_data_cut_detrend_df, \n",
    "                date, \n",
    "                window_size=dt.timedelta(days=2), \n",
    "                cols=cols_of_interest,\n",
    "                normalize=False\n",
    "            )\n",
    "        except Exception as e:\n",
    "            print(e)\n",
    "            errors.append(date)\n",
    "        else:\n",
    "            pdf.savefig(fig)\n",
    "            plt.close(fig)"
   ]
  },
  {
   "cell_type": "markdown",
   "id": "4d00ab00",
   "metadata": {},
   "source": [
    "## Wind dataset"
   ]
  },
  {
   "cell_type": "code",
   "execution_count": null,
   "id": "ede27576",
   "metadata": {},
   "outputs": [],
   "source": [
    "wind_icme_df = df[df['SC_INSITU'].str.contains('Wind')]"
   ]
  },
  {
   "cell_type": "code",
   "execution_count": null,
   "id": "95730547",
   "metadata": {},
   "outputs": [],
   "source": [
    "wind_data_df = pd.read_parquet('/Users/ndmiles/Downloads/datasetWithSpectro.parquet')"
   ]
  },
  {
   "cell_type": "code",
   "execution_count": null,
   "id": "73d583c6",
   "metadata": {},
   "outputs": [],
   "source": [
    "cols_of_interest = ['B','Bx','By','Bz', 'Np', 'V']"
   ]
  },
  {
   "cell_type": "code",
   "execution_count": null,
   "id": "5f98c443",
   "metadata": {},
   "outputs": [],
   "source": [
    "wind_data_df.info()"
   ]
  },
  {
   "cell_type": "code",
   "execution_count": null,
   "id": "9ac25856",
   "metadata": {},
   "outputs": [],
   "source": [
    "wind_icme_df.index = pd.DatetimeIndex(wind_icme_df['ICME_START_TIME'])"
   ]
  },
  {
   "cell_type": "code",
   "execution_count": null,
   "id": "60da35ed",
   "metadata": {},
   "outputs": [],
   "source": [
    "errors = []\n",
    "with PdfPages('icmes_wind_4day_window.pdf', 'w') as pdf:\n",
    "    for date in tqdm(wind_icme_df.index):\n",
    "        try:\n",
    "            fig = quality_check_plot(\n",
    "                wind_data_df, \n",
    "                date, \n",
    "                window_size=dt.timedelta(days=2), \n",
    "                cols=cols_of_interest,\n",
    "                normalize=False\n",
    "            )\n",
    "        except Exception as e:\n",
    "            print(e)\n",
    "            errors.append(date)\n",
    "        else:\n",
    "            pdf.savefig(fig)\n",
    "            plt.close(fig)"
   ]
  },
  {
   "cell_type": "code",
   "execution_count": null,
   "id": "e0cc713b",
   "metadata": {},
   "outputs": [],
   "source": []
  }
 ],
 "metadata": {
  "kernelspec": {
   "display_name": "Python 3 (ipykernel)",
   "language": "python",
   "name": "python3"
  },
  "language_info": {
   "codemirror_mode": {
    "name": "ipython",
    "version": 3
   },
   "file_extension": ".py",
   "mimetype": "text/x-python",
   "name": "python",
   "nbconvert_exporter": "python",
   "pygments_lexer": "ipython3",
   "version": "3.7.9"
  }
 },
 "nbformat": 4,
 "nbformat_minor": 5
}
