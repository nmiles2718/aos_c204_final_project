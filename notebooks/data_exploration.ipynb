{
 "cells": [
  {
   "cell_type": "markdown",
   "id": "2331981e",
   "metadata": {},
   "source": [
    "# Data Exploration & Preparation\n",
    "\n",
    "This notebook is used to explore the in-situ data for the entire list of STEREO A and B ICMEs.\n",
    "\n",
    "Parameters of interest:\n",
    "- Magnetic field components\n",
    "- Magnetic field strength\n",
    "- Proton number density\n",
    "- Proton speed\n",
    "- Proton temperature"
   ]
  },
  {
   "cell_type": "code",
   "execution_count": null,
   "id": "8210e62a",
   "metadata": {},
   "outputs": [],
   "source": [
    "from collections import defaultdict\n",
    "import datetime as dt\n",
    "import json\n",
    "\n",
    "import matplotlib.pyplot as plt\n",
    "import matplotlib.dates as mdates\n",
    "import matplotlib.units as munits\n",
    "from matplotlib.backends.backend_pdf import PdfPages\n",
    "import numpy as np\n",
    "import pandas as pd\n",
    "from pyts.image import RecurrencePlot\n",
    "\n",
    "from sklearn.preprocessing import StandardScaler\n",
    "from tqdm.notebook import tqdm\n",
    "\n",
    "converter = mdates.ConciseDateConverter()\n",
    "munits.registry[np.datetime64] = converter\n",
    "munits.registry[dt.date] = converter\n",
    "munits.registry[dt.datetime] = converter"
   ]
  },
  {
   "cell_type": "markdown",
   "id": "d571bfca",
   "metadata": {},
   "source": [
    "### Parse the full helcats ICME list and extract all of the stereo A and B ICMEs"
   ]
  },
  {
   "cell_type": "code",
   "execution_count": null,
   "id": "3d76fddd",
   "metadata": {},
   "outputs": [],
   "source": [
    "with open('../ICME_WP4_V10.json', 'r') as fobj:\n",
    "    json_data = json.load(fobj)\n",
    "    \n",
    "df = pd.DataFrame(json_data['data'], columns=json_data['columns'])\n",
    "\n",
    "sta_icme_df = df[df['SC_INSITU'].str.contains('STEREO-A')]\n",
    "stb_icme_df = df[df['SC_INSITU'].str.contains('STEREO-B')]\n",
    "\n",
    "sta_icme_df.index = pd.DatetimeIndex(sta_icme_df.loc[:,'ICME_START_TIME']).tz_localize(None)\n",
    "stb_icme_df.index = pd.DatetimeIndex(stb_icme_df.loc[:,'ICME_START_TIME']).tz_localize(None)"
   ]
  },
  {
   "cell_type": "code",
   "execution_count": null,
   "id": "08cdec72",
   "metadata": {},
   "outputs": [],
   "source": [
    "sta_icme_df.to_csv('../data/sta_icme_list.txt', header=True, index=True)\n",
    "stb_icme_df.to_csv('../data/stb_icme_list.txt', header=True, index=True)"
   ]
  },
  {
   "cell_type": "code",
   "execution_count": null,
   "id": "c6ccf952",
   "metadata": {},
   "outputs": [],
   "source": [
    "def read_stereo_datasets(fname):\n",
    "    \"\"\"Function for reading in stereo datasets\"\"\"\n",
    "    with open(fname, 'r') as fobj:\n",
    "        lines = fobj.readlines()\n",
    "\n",
    "    colnames = lines[0].split()\n",
    "    tmp = lines[1].split()\n",
    "    units = []\n",
    "    units.append(' '.join(tmp[:2]))\n",
    "    units += tmp[2:]\n",
    "\n",
    "    for col, unit in zip(colnames, units):\n",
    "        print(col, unit)\n",
    "        \n",
    "    data = []\n",
    "    index = []\n",
    "    for line in tqdm(lines[2:]):\n",
    "        lsplit = line.split()\n",
    "        index.append(dt.datetime.strptime(' '.join(lsplit[:2]), '%d-%m-%Y %H:%M:%S.%f'))\n",
    "        data.append(list(map(float, lsplit[2:])))\n",
    "    \n",
    "    df = pd.DataFrame(data, columns=colnames[1:], index=pd.DatetimeIndex(index))\n",
    "    return df"
   ]
  },
  {
   "cell_type": "markdown",
   "id": "607968f3",
   "metadata": {},
   "source": [
    "### STEREO A dataset"
   ]
  },
  {
   "cell_type": "code",
   "execution_count": null,
   "id": "f30eaa75",
   "metadata": {},
   "outputs": [],
   "source": [
    "sta_icme_df.info()"
   ]
  },
  {
   "cell_type": "code",
   "execution_count": null,
   "id": "3f986089",
   "metadata": {},
   "outputs": [],
   "source": [
    "sta_data_df = read_stereo_datasets('../data/sta_l2_magplasma.txt')"
   ]
  },
  {
   "cell_type": "code",
   "execution_count": null,
   "id": "28f51642",
   "metadata": {},
   "outputs": [],
   "source": [
    "sta_data_df.index[0], sta_data_df.index[-1]"
   ]
  },
  {
   "cell_type": "code",
   "execution_count": null,
   "id": "fed95f48",
   "metadata": {},
   "outputs": [],
   "source": [
    "sta_data_df[sta_data_df['BTOTAL'].gt(-1e30)].sort_index().rolling('20D', center=True).mean().plot(y='BTOTAL')"
   ]
  },
  {
   "cell_type": "code",
   "execution_count": null,
   "id": "1e31da5f",
   "metadata": {},
   "outputs": [],
   "source": [
    "for col in sta_data_df.columns:\n",
    "    print(col)"
   ]
  },
  {
   "cell_type": "code",
   "execution_count": null,
   "id": "2f818790",
   "metadata": {},
   "outputs": [],
   "source": [
    "cols_of_interest = [\n",
    "    'BTOTAL', \n",
    "    'BX(RTN)',\n",
    "    'BY(RTN)',\n",
    "    'BZ(RTN)', \n",
    "    'VP_RTN',\n",
    "    'NP',\n",
    "    'TEMPERATURE',\n",
    "    'BETA'\n",
    "]"
   ]
  },
  {
   "cell_type": "code",
   "execution_count": null,
   "id": "e1eb6ac4",
   "metadata": {},
   "outputs": [],
   "source": [
    "sta_data_cut_df = sta_data_df[cols_of_interest]"
   ]
  },
  {
   "cell_type": "code",
   "execution_count": null,
   "id": "0ff65632",
   "metadata": {},
   "outputs": [],
   "source": [
    "sta_data_cut_df = sta_data_cut_df[sta_data_cut_df.gt(-1e30)].dropna().sort_index()"
   ]
  },
  {
   "cell_type": "markdown",
   "id": "baa38a62",
   "metadata": {},
   "source": [
    "Remove all rows where the number density, temperature, or beta values are negative since they are unphysical"
   ]
  },
  {
   "cell_type": "code",
   "execution_count": null,
   "id": "bf6eb959",
   "metadata": {},
   "outputs": [],
   "source": [
    "sta_data_cut_df = sta_data_cut_df[~sta_data_cut_df['NP'].lt(0)]\n",
    "sta_data_cut_df = sta_data_cut_df[~sta_data_cut_df['TEMPERATURE'].lt(0)]\n",
    "sta_data_cut_df = sta_data_cut_df[~sta_data_cut_df['BETA'].lt(0)]"
   ]
  },
  {
   "cell_type": "code",
   "execution_count": null,
   "id": "08da6d0a",
   "metadata": {},
   "outputs": [],
   "source": [
    "sta_data_cut_df.describe()"
   ]
  },
  {
   "cell_type": "code",
   "execution_count": null,
   "id": "66b74b5e",
   "metadata": {},
   "outputs": [],
   "source": [
    "(~sta_data_cut_df['NP'].lt(0)).sum()"
   ]
  },
  {
   "cell_type": "code",
   "execution_count": null,
   "id": "abcf2e0a",
   "metadata": {},
   "outputs": [],
   "source": [
    "sta_data_cut_df.to_csv(\"../data/sta_dataset_cleaned.txt\", header=True, index=True)"
   ]
  },
  {
   "cell_type": "code",
   "execution_count": null,
   "id": "e044a619",
   "metadata": {},
   "outputs": [],
   "source": [
    "sta_data_cut_df.info()"
   ]
  },
  {
   "cell_type": "code",
   "execution_count": null,
   "id": "a14cc1e2",
   "metadata": {},
   "outputs": [],
   "source": [
    "sta_data_cut_df.head()"
   ]
  },
  {
   "cell_type": "code",
   "execution_count": null,
   "id": "34bbffe5",
   "metadata": {},
   "outputs": [],
   "source": [
    "cols_of_interest"
   ]
  },
  {
   "cell_type": "code",
   "execution_count": null,
   "id": "273c7516",
   "metadata": {},
   "outputs": [],
   "source": [
    "def quality_check_plot(stereo_df, icme_date, window_size=dt.timedelta(days=5), cols=[], normalize=True):\n",
    "    fig, axes = plt.subplots(nrows=len(cols), ncols=1, figsize=(5,10), gridspec_kw={'hspace':0.1}, sharex=True)\n",
    "    icme_window = slice(icme_date - window_size, icme_date + window_size)\n",
    "    icme_data = stereo_df[icme_window][cols]\n",
    "    for col, ax in zip(cols, axes):\n",
    "        x = icme_data.index\n",
    "        if normalize:\n",
    "            y = StandardScaler().fit_transform(icme_data[col].values.reshape(-1,1)).flatten()\n",
    "        else:\n",
    "            y = icme_data[col]\n",
    "        ax.plot(x, y, lw=0.8)\n",
    "        ax.set_ylabel(col)\n",
    "#         mean, std = icme_data[col].mean(), icme_data[col].std()\n",
    "#         if 'temp' in col.lower() and not normalize:\n",
    "#             ax.set_yscale('log')\n",
    "        ax.grid(True, lw=0.8, ls='--', alpha=0.5, c='k')\n",
    "        ax.axvline(icme_date, ls='-', c='r', lw=1.25)\n",
    "    axes[0].set_title(f'Normalized ICME Measurements\\n ICME Start time: {icme_date}')\n",
    "    return fig"
   ]
  },
  {
   "cell_type": "code",
   "execution_count": null,
   "id": "6a35011f",
   "metadata": {},
   "outputs": [],
   "source": [
    "sta_icme_df.head()"
   ]
  },
  {
   "cell_type": "code",
   "execution_count": null,
   "id": "8e790210",
   "metadata": {},
   "outputs": [],
   "source": [
    "sta_icme_df.head()"
   ]
  },
  {
   "cell_type": "code",
   "execution_count": null,
   "id": "7c2dec9d",
   "metadata": {},
   "outputs": [],
   "source": [
    "sta_icme_df.index[0]"
   ]
  },
  {
   "cell_type": "code",
   "execution_count": null,
   "id": "1951028b",
   "metadata": {},
   "outputs": [],
   "source": [
    "fig = quality_check_plot(sta_data_cut_df, sta_icme_df.index[1], window_size=dt.timedelta(days=1), cols=cols_of_interest, normalize=False)"
   ]
  },
  {
   "cell_type": "code",
   "execution_count": null,
   "id": "b3fad99d",
   "metadata": {},
   "outputs": [],
   "source": [
    "sta_data_cut_df['2014'].plot(y='BTOTAL')"
   ]
  },
  {
   "cell_type": "code",
   "execution_count": null,
   "id": "838c112d",
   "metadata": {},
   "outputs": [],
   "source": [
    "sta_data_cut_detrend_df = sta_data_cut_df - sta_data_cut_df.rolling('1D', center=True).mean()"
   ]
  },
  {
   "cell_type": "code",
   "execution_count": null,
   "id": "3932d529",
   "metadata": {},
   "outputs": [],
   "source": [
    "errors = []\n",
    "with PdfPages('icmes_stereoA_4day_window_detrended.pdf', 'w') as pdf:\n",
    "    for date in tqdm(sta_icme_df.index):\n",
    "        try:\n",
    "            fig = quality_check_plot(\n",
    "                sta_data_cut_detrend_df, \n",
    "                date, \n",
    "                window_size=dt.timedelta(days=2), \n",
    "                cols=cols_of_interest,\n",
    "                normalize=False\n",
    "            )\n",
    "        except Exception as e:\n",
    "            print(e)\n",
    "            errors.append(date)\n",
    "        else:\n",
    "            pdf.savefig(fig)\n",
    "            plt.close(fig)"
   ]
  },
  {
   "cell_type": "code",
   "execution_count": null,
   "id": "795fe1d1",
   "metadata": {},
   "outputs": [],
   "source": [
    "sta_data_cut_detrend_df.index[0].strftime('%Y-%m-%d_%H:%M:%S')"
   ]
  },
  {
   "cell_type": "code",
   "execution_count": null,
   "id": "ce867eb4",
   "metadata": {},
   "outputs": [],
   "source": [
    "sta_data_cut_detrend_df.index[0].strftime"
   ]
  },
  {
   "cell_type": "code",
   "execution_count": null,
   "id": "b7297425",
   "metadata": {},
   "outputs": [],
   "source": [
    "def check_sampling_freq(mag_df, min_sep=None, verbose=False):\n",
    "    \"\"\"Determine the sampling frequency from the data\n",
    "\n",
    "    Compute a weighted-average of the sampling frequency\n",
    "    present in the time-series data. This is done by taking\n",
    "    the rolling difference between consecutive datetime indices\n",
    "    and then binning them up using a method of pd.Series objects.\n",
    "    Also computes some statistics describing the distribution of\n",
    "    sampling frequencies.\n",
    "\n",
    "    Parameters\n",
    "    ----------\n",
    "    mag_df : pd.DataFrame\n",
    "        Pandas dataframe containing the magnetometer data\n",
    "\n",
    "    min_sep : float\n",
    "        Minimum separation between two consecutive observations \n",
    "        to be consider usable for discontinuity identification\n",
    "\n",
    "    verbose : boolean\n",
    "        Specifies information on diverging sampling frequencies\n",
    "    \n",
    "    Returns\n",
    "    -------\n",
    "    avg_sampling_freq : float\n",
    "        Weighted average of the sampling frequencies in the dataset\n",
    "\n",
    "    stats : dict\n",
    "        Some descriptive statistics for the interval\n",
    "    \n",
    "    \"\"\"\n",
    "    # Boolean flag for quality of data in interval\n",
    "    # Assume its not bad and set to True if it is\n",
    "    bad = False\n",
    "\n",
    "    # Compute the time difference between consecutive measurements\n",
    "    # a_i - a_{i-1} and save the data as dt.timedelta objects\n",
    "    # rounded to the nearest milisecond\n",
    "    diff_dt = mag_df.index.to_series().diff(1).round('ms')\n",
    "    sampling_freqs = diff_dt.value_counts()\n",
    "    sampling_freqs /= sampling_freqs.sum()\n",
    "\n",
    "    avg_sampling_freq = 0\n",
    "    for t, percentage in sampling_freqs.items():\n",
    "        avg_sampling_freq += t.total_seconds() * percentage\n",
    "\n",
    "    # Compute the difference in units of seconds so we can compute the RMS\n",
    "    diff_s = np.array(\n",
    "                list(\n",
    "                    map(lambda val: val.total_seconds(), diff_dt)\n",
    "                )\n",
    "            )\n",
    "\n",
    "    # Compute the RMS of the observation times to look for gaps in \n",
    "    # in the observation period\n",
    "    t_rms = np.sqrt(\n",
    "                np.nanmean(\n",
    "                    np.square(diff_s)\n",
    "                )\n",
    "            )\n",
    "    # flag that the gaps larger the min_sep. \n",
    "    if min_sep is None:\n",
    "        min_sep = 5 * t_rms\n",
    "\n",
    "    gap_indices = np.where(diff_s > min_sep)[0]\n",
    "    n_gaps = len(gap_indices)\n",
    "    \n",
    "    try:\n",
    "        previous_indices = gap_indices - 1\n",
    "    except TypeError as e:\n",
    "#         LOG.warning(e)\n",
    "        print(e)\n",
    "        total_missing = 0\n",
    "    else:\n",
    "        interval_durations = mag_df.index[gap_indices] \\\n",
    "                                - mag_df.index[previous_indices]\n",
    "        total_missing = sum(interval_durations.total_seconds())\n",
    "\n",
    "    # Compute the duration of the entire interval and determine the coverage\n",
    "    total_duration = (mag_df.index[-1] - mag_df.index[0]).total_seconds()\n",
    "    coverage = 1 - total_missing / total_duration\n",
    "\n",
    "    if verbose and coverage < 0.5:\n",
    "        msg = (\n",
    "            f\"\\n Observational coverage: {coverage:0.2%}\\n\"\n",
    "            f\"Number of data gaps: {n_gaps:0.0f}\\n\"\n",
    "            f\"Average sampling rate: {avg_sampling_freq:0.5f}\"\n",
    "            )\n",
    "#         LOG.warning(msg)\n",
    "        print(msg)\n",
    "        bad = True\n",
    "\n",
    "    stats_data = {}\n",
    "    stats_data['average_freq'] = avg_sampling_freq\n",
    "    stats_data['max_freq'] = sampling_freqs.index.max().total_seconds()\n",
    "    stats_data['min_freq'] = sampling_freqs.index.min().total_seconds()\n",
    "    stats_data['n_gaps'] = len(gap_indices)\n",
    "    stats_data['starttime_gaps'] = [mag_df.index[previous_indices]]\n",
    "    stats_data['total_missing'] = total_missing\n",
    "    stats_data['coverage'] = coverage\n",
    "\n",
    "    return avg_sampling_freq, stats_data, bad"
   ]
  },
  {
   "cell_type": "code",
   "execution_count": null,
   "id": "c808efdf",
   "metadata": {},
   "outputs": [],
   "source": [
    "sta_data_cut_df.head()"
   ]
  },
  {
   "cell_type": "code",
   "execution_count": null,
   "id": "5fa9f108",
   "metadata": {},
   "outputs": [],
   "source": [
    "check_sampling_freq(sta_data_cut_df, min_sep=120)"
   ]
  },
  {
   "cell_type": "markdown",
   "id": "27a7deb4",
   "metadata": {},
   "source": [
    "### STEREO B dataset (not used)"
   ]
  },
  {
   "cell_type": "code",
   "execution_count": null,
   "id": "a25e7693",
   "metadata": {},
   "outputs": [],
   "source": [
    "cols_of_interest = [\n",
    "    'BTOTAL', \n",
    "    'BX(RTN)',\n",
    "    'BY(RTN)',\n",
    "    'BZ(RTN)', \n",
    "    'VP_RTN',\n",
    "    'TEMPERATURE',\n",
    "    'BETA',\n",
    "    'Np'\n",
    "]"
   ]
  },
  {
   "cell_type": "code",
   "execution_count": null,
   "id": "b7ca32e9",
   "metadata": {},
   "outputs": [],
   "source": [
    "def read_stereo_datasets(fname):\n",
    "    with open(fname, 'r') as fobj:\n",
    "        lines = fobj.readlines()\n",
    "\n",
    "    colnames = lines[0].split()\n",
    "    tmp = lines[1].split()\n",
    "    units = []\n",
    "    units.append(' '.join(tmp[:2]))\n",
    "    units += tmp[2:]\n",
    "\n",
    "    for col, unit in zip(colnames, units):\n",
    "        print(col, unit)\n",
    "        \n",
    "    data = []\n",
    "    index = []\n",
    "    for line in tqdm(lines[2:]):\n",
    "        lsplit = line.split()\n",
    "        index.append(dt.datetime.strptime(' '.join(lsplit[:2]), '%d-%m-%Y %H:%M:%S.%f'))\n",
    "        data.append(list(map(float, lsplit[2:])))\n",
    "    \n",
    "    df = pd.DataFrame(data, columns=colnames[1:], index=pd.DatetimeIndex(index))\n",
    "    return df"
   ]
  },
  {
   "cell_type": "code",
   "execution_count": null,
   "id": "e22e5049",
   "metadata": {},
   "outputs": [],
   "source": [
    "stb_data_df = read_stereo_datasets('../data/stb_l2_magplasma.txt')"
   ]
  },
  {
   "cell_type": "code",
   "execution_count": null,
   "id": "69753c61",
   "metadata": {},
   "outputs": [],
   "source": [
    "stb_data_df.head()"
   ]
  },
  {
   "cell_type": "code",
   "execution_count": null,
   "id": "fee65cb4",
   "metadata": {},
   "outputs": [],
   "source": [
    "stb_data_cut_df = stb_data_df[stb_data_df.gt(-1e30)]"
   ]
  },
  {
   "cell_type": "code",
   "execution_count": null,
   "id": "5d2e70ba",
   "metadata": {},
   "outputs": [],
   "source": [
    "stb_data_cut_df.info()"
   ]
  },
  {
   "cell_type": "code",
   "execution_count": null,
   "id": "3db035a9",
   "metadata": {},
   "outputs": [],
   "source": [
    "stb_data_cut_df = stb_data_cut_df.dropna()"
   ]
  },
  {
   "cell_type": "code",
   "execution_count": null,
   "id": "934db508",
   "metadata": {},
   "outputs": [],
   "source": [
    "stb_data_cut_df.info()"
   ]
  },
  {
   "cell_type": "code",
   "execution_count": null,
   "id": "7a51465b",
   "metadata": {},
   "outputs": [],
   "source": [
    "stb_data_cut_detrend_df = stb_data_cut_df - stb_data_cut_df.rolling('1D', center=True).mean()"
   ]
  },
  {
   "cell_type": "code",
   "execution_count": null,
   "id": "47a4da29",
   "metadata": {},
   "outputs": [],
   "source": [
    "errors = []\n",
    "with PdfPages('icmes_stereoB_4day_window_detrended.pdf', 'w') as pdf:\n",
    "    for date in tqdm(stb_icme_df.index):\n",
    "        try:\n",
    "            fig = quality_check_plot(\n",
    "                stb_data_cut_detrend_df, \n",
    "                date, \n",
    "                window_size=dt.timedelta(days=2), \n",
    "                cols=cols_of_interest,\n",
    "                normalize=False\n",
    "            )\n",
    "        except Exception as e:\n",
    "            print(e)\n",
    "            errors.append(date)\n",
    "        else:\n",
    "            pdf.savefig(fig)\n",
    "            plt.close(fig)"
   ]
  }
 ],
 "metadata": {
  "kernelspec": {
   "display_name": "Python 3 (ipykernel)",
   "language": "python",
   "name": "python3"
  },
  "language_info": {
   "codemirror_mode": {
    "name": "ipython",
    "version": 3
   },
   "file_extension": ".py",
   "mimetype": "text/x-python",
   "name": "python",
   "nbconvert_exporter": "python",
   "pygments_lexer": "ipython3",
   "version": "3.7.9"
  }
 },
 "nbformat": 4,
 "nbformat_minor": 5
}
