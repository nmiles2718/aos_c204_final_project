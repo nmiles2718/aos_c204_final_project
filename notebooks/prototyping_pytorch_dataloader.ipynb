{
 "cells": [
  {
   "cell_type": "markdown",
   "id": "0321aeee",
   "metadata": {},
   "source": [
    "# pytorch dataloaders\n",
    "\n",
    "This notebook is used to develop the pytorch dataset and correspond dataloaders.\n",
    "\n",
    "pytorch dataloaders use a well-defined pytorch dataset to handle the process of generating training/testing/validation sets. The pytorch dataset is just a class that contains two methods, `__len__()` and `__getitem__`. The `len` method just returns the size of the dataset and the `getitem` method returns a single sample and its corresponding label. "
   ]
  },
  {
   "cell_type": "code",
   "execution_count": null,
   "id": "871cb0b6",
   "metadata": {},
   "outputs": [],
   "source": [
    "# %matplotlib widget\n",
    "import glob\n",
    "import os\n",
    "\n",
    "from matplotlib.backends.backend_pdf import PdfPages\n",
    "import matplotlib.pyplot as plt\n",
    "from matplotlib.gridspec import GridSpec\n",
    "\n",
    "import numpy as np\n",
    "import pandas as pd\n",
    "from pyts.image import RecurrencePlot\n",
    "import torch\n",
    "from torch.utils.data import Dataset, DataLoader\n",
    "from torchvision.transforms import ToTensor\n",
    "\n",
    "import sys\n",
    "sys.path.append('/Users/ndmiles/ClassWork/FallQuarter2021/aos_c204/aos_c204_final_project')\n",
    "\n",
    "from utils import generate_data_chunks"
   ]
  },
  {
   "cell_type": "code",
   "execution_count": null,
   "id": "07e39688",
   "metadata": {},
   "outputs": [],
   "source": [
    "class ICMEDataset(Dataset):\n",
    "    def __init__(self, icme_labels, rootdir, datadir, transform=None):\n",
    "\n",
    "        self.rootdir = rootdir\n",
    "        self.datadir = datadir\n",
    "        self.df = pd.read_csv(\n",
    "            f'{rootdir}/data/{icme_labels}',\n",
    "            header=0, \n",
    "            parse_dates=['start_time', 'stop_time']\n",
    "        )\n",
    "        self.transform=transform\n",
    "        \n",
    "    def __len__(self):\n",
    "        return len(self.df)\n",
    "    \n",
    "    def __getitem__(self, idx):\n",
    "        if torch.is_tensor(idx):\n",
    "            idx = idx.tolist()\n",
    "        f = self.df.fname_img.iloc[idx]\n",
    "        f_ts = self.df.fname.iloc[idx]\n",
    "        label = self.df.label.iloc[idx]\n",
    "        img = np.load(f'{self.datadir}/{f}')\n",
    "\n",
    "        return img, label, f_ts"
   ]
  },
  {
   "cell_type": "code",
   "execution_count": null,
   "id": "f49a8de5",
   "metadata": {},
   "outputs": [],
   "source": [
    "icme_train_dataset = ICMEDataset(\n",
    "    'sta_train_set.txt', \n",
    "    rootdir=(\n",
    "        '/Users/ndmiles/ClassWork/FallQuarter2021/'\n",
    "        'aos_c204/aos_c204_final_project/'\n",
    "    ),\n",
    "    datadir=(\n",
    "        '/Users/ndmiles/ClassWork/FallQuarter2021/'\n",
    "        'aos_c204/aos_c204_final_project/data/sta_chunks/'\n",
    "    )\n",
    ")"
   ]
  },
  {
   "cell_type": "code",
   "execution_count": null,
   "id": "325e2236",
   "metadata": {},
   "outputs": [],
   "source": [
    "icme_test_dataset = ICMEDataset(\n",
    "    'sta_test_set.txt', \n",
    "    rootdir=(\n",
    "        '/Users/ndmiles/ClassWork/FallQuarter2021/'\n",
    "        'aos_c204/aos_c204_final_project/'\n",
    "    ),\n",
    "    datadir=(\n",
    "        '/Users/ndmiles/ClassWork/FallQuarter2021/'\n",
    "        'aos_c204/aos_c204_final_project/data/sta_chunks/'\n",
    "    )\n",
    ")"
   ]
  },
  {
   "cell_type": "code",
   "execution_count": null,
   "id": "412c7ead",
   "metadata": {},
   "outputs": [],
   "source": [
    "icme_val_dataset = ICMEDataset(\n",
    "    'sta_validation_set.txt', \n",
    "    rootdir=(\n",
    "        '/Users/ndmiles/ClassWork/FallQuarter2021/'\n",
    "        'aos_c204/aos_c204_final_project/'\n",
    "    ),\n",
    "    datadir=(\n",
    "        '/Users/ndmiles/ClassWork/FallQuarter2021/'\n",
    "        'aos_c204/aos_c204_final_project/data/sta_chunks/'\n",
    "    )\n",
    ")"
   ]
  },
  {
   "cell_type": "code",
   "execution_count": null,
   "id": "5796d3c3",
   "metadata": {},
   "outputs": [],
   "source": [
    "train_loader = DataLoader(\n",
    "    icme_train_dataset, \n",
    "    batch_size=1, \n",
    "    shuffle=True,\n",
    "    num_workers=0\n",
    ")"
   ]
  },
  {
   "cell_type": "code",
   "execution_count": null,
   "id": "0da95400",
   "metadata": {},
   "outputs": [],
   "source": [
    "test_loader = DataLoader(\n",
    "    icme_test_dataset, \n",
    "    batch_size=1, \n",
    "    shuffle=True,\n",
    "    num_workers=0\n",
    ")"
   ]
  },
  {
   "cell_type": "code",
   "execution_count": null,
   "id": "36ab38c7",
   "metadata": {},
   "outputs": [],
   "source": [
    "val_loader = DataLoader(\n",
    "    icme_val_dataset, \n",
    "    batch_size=1, \n",
    "    shuffle=True,\n",
    "    num_workers=0\n",
    ")"
   ]
  },
  {
   "cell_type": "code",
   "execution_count": null,
   "id": "fc531b3d",
   "metadata": {},
   "outputs": [],
   "source": [
    "for img, label, fname_ts in train_loader:\n",
    "    print(img.shape, fname_ts)"
   ]
  },
  {
   "cell_type": "code",
   "execution_count": null,
   "id": "bffd91d9",
   "metadata": {},
   "outputs": [],
   "source": [
    "t_df = pd.read_csv('../data/sta_chunks/sta_ts_interval_2012-04-16_12_02_00_to_2012-04-19_12_02_00.txt', header=0, index_col=0, parse_dates=True)"
   ]
  },
  {
   "cell_type": "code",
   "execution_count": null,
   "id": "6f14ccea",
   "metadata": {},
   "outputs": [],
   "source": [
    "t_df.head()"
   ]
  },
  {
   "cell_type": "code",
   "execution_count": null,
   "id": "39d320c2",
   "metadata": {},
   "outputs": [],
   "source": [
    "t_df.shape"
   ]
  },
  {
   "cell_type": "code",
   "execution_count": null,
   "id": "dcbef8f5",
   "metadata": {},
   "outputs": [],
   "source": [
    "t_df.plot(y='BTOTAL')"
   ]
  },
  {
   "cell_type": "code",
   "execution_count": null,
   "id": "2091be30",
   "metadata": {},
   "outputs": [],
   "source": [
    "img1, label1 = next(iter(train_loader))\n",
    "img2, label2 = next(iter(train_loader))"
   ]
  },
  {
   "cell_type": "code",
   "execution_count": null,
   "id": "5c25d043",
   "metadata": {},
   "outputs": [],
   "source": [
    "def plot_img(img, label, cols=None):\n",
    "    img_dict = dict()\n",
    "#     img, label = next(iter(loader))\n",
    "    if cols is None:\n",
    "        cols = [f'{i:0.0f}' for i in range(len(img[0]))]\n",
    "    for i, col in enumerate(cols):\n",
    "        img_dict[col] = [img[0][i].numpy()]\n",
    "    fig = generate_data_chunks.visualize_chunk_img(img_dict, icme=label.numpy()[0])\n",
    "    return fig"
   ]
  },
  {
   "cell_type": "code",
   "execution_count": null,
   "id": "f90ec4c2",
   "metadata": {},
   "outputs": [],
   "source": [
    "pdf = PdfPages('icmes_images_trainining.pdf', 'a')"
   ]
  },
  {
   "cell_type": "code",
   "execution_count": null,
   "id": "70ed0a8c",
   "metadata": {},
   "outputs": [],
   "source": [
    "cols = (\n",
    "    'BTOTAL',\n",
    "    'BX(RTN)',\n",
    "    'BY(RTN)',\n",
    "    'BZ(RTN)',\n",
    "    'VP_RTN',\n",
    "    'NP'\n",
    "    'TEMPERATURE',\n",
    "    'BETA'\n",
    ")"
   ]
  },
  {
   "cell_type": "code",
   "execution_count": null,
   "id": "cff5ea5e",
   "metadata": {},
   "outputs": [],
   "source": [
    "for img, label in train_loader:\n",
    "    if label == 1:\n",
    "        fig = plot_img(img, label, cols=cols)\n",
    "        pdf.savefig(bbox_inches='tight', dpi=150)\n",
    "        plt.close(fig)\n",
    "pdf.close()"
   ]
  }
 ],
 "metadata": {
  "kernelspec": {
   "display_name": "Python 3 (ipykernel)",
   "language": "python",
   "name": "python3"
  },
  "language_info": {
   "codemirror_mode": {
    "name": "ipython",
    "version": 3
   },
   "file_extension": ".py",
   "mimetype": "text/x-python",
   "name": "python",
   "nbconvert_exporter": "python",
   "pygments_lexer": "ipython3",
   "version": "3.7.9"
  }
 },
 "nbformat": 4,
 "nbformat_minor": 5
}
