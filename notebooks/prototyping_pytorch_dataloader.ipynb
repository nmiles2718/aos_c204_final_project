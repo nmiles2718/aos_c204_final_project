{
 "cells": [
  {
   "cell_type": "markdown",
   "id": "d169fa30",
   "metadata": {},
   "source": [
    "# pytorch dataloaders\n",
    "\n",
    "This notebook is used to develop the pytorch dataset and correspond dataloaders.\n",
    "\n",
    "pytorch dataloaders use a well-defined pytorch dataset to handle the process of generating training/testing/validation sets. The pytorch dataset is just a class that contains two methods, `__len__()` and `__getitem__`. The `len` method just returns the size of the dataset and the `getitem` method returns a single sample and its corresponding label. "
   ]
  },
  {
   "cell_type": "code",
   "execution_count": 64,
   "id": "fd5fc368",
   "metadata": {},
   "outputs": [],
   "source": [
    "%matplotlib widget\n",
    "import glob\n",
    "import os\n",
    "\n",
    "import matplotlib.pyplot as plt\n",
    "from matplotlib.gridspec import GridSpec\n",
    "import numpy as np\n",
    "import pandas as pd\n",
    "from pyts.image import RecurrencePlot\n",
    "import torch\n",
    "from torch.utils.data import Dataset\n",
    "from torchvision.transforms import ToTensor\n",
    "\n",
    "import sys\n",
    "sys.path.append('/Users/ndmiles/ClassWork/FallQuarter2021/aos_c204/aos_c204_final_project')\n",
    "\n",
    "from utils import generate_data_chunks"
   ]
  },
  {
   "cell_type": "code",
   "execution_count": 65,
   "id": "4004c0b6",
   "metadata": {},
   "outputs": [],
   "source": [
    "class ICMEDataset(Dataset):\n",
    "    def __init__(self, datalabels, datadir, transform=None):\n",
    "        pass"
   ]
  },
  {
   "cell_type": "code",
   "execution_count": 66,
   "id": "5dfc3a52",
   "metadata": {},
   "outputs": [],
   "source": [
    "chunk_flist = glob.glob('../data/sta_chunks/sta*txt')"
   ]
  },
  {
   "cell_type": "code",
   "execution_count": 67,
   "id": "4ffcaaa8",
   "metadata": {},
   "outputs": [],
   "source": [
    "test_chunk = pd.read_csv(chunk_flist[102], header=0, index_col=0, parse_dates=True)"
   ]
  },
  {
   "cell_type": "code",
   "execution_count": 68,
   "id": "885ca345",
   "metadata": {},
   "outputs": [],
   "source": [
    "X = test_chunk['BTOTAL'].values"
   ]
  },
  {
   "cell_type": "code",
   "execution_count": 69,
   "id": "b00ba4dc",
   "metadata": {},
   "outputs": [],
   "source": [
    "rp = RecurrencePlot(threshold='distance', percentage=10)"
   ]
  },
  {
   "cell_type": "code",
   "execution_count": 70,
   "id": "aff825a1",
   "metadata": {},
   "outputs": [
    {
     "data": {
      "text/html": [
       "<div>\n",
       "<style scoped>\n",
       "    .dataframe tbody tr th:only-of-type {\n",
       "        vertical-align: middle;\n",
       "    }\n",
       "\n",
       "    .dataframe tbody tr th {\n",
       "        vertical-align: top;\n",
       "    }\n",
       "\n",
       "    .dataframe thead th {\n",
       "        text-align: right;\n",
       "    }\n",
       "</style>\n",
       "<table border=\"1\" class=\"dataframe\">\n",
       "  <thead>\n",
       "    <tr style=\"text-align: right;\">\n",
       "      <th></th>\n",
       "      <th>BTOTAL</th>\n",
       "      <th>BX(RTN)</th>\n",
       "      <th>BY(RTN)</th>\n",
       "      <th>BZ(RTN)</th>\n",
       "      <th>VP_RTN</th>\n",
       "      <th>TEMPERATURE</th>\n",
       "      <th>BETA</th>\n",
       "    </tr>\n",
       "    <tr>\n",
       "      <th>EPOCH</th>\n",
       "      <th></th>\n",
       "      <th></th>\n",
       "      <th></th>\n",
       "      <th></th>\n",
       "      <th></th>\n",
       "      <th></th>\n",
       "      <th></th>\n",
       "    </tr>\n",
       "  </thead>\n",
       "  <tbody>\n",
       "    <tr>\n",
       "      <th>2011-06-27 00:00:00</th>\n",
       "      <td>3.693066</td>\n",
       "      <td>-0.640593</td>\n",
       "      <td>-0.840517</td>\n",
       "      <td>1.508870</td>\n",
       "      <td>401.468621</td>\n",
       "      <td>58968.160871</td>\n",
       "      <td>2.155385</td>\n",
       "    </tr>\n",
       "    <tr>\n",
       "      <th>2011-06-27 00:20:00</th>\n",
       "      <td>3.689943</td>\n",
       "      <td>-0.190876</td>\n",
       "      <td>-1.496312</td>\n",
       "      <td>1.130264</td>\n",
       "      <td>398.885227</td>\n",
       "      <td>58317.818613</td>\n",
       "      <td>2.201446</td>\n",
       "    </tr>\n",
       "    <tr>\n",
       "      <th>2011-06-27 00:40:00</th>\n",
       "      <td>3.733945</td>\n",
       "      <td>0.258847</td>\n",
       "      <td>-1.967292</td>\n",
       "      <td>1.192816</td>\n",
       "      <td>395.456471</td>\n",
       "      <td>58939.000048</td>\n",
       "      <td>2.229310</td>\n",
       "    </tr>\n",
       "    <tr>\n",
       "      <th>2011-06-27 01:00:00</th>\n",
       "      <td>3.772438</td>\n",
       "      <td>0.615153</td>\n",
       "      <td>-2.585726</td>\n",
       "      <td>1.145958</td>\n",
       "      <td>392.124860</td>\n",
       "      <td>60154.966967</td>\n",
       "      <td>2.287068</td>\n",
       "    </tr>\n",
       "    <tr>\n",
       "      <th>2011-06-27 01:20:00</th>\n",
       "      <td>3.912162</td>\n",
       "      <td>0.319812</td>\n",
       "      <td>-2.360731</td>\n",
       "      <td>1.715302</td>\n",
       "      <td>390.926780</td>\n",
       "      <td>58896.865100</td>\n",
       "      <td>2.169453</td>\n",
       "    </tr>\n",
       "    <tr>\n",
       "      <th>...</th>\n",
       "      <td>...</td>\n",
       "      <td>...</td>\n",
       "      <td>...</td>\n",
       "      <td>...</td>\n",
       "      <td>...</td>\n",
       "      <td>...</td>\n",
       "      <td>...</td>\n",
       "    </tr>\n",
       "    <tr>\n",
       "      <th>2011-06-30 22:40:00</th>\n",
       "      <td>3.928866</td>\n",
       "      <td>-1.274164</td>\n",
       "      <td>-3.131051</td>\n",
       "      <td>-1.410548</td>\n",
       "      <td>391.750182</td>\n",
       "      <td>56838.053978</td>\n",
       "      <td>1.100172</td>\n",
       "    </tr>\n",
       "    <tr>\n",
       "      <th>2011-06-30 23:00:00</th>\n",
       "      <td>3.986032</td>\n",
       "      <td>-1.680883</td>\n",
       "      <td>-3.132007</td>\n",
       "      <td>-1.510975</td>\n",
       "      <td>389.671564</td>\n",
       "      <td>56927.447143</td>\n",
       "      <td>1.006858</td>\n",
       "    </tr>\n",
       "    <tr>\n",
       "      <th>2011-06-30 23:20:00</th>\n",
       "      <td>4.018877</td>\n",
       "      <td>-1.553664</td>\n",
       "      <td>-3.183556</td>\n",
       "      <td>-1.496514</td>\n",
       "      <td>390.220132</td>\n",
       "      <td>54099.911628</td>\n",
       "      <td>0.947468</td>\n",
       "    </tr>\n",
       "    <tr>\n",
       "      <th>2011-06-30 23:40:00</th>\n",
       "      <td>3.984881</td>\n",
       "      <td>-1.464581</td>\n",
       "      <td>-3.133854</td>\n",
       "      <td>-1.597873</td>\n",
       "      <td>389.802187</td>\n",
       "      <td>54351.572736</td>\n",
       "      <td>0.969492</td>\n",
       "    </tr>\n",
       "    <tr>\n",
       "      <th>2011-07-01 00:00:00</th>\n",
       "      <td>3.983670</td>\n",
       "      <td>-1.472683</td>\n",
       "      <td>-3.064921</td>\n",
       "      <td>-1.663005</td>\n",
       "      <td>389.887586</td>\n",
       "      <td>54517.183849</td>\n",
       "      <td>0.979522</td>\n",
       "    </tr>\n",
       "  </tbody>\n",
       "</table>\n",
       "<p>269 rows × 7 columns</p>\n",
       "</div>"
      ],
      "text/plain": [
       "                       BTOTAL   BX(RTN)   BY(RTN)   BZ(RTN)      VP_RTN  \\\n",
       "EPOCH                                                                     \n",
       "2011-06-27 00:00:00  3.693066 -0.640593 -0.840517  1.508870  401.468621   \n",
       "2011-06-27 00:20:00  3.689943 -0.190876 -1.496312  1.130264  398.885227   \n",
       "2011-06-27 00:40:00  3.733945  0.258847 -1.967292  1.192816  395.456471   \n",
       "2011-06-27 01:00:00  3.772438  0.615153 -2.585726  1.145958  392.124860   \n",
       "2011-06-27 01:20:00  3.912162  0.319812 -2.360731  1.715302  390.926780   \n",
       "...                       ...       ...       ...       ...         ...   \n",
       "2011-06-30 22:40:00  3.928866 -1.274164 -3.131051 -1.410548  391.750182   \n",
       "2011-06-30 23:00:00  3.986032 -1.680883 -3.132007 -1.510975  389.671564   \n",
       "2011-06-30 23:20:00  4.018877 -1.553664 -3.183556 -1.496514  390.220132   \n",
       "2011-06-30 23:40:00  3.984881 -1.464581 -3.133854 -1.597873  389.802187   \n",
       "2011-07-01 00:00:00  3.983670 -1.472683 -3.064921 -1.663005  389.887586   \n",
       "\n",
       "                      TEMPERATURE      BETA  \n",
       "EPOCH                                        \n",
       "2011-06-27 00:00:00  58968.160871  2.155385  \n",
       "2011-06-27 00:20:00  58317.818613  2.201446  \n",
       "2011-06-27 00:40:00  58939.000048  2.229310  \n",
       "2011-06-27 01:00:00  60154.966967  2.287068  \n",
       "2011-06-27 01:20:00  58896.865100  2.169453  \n",
       "...                           ...       ...  \n",
       "2011-06-30 22:40:00  56838.053978  1.100172  \n",
       "2011-06-30 23:00:00  56927.447143  1.006858  \n",
       "2011-06-30 23:20:00  54099.911628  0.947468  \n",
       "2011-06-30 23:40:00  54351.572736  0.969492  \n",
       "2011-07-01 00:00:00  54517.183849  0.979522  \n",
       "\n",
       "[269 rows x 7 columns]"
      ]
     },
     "execution_count": 70,
     "metadata": {},
     "output_type": "execute_result"
    }
   ],
   "source": [
    "test_chunk.resample('10min').mean().dropna()"
   ]
  },
  {
   "cell_type": "code",
   "execution_count": 168,
   "id": "40e81fdd",
   "metadata": {},
   "outputs": [],
   "source": [
    "interp_df = test_chunk.interpolate(method='linear', axis=0)"
   ]
  },
  {
   "cell_type": "code",
   "execution_count": 83,
   "id": "9f8ee430",
   "metadata": {},
   "outputs": [
    {
     "data": {
      "application/vnd.jupyter.widget-view+json": {
       "model_id": "fdc6400774f6469b8421928da05ae177",
       "version_major": 2,
       "version_minor": 0
      },
      "text/plain": [
       "Canvas(toolbar=Toolbar(toolitems=[('Home', 'Reset original view', 'home', 'home'), ('Back', 'Back to previous …"
      ]
     },
     "metadata": {},
     "output_type": "display_data"
    },
    {
     "data": {
      "text/plain": [
       "[<matplotlib.lines.Line2D at 0x7ff69c2436d0>]"
      ]
     },
     "execution_count": 83,
     "metadata": {},
     "output_type": "execute_result"
    }
   ],
   "source": [
    "y = test_chunk.rolling('120min', center=True).mean().dropna()['BTOTAL']\n",
    "y_resampled = test_chunk.resample('20min').mean().dropna()['BTOTAL']\n",
    "x = np.arange(0, len(y))\n",
    "x = test_chunk.index\n",
    "x_resample = np.arange(0, len(y_resampled))\n",
    "fig, ax = plt.subplots(nrows=1, ncols=1)\n",
    "ax.plot(x, test_chunk['BTOTAL'])\n",
    "ax.plot(interp_df.index, interp_df['BTOTAL'],ls='--')\n",
    "# ax.plot(x, y)\n",
    "# ax.plot(y_resampled.index, y_resampled,c='k',ls='--')\n",
    "\n",
    "# test_chunk.resample('20min').mean().plot(y='BETA')"
   ]
  },
  {
   "cell_type": "code",
   "execution_count": 84,
   "id": "f21ee777",
   "metadata": {},
   "outputs": [],
   "source": [
    "smoothed = interp_df.rolling('90min').mean().dropna()\n",
    "resampled = smoothed.resample('20min').mean().dropna()"
   ]
  },
  {
   "cell_type": "code",
   "execution_count": 85,
   "id": "7161e15a",
   "metadata": {},
   "outputs": [],
   "source": [
    "offset = smoothed.index[0] - resampled.index[0]"
   ]
  },
  {
   "cell_type": "code",
   "execution_count": 86,
   "id": "f7437832",
   "metadata": {},
   "outputs": [],
   "source": [
    "resampled.index += offset"
   ]
  },
  {
   "cell_type": "code",
   "execution_count": 87,
   "id": "8cf33177",
   "metadata": {},
   "outputs": [
    {
     "data": {
      "text/plain": [
       "Timedelta('0 days 00:20:00')"
      ]
     },
     "execution_count": 87,
     "metadata": {},
     "output_type": "execute_result"
    }
   ],
   "source": [
    "smoothed.index.to_series().diff(1).value_counts().index[0]"
   ]
  },
  {
   "cell_type": "code",
   "execution_count": 97,
   "id": "a380694a",
   "metadata": {},
   "outputs": [
    {
     "data": {
      "application/vnd.jupyter.widget-view+json": {
       "model_id": "d6607737fa03451cadd19076446037a9",
       "version_major": 2,
       "version_minor": 0
      },
      "text/plain": [
       "Canvas(toolbar=Toolbar(toolitems=[('Home', 'Reset original view', 'home', 'home'), ('Back', 'Back to previous …"
      ]
     },
     "metadata": {},
     "output_type": "display_data"
    },
    {
     "data": {
      "text/plain": [
       "[<matplotlib.lines.Line2D at 0x7ff69d2670d0>]"
      ]
     },
     "execution_count": 97,
     "metadata": {},
     "output_type": "execute_result"
    }
   ],
   "source": [
    "fig, ax = plt.subplots(nrows=1, ncols=1)\n",
    "ax.plot(smoothed.index, smoothed['BZ(RTN)'])\n",
    "# ax.plot(resampled.index, resampled['BTOTAL'])"
   ]
  },
  {
   "cell_type": "code",
   "execution_count": 151,
   "id": "b99c0d3f",
   "metadata": {},
   "outputs": [],
   "source": [
    "imgs = generate_data_chunks.visualize_chunk_img(resampled, cols=resampled.columns, threshold='distance', percentage=10)"
   ]
  },
  {
   "cell_type": "code",
   "execution_count": 152,
   "id": "dde7c685",
   "metadata": {},
   "outputs": [
    {
     "data": {
      "text/plain": [
       "7"
      ]
     },
     "execution_count": 152,
     "metadata": {},
     "output_type": "execute_result"
    }
   ],
   "source": [
    "len(imgs.keys())"
   ]
  },
  {
   "cell_type": "code",
   "execution_count": 238,
   "id": "634c6f16",
   "metadata": {},
   "outputs": [
    {
     "data": {
      "text/plain": [
       "\u001b[0;31mSignature:\u001b[0m \u001b[0mfig\u001b[0m\u001b[0;34m.\u001b[0m\u001b[0msuptitle\u001b[0m\u001b[0;34m(\u001b[0m\u001b[0mt\u001b[0m\u001b[0;34m,\u001b[0m \u001b[0;34m**\u001b[0m\u001b[0mkwargs\u001b[0m\u001b[0;34m)\u001b[0m\u001b[0;34m\u001b[0m\u001b[0;34m\u001b[0m\u001b[0m\n",
       "\u001b[0;31mDocstring:\u001b[0m\n",
       "Add a centered title to the figure.\n",
       "\n",
       "Parameters\n",
       "----------\n",
       "t : str\n",
       "    The title text.\n",
       "\n",
       "x : float, default 0.5\n",
       "    The x location of the text in figure coordinates.\n",
       "\n",
       "y : float, default 0.98\n",
       "    The y location of the text in figure coordinates.\n",
       "\n",
       "horizontalalignment, ha : {'center', 'left', right'}, default: 'center'\n",
       "    The horizontal alignment of the text relative to (*x*, *y*).\n",
       "\n",
       "verticalalignment, va : {'top', 'center', 'bottom', 'baseline'}, default: 'top'\n",
       "    The vertical alignment of the text relative to (*x*, *y*).\n",
       "\n",
       "fontsize, size : default: :rc:`figure.titlesize`\n",
       "    The font size of the text. See `.Text.set_size` for possible\n",
       "    values.\n",
       "\n",
       "fontweight, weight : default: :rc:`figure.titleweight`\n",
       "    The font weight of the text. See `.Text.set_weight` for possible\n",
       "    values.\n",
       "\n",
       "Returns\n",
       "-------\n",
       "text\n",
       "    The `.Text` instance of the title.\n",
       "\n",
       "Other Parameters\n",
       "----------------\n",
       "fontproperties : None or dict, optional\n",
       "    A dict of font properties. If *fontproperties* is given the\n",
       "    default values for font size and weight are taken from the\n",
       "    `.FontProperties` defaults. :rc:`figure.titlesize` and\n",
       "    :rc:`figure.titleweight` are ignored in this case.\n",
       "\n",
       "**kwargs\n",
       "    Additional kwargs are `matplotlib.text.Text` properties.\n",
       "\n",
       "Examples\n",
       "--------\n",
       ">>> fig.suptitle('This is the figure title', fontsize=12)\n",
       "\u001b[0;31mFile:\u001b[0m      ~/miniconda3/envs/research/lib/python3.7/site-packages/matplotlib/figure.py\n",
       "\u001b[0;31mType:\u001b[0m      method\n"
      ]
     },
     "metadata": {},
     "output_type": "display_data"
    }
   ],
   "source": [
    "fig.suptitle?"
   ]
  },
  {
   "cell_type": "code",
   "execution_count": 237,
   "id": "b42272b1",
   "metadata": {},
   "outputs": [
    {
     "ename": "TypeError",
     "evalue": "'Index' object is not callable",
     "output_type": "error",
     "traceback": [
      "\u001b[0;31m---------------------------------------------------------------------------\u001b[0m",
      "\u001b[0;31mTypeError\u001b[0m                                 Traceback (most recent call last)",
      "\u001b[0;32m/var/folders/w7/gwgy6w893h356354jghpn4rm0000gn/T/ipykernel_1654/864871091.py\u001b[0m in \u001b[0;36m<module>\u001b[0;34m\u001b[0m\n\u001b[0;32m----> 1\u001b[0;31m \u001b[0minterp_df\u001b[0m\u001b[0;34m.\u001b[0m\u001b[0mcolumns\u001b[0m\u001b[0;34m(\u001b[0m\u001b[0;34m)\u001b[0m\u001b[0;34m\u001b[0m\u001b[0;34m\u001b[0m\u001b[0m\n\u001b[0m",
      "\u001b[0;31mTypeError\u001b[0m: 'Index' object is not callable"
     ]
    }
   ],
   "source": [
    "interp_df.columns()"
   ]
  },
  {
   "cell_type": "code",
   "execution_count": 153,
   "id": "ab8b51a8",
   "metadata": {},
   "outputs": [],
   "source": [
    "def plot_rp(imgs):\n",
    "    values = imgs.values()\n",
    "    keys = imgs.keys()\n",
    "    fig = plt.figure(figsize=(7, 4))\n",
    "    gs = GridSpec(nrows=2, ncols=4, hspace=0.25, wspace=0.25)\n",
    "    axes = [fig.add_subplot(gs[0, i]) for i in range(4)]\n",
    "    axes += [fig.add_subplot(gs[1, i]) for i in range(3)]\n",
    "    for ax, val, key in zip(axes, values, keys):\n",
    "        ax.imshow(val[0], cmap='binary', origin='lower', aspect='equal')\n",
    "#         ax.tick_params(axis='both', which='both', bottom=False, left=False,labelbottom=False, labelleft=False)\n",
    "        ax.set_title(key)\n",
    "        ax.grid(False)"
   ]
  },
  {
   "cell_type": "code",
   "execution_count": 154,
   "id": "1181a8c5",
   "metadata": {},
   "outputs": [
    {
     "data": {
      "application/vnd.jupyter.widget-view+json": {
       "model_id": "af18c4ba48e74da1b065eafe04361200",
       "version_major": 2,
       "version_minor": 0
      },
      "text/plain": [
       "Canvas(toolbar=Toolbar(toolitems=[('Home', 'Reset original view', 'home', 'home'), ('Back', 'Back to previous …"
      ]
     },
     "metadata": {},
     "output_type": "display_data"
    }
   ],
   "source": [
    "plot_rp(imgs)"
   ]
  },
  {
   "cell_type": "code",
   "execution_count": 155,
   "id": "9f77bbd6",
   "metadata": {},
   "outputs": [
    {
     "data": {
      "application/vnd.jupyter.widget-view+json": {
       "model_id": "8f01159943c048b3b727da9b931d87c8",
       "version_major": 2,
       "version_minor": 0
      },
      "text/plain": [
       "Canvas(toolbar=Toolbar(toolitems=[('Home', 'Reset original view', 'home', 'home'), ('Back', 'Back to previous …"
      ]
     },
     "metadata": {},
     "output_type": "display_data"
    },
    {
     "data": {
      "text/plain": [
       "[<matplotlib.lines.Line2D at 0x7ff458b43dd0>]"
      ]
     },
     "execution_count": 155,
     "metadata": {},
     "output_type": "execute_result"
    }
   ],
   "source": [
    "fig, ax = plt.subplots(nrows=1, ncols=1)\n",
    "ax.plot(smoothed.index, smoothed['BETA'])"
   ]
  },
  {
   "cell_type": "code",
   "execution_count": 156,
   "id": "49bb616e",
   "metadata": {},
   "outputs": [],
   "source": [
    "diff1 = interp_df['BETA'].iloc[0] - interp_df['BETA']"
   ]
  },
  {
   "cell_type": "code",
   "execution_count": 157,
   "id": "aa537260",
   "metadata": {},
   "outputs": [
    {
     "data": {
      "text/plain": [
       "array([-1.02137145])"
      ]
     },
     "execution_count": 157,
     "metadata": {},
     "output_type": "execute_result"
    }
   ],
   "source": [
    "np.percentile(diff1.values, q=[10])"
   ]
  },
  {
   "cell_type": "code",
   "execution_count": 163,
   "id": "4719bd06",
   "metadata": {},
   "outputs": [
    {
     "data": {
      "text/plain": [
       "29"
      ]
     },
     "execution_count": 163,
     "metadata": {},
     "output_type": "execute_result"
    }
   ],
   "source": [
    "len(np.where(diff1.values < -1.02137145)[0])"
   ]
  },
  {
   "cell_type": "code",
   "execution_count": 164,
   "id": "99509cb3",
   "metadata": {},
   "outputs": [
    {
     "data": {
      "text/plain": [
       "289"
      ]
     },
     "execution_count": 164,
     "metadata": {},
     "output_type": "execute_result"
    }
   ],
   "source": [
    "len(imgs['BETA'][0][:,0])"
   ]
  },
  {
   "cell_type": "code",
   "execution_count": 165,
   "id": "cd74a808",
   "metadata": {},
   "outputs": [
    {
     "data": {
      "text/plain": [
       "160"
      ]
     },
     "execution_count": 165,
     "metadata": {},
     "output_type": "execute_result"
    }
   ],
   "source": [
    "imgs['BETA'][0][:,0].sum()"
   ]
  },
  {
   "cell_type": "code",
   "execution_count": 167,
   "id": "fd884ffa",
   "metadata": {},
   "outputs": [
    {
     "data": {
      "text/plain": [
       "129"
      ]
     },
     "execution_count": 167,
     "metadata": {},
     "output_type": "execute_result"
    }
   ],
   "source": [
    "289 - 160"
   ]
  },
  {
   "cell_type": "code",
   "execution_count": 222,
   "id": "ede8603b",
   "metadata": {},
   "outputs": [],
   "source": [
    "img_data = list(imgs.values())"
   ]
  },
  {
   "cell_type": "code",
   "execution_count": 227,
   "id": "77264559",
   "metadata": {},
   "outputs": [],
   "source": [
    "img_data = np.concatenate(np.array(img_data))"
   ]
  },
  {
   "cell_type": "code",
   "execution_count": 235,
   "id": "b8352765",
   "metadata": {},
   "outputs": [
    {
     "data": {
      "text/plain": [
       "True"
      ]
     },
     "execution_count": 235,
     "metadata": {},
     "output_type": "execute_result"
    }
   ],
   "source": [
    "(img_data[1] == imgs['BTOTAL']).all()"
   ]
  },
  {
   "cell_type": "markdown",
   "id": "ed56918a",
   "metadata": {},
   "source": [
    "### Storing the image data"
   ]
  },
  {
   "cell_type": "code",
   "execution_count": 213,
   "id": "d899c40c",
   "metadata": {},
   "outputs": [],
   "source": [
    "import h5py"
   ]
  },
  {
   "cell_type": "code",
   "execution_count": 214,
   "id": "33d1ba6d",
   "metadata": {},
   "outputs": [],
   "source": [
    "f = h5py.File('test.hdf5', mode='w')"
   ]
  },
  {
   "cell_type": "code",
   "execution_count": 215,
   "id": "48bdb3c9",
   "metadata": {},
   "outputs": [
    {
     "data": {
      "text/plain": [
       "<KeysViewHDF5 []>"
      ]
     },
     "execution_count": 215,
     "metadata": {},
     "output_type": "execute_result"
    }
   ],
   "source": [
    "f.keys()"
   ]
  },
  {
   "cell_type": "code",
   "execution_count": 211,
   "id": "729e1147",
   "metadata": {},
   "outputs": [
    {
     "data": {
      "text/plain": [
       "<KeysViewHDF5 ['sta']>"
      ]
     },
     "execution_count": 211,
     "metadata": {},
     "output_type": "execute_result"
    }
   ],
   "source": [
    "f.keys()"
   ]
  },
  {
   "cell_type": "code",
   "execution_count": 216,
   "id": "89e359d6",
   "metadata": {},
   "outputs": [],
   "source": [
    "grp = f.create_group('sta')"
   ]
  },
  {
   "cell_type": "code",
   "execution_count": 217,
   "id": "30b825c6",
   "metadata": {},
   "outputs": [],
   "source": [
    "subgrp = grp.create_group('chunk1')"
   ]
  },
  {
   "cell_type": "code",
   "execution_count": 218,
   "id": "00e32636",
   "metadata": {},
   "outputs": [],
   "source": [
    "for key, value in imgs.items():\n",
    "    dst = subgrp.create_dataset(key, dtype=value.dtype, data=value, shape=value.shape)"
   ]
  },
  {
   "cell_type": "code",
   "execution_count": 219,
   "id": "a923eefb",
   "metadata": {},
   "outputs": [
    {
     "data": {
      "text/plain": [
       "<KeysViewHDF5 ['chunk1']>"
      ]
     },
     "execution_count": 219,
     "metadata": {},
     "output_type": "execute_result"
    }
   ],
   "source": [
    "grp.keys()"
   ]
  },
  {
   "cell_type": "code",
   "execution_count": 220,
   "id": "b9cc9640",
   "metadata": {},
   "outputs": [
    {
     "data": {
      "text/plain": [
       "<KeysViewHDF5 ['BETA', 'BTOTAL', 'BX(RTN)', 'BY(RTN)', 'BZ(RTN)', 'TEMPERATURE', 'VP_RTN']>"
      ]
     },
     "execution_count": 220,
     "metadata": {},
     "output_type": "execute_result"
    }
   ],
   "source": [
    "subgrp.keys()"
   ]
  },
  {
   "cell_type": "code",
   "execution_count": 189,
   "id": "b376d099",
   "metadata": {},
   "outputs": [
    {
     "data": {
      "text/plain": [
       "'2011-06-27 00:00:00'"
      ]
     },
     "execution_count": 189,
     "metadata": {},
     "output_type": "execute_result"
    }
   ],
   "source": [
    "interp_df.index[0].strftime('%Y-%m-%d %H:%M:%S')"
   ]
  },
  {
   "cell_type": "code",
   "execution_count": 190,
   "id": "d9ff76e0",
   "metadata": {},
   "outputs": [],
   "source": [
    "meta_data = {}\n",
    "meta_data['start_time'] = interp_df.index[0].strftime('%Y-%m-%d %H:%M:%S')\n",
    "meta_data['stop_time'] = interp_df.index[-1].strftime('%Y-%m-%d %H:%M:%S')"
   ]
  },
  {
   "cell_type": "code",
   "execution_count": 191,
   "id": "f65cb9a6",
   "metadata": {},
   "outputs": [],
   "source": [
    "for key in meta_data.keys():\n",
    "    dst.attrs[key] = meta_data[key]"
   ]
  },
  {
   "cell_type": "code",
   "execution_count": 193,
   "id": "17f77afa",
   "metadata": {},
   "outputs": [
    {
     "ename": "AttributeError",
     "evalue": "can't set attribute",
     "output_type": "error",
     "traceback": [
      "\u001b[0;31m---------------------------------------------------------------------------\u001b[0m",
      "\u001b[0;31mAttributeError\u001b[0m                            Traceback (most recent call last)",
      "\u001b[0;32m/var/folders/w7/gwgy6w893h356354jghpn4rm0000gn/T/ipykernel_1654/2957303416.py\u001b[0m in \u001b[0;36m<module>\u001b[0;34m\u001b[0m\n\u001b[0;32m----> 1\u001b[0;31m \u001b[0mdst\u001b[0m\u001b[0;34m.\u001b[0m\u001b[0mvalue\u001b[0m \u001b[0;34m=\u001b[0m \u001b[0mimgs\u001b[0m\u001b[0;34m[\u001b[0m\u001b[0;34m'BETA'\u001b[0m\u001b[0;34m]\u001b[0m\u001b[0;34m\u001b[0m\u001b[0;34m\u001b[0m\u001b[0m\n\u001b[0m",
      "\u001b[0;31mAttributeError\u001b[0m: can't set attribute"
     ]
    }
   ],
   "source": [
    "dst.value = imgs['BETA']"
   ]
  },
  {
   "cell_type": "code",
   "execution_count": 195,
   "id": "32956239",
   "metadata": {},
   "outputs": [],
   "source": [
    "del grp['chunk1']"
   ]
  },
  {
   "cell_type": "code",
   "execution_count": 212,
   "id": "d001b416",
   "metadata": {},
   "outputs": [],
   "source": [
    "f.close()"
   ]
  },
  {
   "cell_type": "code",
   "execution_count": null,
   "id": "91de9d41",
   "metadata": {},
   "outputs": [],
   "source": []
  }
 ],
 "metadata": {
  "kernelspec": {
   "display_name": "Python 3 (ipykernel)",
   "language": "python",
   "name": "python3"
  },
  "language_info": {
   "codemirror_mode": {
    "name": "ipython",
    "version": 3
   },
   "file_extension": ".py",
   "mimetype": "text/x-python",
   "name": "python",
   "nbconvert_exporter": "python",
   "pygments_lexer": "ipython3",
   "version": "3.7.9"
  }
 },
 "nbformat": 4,
 "nbformat_minor": 5
}
