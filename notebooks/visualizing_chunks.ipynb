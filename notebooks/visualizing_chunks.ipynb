{
 "cells": [
  {
   "cell_type": "code",
   "execution_count": null,
   "id": "f39711a0",
   "metadata": {},
   "outputs": [],
   "source": [
    "# %matplotlib widget\n",
    "import sys\n",
    "sys.path.append('/Users/ndmiles/ClassWork/FallQuarter2021/aos_c204/aos_c204_final_project')\n",
    "\n",
    "from matplotlib.backends.backend_pdf import PdfPages\n",
    "import matplotlib.pyplot as plt\n",
    "plt.style.use('ggplot')\n",
    "import numpy as np\n",
    "import pandas as pd\n",
    "\n",
    "from utils import generate_data_chunks\n"
   ]
  },
  {
   "cell_type": "code",
   "execution_count": null,
   "id": "37c32a18",
   "metadata": {},
   "outputs": [],
   "source": [
    "df = pd.read_csv('../utils/sta_dataset_labels.txt', header=0)"
   ]
  },
  {
   "cell_type": "code",
   "execution_count": null,
   "id": "935dc1ca",
   "metadata": {},
   "outputs": [],
   "source": [
    "icme_df = pd.read_csv('../data/sta_icme_list.txt', header=0, index_col=0, parse_dates=True)"
   ]
  },
  {
   "cell_type": "code",
   "execution_count": null,
   "id": "feb809b5",
   "metadata": {},
   "outputs": [],
   "source": [
    "df.head()"
   ]
  },
  {
   "cell_type": "code",
   "execution_count": null,
   "id": "2df2d63b",
   "metadata": {},
   "outputs": [],
   "source": [
    "random_sample = df[df.label.eq(1)].sample(10)"
   ]
  },
  {
   "cell_type": "code",
   "execution_count": null,
   "id": "5a09207e",
   "metadata": {},
   "outputs": [],
   "source": [
    "random_sample"
   ]
  },
  {
   "cell_type": "code",
   "execution_count": null,
   "id": "0da09477",
   "metadata": {},
   "outputs": [],
   "source": [
    "def plot_ts(fname, label):\n",
    "    df = pd.read_csv(f\"../data/sta_chunks/{fname}\", header=0, index_col=0, parse_dates = True)\n",
    "    interp_df = df.interpolate(method='linear', axis=0)\n",
    "    fig = generate_data_chunks.visualize_chunk_ts(interp_df, cols=df.columns, icme=label)\n",
    "    return fig, df"
   ]
  },
  {
   "cell_type": "code",
   "execution_count": null,
   "id": "7fc3fd15",
   "metadata": {},
   "outputs": [],
   "source": [
    "def plot_img(fname, label, cols=None):\n",
    "    img_dict = dict()\n",
    "    img = np.load(f\"../data/sta_chunks/{fname.replace('ts','img').replace('.txt','.npy')}\")\n",
    "    for i, col in enumerate(cols):\n",
    "        img_dict[col] = [img[i]]\n",
    "    fig = generate_data_chunks.visualize_chunk_img(img_dict, icme=label)\n",
    "    return fig, img\n",
    "#     fig = generate_data_chunks.visualize_chunk_img"
   ]
  },
  {
   "cell_type": "markdown",
   "id": "94d0906d",
   "metadata": {},
   "source": [
    "Generate a PDF containing a random sample of ICMEs. Plot both the timeseries data and the image representations"
   ]
  },
  {
   "cell_type": "code",
   "execution_count": null,
   "id": "0ff02c45",
   "metadata": {},
   "outputs": [],
   "source": [
    "pdf = PdfPages('examining_ICME.pdf')\n",
    "for i, row in random_sample.iterrows():\n",
    "    fname, label = row['fname'], row['label']\n",
    "    fig, df = plot_ts(fname, label)\n",
    "    fig1, img = plot_img(fname, label, cols=df.columns)\n",
    "    pdf.savefig(fig)\n",
    "    pdf.savefig(fig1)\n",
    "    plt.close(fig)\n",
    "    plt.close(fig1)\n",
    "pdf.close()"
   ]
  }
 ],
 "metadata": {
  "kernelspec": {
   "display_name": "Python 3 (ipykernel)",
   "language": "python",
   "name": "python3"
  },
  "language_info": {
   "codemirror_mode": {
    "name": "ipython",
    "version": 3
   },
   "file_extension": ".py",
   "mimetype": "text/x-python",
   "name": "python",
   "nbconvert_exporter": "python",
   "pygments_lexer": "ipython3",
   "version": "3.7.9"
  }
 },
 "nbformat": 4,
 "nbformat_minor": 5
}
