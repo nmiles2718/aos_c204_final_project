{
 "cells": [
  {
   "cell_type": "code",
   "execution_count": 1,
   "id": "d53532d3",
   "metadata": {},
   "outputs": [],
   "source": [
    "%matplotlib widget\n",
    "import sys\n",
    "sys.path.append('/Users/ndmiles/ClassWork/FallQuarter2021/aos_c204/aos_c204_final_project')\n",
    "\n",
    "\n",
    "import matplotlib.pyplot as plt\n",
    "plt.style.use('ggplot')\n",
    "import numpy as np\n",
    "import pandas as pd\n",
    "\n",
    "from utils import generate_data_chunks\n"
   ]
  },
  {
   "cell_type": "code",
   "execution_count": 2,
   "id": "1403f7a3",
   "metadata": {},
   "outputs": [],
   "source": [
    "df = pd.read_csv('../utils/sta_dataset_labels.txt', header=0)"
   ]
  },
  {
   "cell_type": "code",
   "execution_count": 3,
   "id": "b904b7d5",
   "metadata": {},
   "outputs": [
    {
     "data": {
      "text/html": [
       "<div>\n",
       "<style scoped>\n",
       "    .dataframe tbody tr th:only-of-type {\n",
       "        vertical-align: middle;\n",
       "    }\n",
       "\n",
       "    .dataframe tbody tr th {\n",
       "        vertical-align: top;\n",
       "    }\n",
       "\n",
       "    .dataframe thead th {\n",
       "        text-align: right;\n",
       "    }\n",
       "</style>\n",
       "<table border=\"1\" class=\"dataframe\">\n",
       "  <thead>\n",
       "    <tr style=\"text-align: right;\">\n",
       "      <th></th>\n",
       "      <th>fname</th>\n",
       "      <th>label</th>\n",
       "    </tr>\n",
       "  </thead>\n",
       "  <tbody>\n",
       "    <tr>\n",
       "      <th>0</th>\n",
       "      <td>sta_ts_interval_2007-01-02_00_02_00_to_2007-01...</td>\n",
       "      <td>0</td>\n",
       "    </tr>\n",
       "    <tr>\n",
       "      <th>1</th>\n",
       "      <td>sta_ts_interval_2007-01-03_00_02_00_to_2007-01...</td>\n",
       "      <td>0</td>\n",
       "    </tr>\n",
       "    <tr>\n",
       "      <th>2</th>\n",
       "      <td>sta_ts_interval_2007-01-04_00_02_00_to_2007-01...</td>\n",
       "      <td>0</td>\n",
       "    </tr>\n",
       "    <tr>\n",
       "      <th>3</th>\n",
       "      <td>sta_ts_interval_2007-01-05_00_02_00_to_2007-01...</td>\n",
       "      <td>0</td>\n",
       "    </tr>\n",
       "    <tr>\n",
       "      <th>4</th>\n",
       "      <td>sta_ts_interval_2007-01-06_00_02_00_to_2007-01...</td>\n",
       "      <td>0</td>\n",
       "    </tr>\n",
       "  </tbody>\n",
       "</table>\n",
       "</div>"
      ],
      "text/plain": [
       "                                               fname  label\n",
       "0  sta_ts_interval_2007-01-02_00_02_00_to_2007-01...      0\n",
       "1  sta_ts_interval_2007-01-03_00_02_00_to_2007-01...      0\n",
       "2  sta_ts_interval_2007-01-04_00_02_00_to_2007-01...      0\n",
       "3  sta_ts_interval_2007-01-05_00_02_00_to_2007-01...      0\n",
       "4  sta_ts_interval_2007-01-06_00_02_00_to_2007-01...      0"
      ]
     },
     "execution_count": 3,
     "metadata": {},
     "output_type": "execute_result"
    }
   ],
   "source": [
    "df.head()"
   ]
  },
  {
   "cell_type": "code",
   "execution_count": 26,
   "id": "f8cf63c9",
   "metadata": {},
   "outputs": [],
   "source": [
    "random_sample = df.sample(10)"
   ]
  },
  {
   "cell_type": "code",
   "execution_count": 27,
   "id": "3c019676",
   "metadata": {},
   "outputs": [
    {
     "data": {
      "text/html": [
       "<div>\n",
       "<style scoped>\n",
       "    .dataframe tbody tr th:only-of-type {\n",
       "        vertical-align: middle;\n",
       "    }\n",
       "\n",
       "    .dataframe tbody tr th {\n",
       "        vertical-align: top;\n",
       "    }\n",
       "\n",
       "    .dataframe thead th {\n",
       "        text-align: right;\n",
       "    }\n",
       "</style>\n",
       "<table border=\"1\" class=\"dataframe\">\n",
       "  <thead>\n",
       "    <tr style=\"text-align: right;\">\n",
       "      <th></th>\n",
       "      <th>fname</th>\n",
       "      <th>label</th>\n",
       "    </tr>\n",
       "  </thead>\n",
       "  <tbody>\n",
       "    <tr>\n",
       "      <th>927</th>\n",
       "      <td>sta_ts_interval_2009-10-20_00_02_00_to_2009-10...</td>\n",
       "      <td>0</td>\n",
       "    </tr>\n",
       "    <tr>\n",
       "      <th>76</th>\n",
       "      <td>sta_ts_interval_2007-04-22_00_02_00_to_2007-04...</td>\n",
       "      <td>0</td>\n",
       "    </tr>\n",
       "    <tr>\n",
       "      <th>939</th>\n",
       "      <td>sta_ts_interval_2009-11-01_00_02_00_to_2009-11...</td>\n",
       "      <td>1</td>\n",
       "    </tr>\n",
       "    <tr>\n",
       "      <th>1226</th>\n",
       "      <td>sta_ts_interval_2010-08-18_00_02_00_to_2010-08...</td>\n",
       "      <td>1</td>\n",
       "    </tr>\n",
       "    <tr>\n",
       "      <th>986</th>\n",
       "      <td>sta_ts_interval_2009-12-18_00_02_00_to_2009-12...</td>\n",
       "      <td>0</td>\n",
       "    </tr>\n",
       "    <tr>\n",
       "      <th>2124</th>\n",
       "      <td>sta_ts_interval_2013-10-12_00_02_00_to_2013-10...</td>\n",
       "      <td>0</td>\n",
       "    </tr>\n",
       "    <tr>\n",
       "      <th>1905</th>\n",
       "      <td>sta_ts_interval_2012-09-04_00_02_00_to_2012-09...</td>\n",
       "      <td>0</td>\n",
       "    </tr>\n",
       "    <tr>\n",
       "      <th>1438</th>\n",
       "      <td>sta_ts_interval_2011-04-07_00_02_00_to_2011-04...</td>\n",
       "      <td>0</td>\n",
       "    </tr>\n",
       "    <tr>\n",
       "      <th>956</th>\n",
       "      <td>sta_ts_interval_2009-11-18_00_02_00_to_2009-11...</td>\n",
       "      <td>0</td>\n",
       "    </tr>\n",
       "    <tr>\n",
       "      <th>276</th>\n",
       "      <td>sta_ts_interval_2007-12-15_00_02_00_to_2007-12...</td>\n",
       "      <td>0</td>\n",
       "    </tr>\n",
       "  </tbody>\n",
       "</table>\n",
       "</div>"
      ],
      "text/plain": [
       "                                                  fname  label\n",
       "927   sta_ts_interval_2009-10-20_00_02_00_to_2009-10...      0\n",
       "76    sta_ts_interval_2007-04-22_00_02_00_to_2007-04...      0\n",
       "939   sta_ts_interval_2009-11-01_00_02_00_to_2009-11...      1\n",
       "1226  sta_ts_interval_2010-08-18_00_02_00_to_2010-08...      1\n",
       "986   sta_ts_interval_2009-12-18_00_02_00_to_2009-12...      0\n",
       "2124  sta_ts_interval_2013-10-12_00_02_00_to_2013-10...      0\n",
       "1905  sta_ts_interval_2012-09-04_00_02_00_to_2012-09...      0\n",
       "1438  sta_ts_interval_2011-04-07_00_02_00_to_2011-04...      0\n",
       "956   sta_ts_interval_2009-11-18_00_02_00_to_2009-11...      0\n",
       "276   sta_ts_interval_2007-12-15_00_02_00_to_2007-12...      0"
      ]
     },
     "execution_count": 27,
     "metadata": {},
     "output_type": "execute_result"
    }
   ],
   "source": [
    "random_sample"
   ]
  },
  {
   "cell_type": "code",
   "execution_count": 40,
   "id": "17dcf68f",
   "metadata": {},
   "outputs": [],
   "source": [
    "def plot_ts(fname, label):\n",
    "    df = pd.read_csv(f\"../data/sta_chunks/{fname}\", header=0, index_col=0, parse_dates = True)\n",
    "    fig = generate_data_chunks.visualize_chunk_ts(df, cols=df.columns, icme=label)\n",
    "    return fig, df"
   ]
  },
  {
   "cell_type": "code",
   "execution_count": 41,
   "id": "d89c7b90",
   "metadata": {},
   "outputs": [
    {
     "data": {
      "application/vnd.jupyter.widget-view+json": {
       "model_id": "84e0e9dc972543ca8edef82138454efa",
       "version_major": 2,
       "version_minor": 0
      },
      "text/plain": [
       "Canvas(toolbar=Toolbar(toolitems=[('Home', 'Reset original view', 'home', 'home'), ('Back', 'Back to previous …"
      ]
     },
     "metadata": {},
     "output_type": "display_data"
    }
   ],
   "source": [
    "idx = 1226\n",
    "fname, label = random_sample.fname.loc[idx], random_sample.label.loc[idx]\n",
    "fig, df = plot_ts(fname,label)"
   ]
  },
  {
   "cell_type": "code",
   "execution_count": 50,
   "id": "1648d7e9",
   "metadata": {},
   "outputs": [],
   "source": [
    "def plot_img(fname, label, cols=None):\n",
    "    img_dict = dict()\n",
    "    img = np.load(f\"../data/sta_chunks/{fname.replace('ts','img').replace('.txt','.npy')}\")\n",
    "    for i, col in enumerate(cols):\n",
    "        img_dict[col] = [img[i]]\n",
    "    fig = generate_data_chunks.visualize_chunk_img(img_dict)\n",
    "    return img\n",
    "#     fig = generate_data_chunks.visualize_chunk_img"
   ]
  },
  {
   "cell_type": "code",
   "execution_count": 51,
   "id": "e3116e00",
   "metadata": {},
   "outputs": [
    {
     "data": {
      "application/vnd.jupyter.widget-view+json": {
       "model_id": "7cd79965401149c2a321cfe4441b70cb",
       "version_major": 2,
       "version_minor": 0
      },
      "text/plain": [
       "Canvas(toolbar=Toolbar(toolitems=[('Home', 'Reset original view', 'home', 'home'), ('Back', 'Back to previous …"
      ]
     },
     "metadata": {},
     "output_type": "display_data"
    }
   ],
   "source": [
    "fig = plot_img(fname,label, cols = df.columns)"
   ]
  }
 ],
 "metadata": {
  "kernelspec": {
   "display_name": "Python 3 (ipykernel)",
   "language": "python",
   "name": "python3"
  },
  "language_info": {
   "codemirror_mode": {
    "name": "ipython",
    "version": 3
   },
   "file_extension": ".py",
   "mimetype": "text/x-python",
   "name": "python",
   "nbconvert_exporter": "python",
   "pygments_lexer": "ipython3",
   "version": "3.7.9"
  }
 },
 "nbformat": 4,
 "nbformat_minor": 5
}
